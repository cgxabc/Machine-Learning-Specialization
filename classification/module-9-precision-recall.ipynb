{
 "cells": [
  {
   "cell_type": "markdown",
   "metadata": {},
   "source": [
    "# Exploring precision and recall\n",
    "\n",
    "The goal of this second notebook is to understand precision-recall in the context of classifiers.\n",
    "\n",
    " * Use Amazon review data in its entirety.\n",
    " * Train a logistic regression model.\n",
    " * Explore various evaluation metrics: accuracy, confusion matrix, precision, recall.\n",
    " * Explore how various metrics can be combined to produce a cost of making an error.\n",
    " * Explore precision and recall curves.\n",
    " "
   ]
  },
  {
   "cell_type": "code",
   "execution_count": 51,
   "metadata": {},
   "outputs": [],
   "source": [
    "import sframe\n",
    "from __future__ import division\n",
    "import numpy as np\n",
    "import matplotlib.pyplot as plt\n",
    "%matplotlib inline"
   ]
  },
  {
   "cell_type": "markdown",
   "metadata": {},
   "source": [
    "# Load amazon review dataset"
   ]
  },
  {
   "cell_type": "code",
   "execution_count": 52,
   "metadata": {
    "collapsed": true
   },
   "outputs": [],
   "source": [
    "products = sframe.SFrame('amazon_baby.gl/')"
   ]
  },
  {
   "cell_type": "code",
   "execution_count": 53,
   "metadata": {},
   "outputs": [
    {
     "data": {
      "text/html": [
       "<div style=\"max-height:1000px;max-width:1500px;overflow:auto;\"><table frame=\"box\" rules=\"cols\">\n",
       "    <tr>\n",
       "        <th style=\"padding-left: 1em; padding-right: 1em; text-align: center\">name</th>\n",
       "        <th style=\"padding-left: 1em; padding-right: 1em; text-align: center\">review</th>\n",
       "        <th style=\"padding-left: 1em; padding-right: 1em; text-align: center\">rating</th>\n",
       "    </tr>\n",
       "    <tr>\n",
       "        <td style=\"padding-left: 1em; padding-right: 1em; text-align: center; vertical-align: top\">Planetwise Flannel Wipes</td>\n",
       "        <td style=\"padding-left: 1em; padding-right: 1em; text-align: center; vertical-align: top\">These flannel wipes are<br>OK, but in my opinion ...</td>\n",
       "        <td style=\"padding-left: 1em; padding-right: 1em; text-align: center; vertical-align: top\">3.0</td>\n",
       "    </tr>\n",
       "    <tr>\n",
       "        <td style=\"padding-left: 1em; padding-right: 1em; text-align: center; vertical-align: top\">Planetwise Wipe Pouch</td>\n",
       "        <td style=\"padding-left: 1em; padding-right: 1em; text-align: center; vertical-align: top\">it came early and was not<br>disappointed. i love ...</td>\n",
       "        <td style=\"padding-left: 1em; padding-right: 1em; text-align: center; vertical-align: top\">5.0</td>\n",
       "    </tr>\n",
       "    <tr>\n",
       "        <td style=\"padding-left: 1em; padding-right: 1em; text-align: center; vertical-align: top\">Annas Dream Full Quilt<br>with 2 Shams ...</td>\n",
       "        <td style=\"padding-left: 1em; padding-right: 1em; text-align: center; vertical-align: top\">Very soft and comfortable<br>and warmer than it ...</td>\n",
       "        <td style=\"padding-left: 1em; padding-right: 1em; text-align: center; vertical-align: top\">5.0</td>\n",
       "    </tr>\n",
       "    <tr>\n",
       "        <td style=\"padding-left: 1em; padding-right: 1em; text-align: center; vertical-align: top\">Stop Pacifier Sucking<br>without tears with ...</td>\n",
       "        <td style=\"padding-left: 1em; padding-right: 1em; text-align: center; vertical-align: top\">This is a product well<br>worth the purchase.  I ...</td>\n",
       "        <td style=\"padding-left: 1em; padding-right: 1em; text-align: center; vertical-align: top\">5.0</td>\n",
       "    </tr>\n",
       "    <tr>\n",
       "        <td style=\"padding-left: 1em; padding-right: 1em; text-align: center; vertical-align: top\">Stop Pacifier Sucking<br>without tears with ...</td>\n",
       "        <td style=\"padding-left: 1em; padding-right: 1em; text-align: center; vertical-align: top\">All of my kids have cried<br>non-stop when I tried to ...</td>\n",
       "        <td style=\"padding-left: 1em; padding-right: 1em; text-align: center; vertical-align: top\">5.0</td>\n",
       "    </tr>\n",
       "    <tr>\n",
       "        <td style=\"padding-left: 1em; padding-right: 1em; text-align: center; vertical-align: top\">Stop Pacifier Sucking<br>without tears with ...</td>\n",
       "        <td style=\"padding-left: 1em; padding-right: 1em; text-align: center; vertical-align: top\">When the Binky Fairy came<br>to our house, we didn't ...</td>\n",
       "        <td style=\"padding-left: 1em; padding-right: 1em; text-align: center; vertical-align: top\">5.0</td>\n",
       "    </tr>\n",
       "    <tr>\n",
       "        <td style=\"padding-left: 1em; padding-right: 1em; text-align: center; vertical-align: top\">A Tale of Baby's Days<br>with Peter Rabbit ...</td>\n",
       "        <td style=\"padding-left: 1em; padding-right: 1em; text-align: center; vertical-align: top\">Lovely book, it's bound<br>tightly so you may no ...</td>\n",
       "        <td style=\"padding-left: 1em; padding-right: 1em; text-align: center; vertical-align: top\">4.0</td>\n",
       "    </tr>\n",
       "    <tr>\n",
       "        <td style=\"padding-left: 1em; padding-right: 1em; text-align: center; vertical-align: top\">Baby Tracker&amp;reg; - Daily<br>Childcare Journal, ...</td>\n",
       "        <td style=\"padding-left: 1em; padding-right: 1em; text-align: center; vertical-align: top\">Perfect for new parents.<br>We were able to keep ...</td>\n",
       "        <td style=\"padding-left: 1em; padding-right: 1em; text-align: center; vertical-align: top\">5.0</td>\n",
       "    </tr>\n",
       "    <tr>\n",
       "        <td style=\"padding-left: 1em; padding-right: 1em; text-align: center; vertical-align: top\">Baby Tracker&amp;reg; - Daily<br>Childcare Journal, ...</td>\n",
       "        <td style=\"padding-left: 1em; padding-right: 1em; text-align: center; vertical-align: top\">A friend of mine pinned<br>this product on Pinte ...</td>\n",
       "        <td style=\"padding-left: 1em; padding-right: 1em; text-align: center; vertical-align: top\">5.0</td>\n",
       "    </tr>\n",
       "    <tr>\n",
       "        <td style=\"padding-left: 1em; padding-right: 1em; text-align: center; vertical-align: top\">Baby Tracker&amp;reg; - Daily<br>Childcare Journal, ...</td>\n",
       "        <td style=\"padding-left: 1em; padding-right: 1em; text-align: center; vertical-align: top\">This has been an easy way<br>for my nanny to record ...</td>\n",
       "        <td style=\"padding-left: 1em; padding-right: 1em; text-align: center; vertical-align: top\">4.0</td>\n",
       "    </tr>\n",
       "</table>\n",
       "[10 rows x 3 columns]<br/>\n",
       "</div>"
      ],
      "text/plain": [
       "Columns:\n",
       "\tname\tstr\n",
       "\treview\tstr\n",
       "\trating\tfloat\n",
       "\n",
       "Rows: 10\n",
       "\n",
       "Data:\n",
       "+-------------------------------+-------------------------------+--------+\n",
       "|              name             |             review            | rating |\n",
       "+-------------------------------+-------------------------------+--------+\n",
       "|    Planetwise Flannel Wipes   | These flannel wipes are OK... |  3.0   |\n",
       "|     Planetwise Wipe Pouch     | it came early and was not ... |  5.0   |\n",
       "| Annas Dream Full Quilt wit... | Very soft and comfortable ... |  5.0   |\n",
       "| Stop Pacifier Sucking with... | This is a product well wor... |  5.0   |\n",
       "| Stop Pacifier Sucking with... | All of my kids have cried ... |  5.0   |\n",
       "| Stop Pacifier Sucking with... | When the Binky Fairy came ... |  5.0   |\n",
       "| A Tale of Baby's Days with... | Lovely book, it's bound ti... |  4.0   |\n",
       "| Baby Tracker&reg; - Daily ... | Perfect for new parents. W... |  5.0   |\n",
       "| Baby Tracker&reg; - Daily ... | A friend of mine pinned th... |  5.0   |\n",
       "| Baby Tracker&reg; - Daily ... | This has been an easy way ... |  4.0   |\n",
       "+-------------------------------+-------------------------------+--------+\n",
       "[10 rows x 3 columns]"
      ]
     },
     "execution_count": 53,
     "metadata": {},
     "output_type": "execute_result"
    }
   ],
   "source": [
    "products.head()"
   ]
  },
  {
   "cell_type": "markdown",
   "metadata": {},
   "source": [
    "# Extract word counts and sentiments"
   ]
  },
  {
   "cell_type": "markdown",
   "metadata": {},
   "source": [
    "As in the first assignment of this course, we compute the word counts for individual words and extract positive and negative sentiments from ratings. To summarize, we perform the following:\n",
    "\n",
    "1. Remove punctuation.\n",
    "2. Remove reviews with \"neutral\" sentiment (rating 3).\n",
    "3. Set reviews with rating 4 or more to be positive and those with 2 or less to be negative."
   ]
  },
  {
   "cell_type": "code",
   "execution_count": 54,
   "metadata": {
    "collapsed": true
   },
   "outputs": [],
   "source": [
    "def remove_punctuation(text):\n",
    "    import string\n",
    "    return text.translate(None, string.punctuation) \n",
    "\n",
    "# Remove punctuation.\n",
    "products['review_clean'] = products['review'].apply(remove_punctuation)\n",
    "\n",
    "# Drop neutral sentiment reviews.\n",
    "products = products[products['rating'] != 3]\n",
    "\n",
    "# Positive sentiment to +1 and negative sentiment to -1\n",
    "products['sentiment'] = products['rating'].apply(lambda rating : +1 if rating > 3 else -1)"
   ]
  },
  {
   "cell_type": "markdown",
   "metadata": {},
   "source": [
    "Now, let's remember what the dataset looks like by taking a quick peek:"
   ]
  },
  {
   "cell_type": "code",
   "execution_count": 55,
   "metadata": {},
   "outputs": [
    {
     "data": {
      "text/html": [
       "<div style=\"max-height:1000px;max-width:1500px;overflow:auto;\"><table frame=\"box\" rules=\"cols\">\n",
       "    <tr>\n",
       "        <th style=\"padding-left: 1em; padding-right: 1em; text-align: center\">name</th>\n",
       "        <th style=\"padding-left: 1em; padding-right: 1em; text-align: center\">review</th>\n",
       "        <th style=\"padding-left: 1em; padding-right: 1em; text-align: center\">rating</th>\n",
       "        <th style=\"padding-left: 1em; padding-right: 1em; text-align: center\">review_clean</th>\n",
       "        <th style=\"padding-left: 1em; padding-right: 1em; text-align: center\">sentiment</th>\n",
       "    </tr>\n",
       "    <tr>\n",
       "        <td style=\"padding-left: 1em; padding-right: 1em; text-align: center; vertical-align: top\">Planetwise Wipe Pouch</td>\n",
       "        <td style=\"padding-left: 1em; padding-right: 1em; text-align: center; vertical-align: top\">it came early and was not<br>disappointed. i love ...</td>\n",
       "        <td style=\"padding-left: 1em; padding-right: 1em; text-align: center; vertical-align: top\">5.0</td>\n",
       "        <td style=\"padding-left: 1em; padding-right: 1em; text-align: center; vertical-align: top\">it came early and was not<br>disappointed i love ...</td>\n",
       "        <td style=\"padding-left: 1em; padding-right: 1em; text-align: center; vertical-align: top\">1</td>\n",
       "    </tr>\n",
       "    <tr>\n",
       "        <td style=\"padding-left: 1em; padding-right: 1em; text-align: center; vertical-align: top\">Annas Dream Full Quilt<br>with 2 Shams ...</td>\n",
       "        <td style=\"padding-left: 1em; padding-right: 1em; text-align: center; vertical-align: top\">Very soft and comfortable<br>and warmer than it ...</td>\n",
       "        <td style=\"padding-left: 1em; padding-right: 1em; text-align: center; vertical-align: top\">5.0</td>\n",
       "        <td style=\"padding-left: 1em; padding-right: 1em; text-align: center; vertical-align: top\">Very soft and comfortable<br>and warmer than it ...</td>\n",
       "        <td style=\"padding-left: 1em; padding-right: 1em; text-align: center; vertical-align: top\">1</td>\n",
       "    </tr>\n",
       "    <tr>\n",
       "        <td style=\"padding-left: 1em; padding-right: 1em; text-align: center; vertical-align: top\">Stop Pacifier Sucking<br>without tears with ...</td>\n",
       "        <td style=\"padding-left: 1em; padding-right: 1em; text-align: center; vertical-align: top\">This is a product well<br>worth the purchase.  I ...</td>\n",
       "        <td style=\"padding-left: 1em; padding-right: 1em; text-align: center; vertical-align: top\">5.0</td>\n",
       "        <td style=\"padding-left: 1em; padding-right: 1em; text-align: center; vertical-align: top\">This is a product well<br>worth the purchase  I ...</td>\n",
       "        <td style=\"padding-left: 1em; padding-right: 1em; text-align: center; vertical-align: top\">1</td>\n",
       "    </tr>\n",
       "    <tr>\n",
       "        <td style=\"padding-left: 1em; padding-right: 1em; text-align: center; vertical-align: top\">Stop Pacifier Sucking<br>without tears with ...</td>\n",
       "        <td style=\"padding-left: 1em; padding-right: 1em; text-align: center; vertical-align: top\">All of my kids have cried<br>non-stop when I tried to ...</td>\n",
       "        <td style=\"padding-left: 1em; padding-right: 1em; text-align: center; vertical-align: top\">5.0</td>\n",
       "        <td style=\"padding-left: 1em; padding-right: 1em; text-align: center; vertical-align: top\">All of my kids have cried<br>nonstop when I tried to ...</td>\n",
       "        <td style=\"padding-left: 1em; padding-right: 1em; text-align: center; vertical-align: top\">1</td>\n",
       "    </tr>\n",
       "    <tr>\n",
       "        <td style=\"padding-left: 1em; padding-right: 1em; text-align: center; vertical-align: top\">Stop Pacifier Sucking<br>without tears with ...</td>\n",
       "        <td style=\"padding-left: 1em; padding-right: 1em; text-align: center; vertical-align: top\">When the Binky Fairy came<br>to our house, we didn't ...</td>\n",
       "        <td style=\"padding-left: 1em; padding-right: 1em; text-align: center; vertical-align: top\">5.0</td>\n",
       "        <td style=\"padding-left: 1em; padding-right: 1em; text-align: center; vertical-align: top\">When the Binky Fairy came<br>to our house we didnt ...</td>\n",
       "        <td style=\"padding-left: 1em; padding-right: 1em; text-align: center; vertical-align: top\">1</td>\n",
       "    </tr>\n",
       "    <tr>\n",
       "        <td style=\"padding-left: 1em; padding-right: 1em; text-align: center; vertical-align: top\">A Tale of Baby's Days<br>with Peter Rabbit ...</td>\n",
       "        <td style=\"padding-left: 1em; padding-right: 1em; text-align: center; vertical-align: top\">Lovely book, it's bound<br>tightly so you may no ...</td>\n",
       "        <td style=\"padding-left: 1em; padding-right: 1em; text-align: center; vertical-align: top\">4.0</td>\n",
       "        <td style=\"padding-left: 1em; padding-right: 1em; text-align: center; vertical-align: top\">Lovely book its bound<br>tightly so you may no ...</td>\n",
       "        <td style=\"padding-left: 1em; padding-right: 1em; text-align: center; vertical-align: top\">1</td>\n",
       "    </tr>\n",
       "    <tr>\n",
       "        <td style=\"padding-left: 1em; padding-right: 1em; text-align: center; vertical-align: top\">Baby Tracker&amp;reg; - Daily<br>Childcare Journal, ...</td>\n",
       "        <td style=\"padding-left: 1em; padding-right: 1em; text-align: center; vertical-align: top\">Perfect for new parents.<br>We were able to keep ...</td>\n",
       "        <td style=\"padding-left: 1em; padding-right: 1em; text-align: center; vertical-align: top\">5.0</td>\n",
       "        <td style=\"padding-left: 1em; padding-right: 1em; text-align: center; vertical-align: top\">Perfect for new parents<br>We were able to keep ...</td>\n",
       "        <td style=\"padding-left: 1em; padding-right: 1em; text-align: center; vertical-align: top\">1</td>\n",
       "    </tr>\n",
       "    <tr>\n",
       "        <td style=\"padding-left: 1em; padding-right: 1em; text-align: center; vertical-align: top\">Baby Tracker&amp;reg; - Daily<br>Childcare Journal, ...</td>\n",
       "        <td style=\"padding-left: 1em; padding-right: 1em; text-align: center; vertical-align: top\">A friend of mine pinned<br>this product on Pinte ...</td>\n",
       "        <td style=\"padding-left: 1em; padding-right: 1em; text-align: center; vertical-align: top\">5.0</td>\n",
       "        <td style=\"padding-left: 1em; padding-right: 1em; text-align: center; vertical-align: top\">A friend of mine pinned<br>this product on Pinte ...</td>\n",
       "        <td style=\"padding-left: 1em; padding-right: 1em; text-align: center; vertical-align: top\">1</td>\n",
       "    </tr>\n",
       "    <tr>\n",
       "        <td style=\"padding-left: 1em; padding-right: 1em; text-align: center; vertical-align: top\">Baby Tracker&amp;reg; - Daily<br>Childcare Journal, ...</td>\n",
       "        <td style=\"padding-left: 1em; padding-right: 1em; text-align: center; vertical-align: top\">This has been an easy way<br>for my nanny to record ...</td>\n",
       "        <td style=\"padding-left: 1em; padding-right: 1em; text-align: center; vertical-align: top\">4.0</td>\n",
       "        <td style=\"padding-left: 1em; padding-right: 1em; text-align: center; vertical-align: top\">This has been an easy way<br>for my nanny to record ...</td>\n",
       "        <td style=\"padding-left: 1em; padding-right: 1em; text-align: center; vertical-align: top\">1</td>\n",
       "    </tr>\n",
       "    <tr>\n",
       "        <td style=\"padding-left: 1em; padding-right: 1em; text-align: center; vertical-align: top\">Baby Tracker&amp;reg; - Daily<br>Childcare Journal, ...</td>\n",
       "        <td style=\"padding-left: 1em; padding-right: 1em; text-align: center; vertical-align: top\">I love this journal and<br>our nanny uses it ...</td>\n",
       "        <td style=\"padding-left: 1em; padding-right: 1em; text-align: center; vertical-align: top\">4.0</td>\n",
       "        <td style=\"padding-left: 1em; padding-right: 1em; text-align: center; vertical-align: top\">I love this journal and<br>our nanny uses it ...</td>\n",
       "        <td style=\"padding-left: 1em; padding-right: 1em; text-align: center; vertical-align: top\">1</td>\n",
       "    </tr>\n",
       "</table>\n",
       "[166752 rows x 5 columns]<br/>Note: Only the head of the SFrame is printed.<br/>You can use print_rows(num_rows=m, num_columns=n) to print more rows and columns.\n",
       "</div>"
      ],
      "text/plain": [
       "Columns:\n",
       "\tname\tstr\n",
       "\treview\tstr\n",
       "\trating\tfloat\n",
       "\treview_clean\tstr\n",
       "\tsentiment\tint\n",
       "\n",
       "Rows: 166752\n",
       "\n",
       "Data:\n",
       "+-------------------------------+-------------------------------+--------+\n",
       "|              name             |             review            | rating |\n",
       "+-------------------------------+-------------------------------+--------+\n",
       "|     Planetwise Wipe Pouch     | it came early and was not ... |  5.0   |\n",
       "| Annas Dream Full Quilt wit... | Very soft and comfortable ... |  5.0   |\n",
       "| Stop Pacifier Sucking with... | This is a product well wor... |  5.0   |\n",
       "| Stop Pacifier Sucking with... | All of my kids have cried ... |  5.0   |\n",
       "| Stop Pacifier Sucking with... | When the Binky Fairy came ... |  5.0   |\n",
       "| A Tale of Baby's Days with... | Lovely book, it's bound ti... |  4.0   |\n",
       "| Baby Tracker&reg; - Daily ... | Perfect for new parents. W... |  5.0   |\n",
       "| Baby Tracker&reg; - Daily ... | A friend of mine pinned th... |  5.0   |\n",
       "| Baby Tracker&reg; - Daily ... | This has been an easy way ... |  4.0   |\n",
       "| Baby Tracker&reg; - Daily ... | I love this journal and ou... |  4.0   |\n",
       "+-------------------------------+-------------------------------+--------+\n",
       "+-------------------------------+-----------+\n",
       "|          review_clean         | sentiment |\n",
       "+-------------------------------+-----------+\n",
       "| it came early and was not ... |     1     |\n",
       "| Very soft and comfortable ... |     1     |\n",
       "| This is a product well wor... |     1     |\n",
       "| All of my kids have cried ... |     1     |\n",
       "| When the Binky Fairy came ... |     1     |\n",
       "| Lovely book its bound tigh... |     1     |\n",
       "| Perfect for new parents We... |     1     |\n",
       "| A friend of mine pinned th... |     1     |\n",
       "| This has been an easy way ... |     1     |\n",
       "| I love this journal and ou... |     1     |\n",
       "+-------------------------------+-----------+\n",
       "[166752 rows x 5 columns]\n",
       "Note: Only the head of the SFrame is printed.\n",
       "You can use print_rows(num_rows=m, num_columns=n) to print more rows and columns."
      ]
     },
     "execution_count": 55,
     "metadata": {},
     "output_type": "execute_result"
    }
   ],
   "source": [
    "products"
   ]
  },
  {
   "cell_type": "markdown",
   "metadata": {},
   "source": [
    "## Split data into training and test sets\n",
    "\n",
    "We split the data into a 80-20 split where 80% is in the training set and 20% is in the test set."
   ]
  },
  {
   "cell_type": "code",
   "execution_count": 56,
   "metadata": {
    "collapsed": true
   },
   "outputs": [],
   "source": [
    "train_data, test_data = products.random_split(.8, seed=1)"
   ]
  },
  {
   "cell_type": "code",
   "execution_count": 57,
   "metadata": {
    "collapsed": true
   },
   "outputs": [],
   "source": [
    "# calculate the word-count-matrix\n",
    "from sklearn.feature_extraction.text import CountVectorizer\n",
    "\n",
    "vectorizer = CountVectorizer(token_pattern=r'\\b\\w+\\b')\n",
    "# use this token pattern to keep single-letter words\n",
    "#first, learn vocabulary from the training data and assign columns to words\n",
    "#then convert the training data into a sparse matrix\n",
    "train_matrix = vectorizer.fit_transform(train_data['review_clean'])\n",
    "#second, convert the test data into a sparse matrix, using the same word-column mapping\n",
    "test_matrix = vectorizer.transform(test_data['review_clean'])"
   ]
  },
  {
   "cell_type": "markdown",
   "metadata": {},
   "source": [
    "## Train a logistic regression classifier\n",
    "\n",
    "We will now train a logistic regression classifier with **sentiment** as the target and **word_count** as the features. We will set `validation_set=None` to make sure everyone gets exactly the same results.  \n",
    "\n",
    "Remember, even though we now know how to implement logistic regression, we will use GraphLab Create for its efficiency at processing this Amazon dataset in its entirety.  The focus of this assignment is instead on the topic of precision and recall."
   ]
  },
  {
   "cell_type": "code",
   "execution_count": 58,
   "metadata": {
    "scrolled": true
   },
   "outputs": [
    {
     "data": {
      "text/plain": [
       "LogisticRegression(C=1.0, class_weight=None, dual=False, fit_intercept=True,\n",
       "          intercept_scaling=1, max_iter=100, multi_class='ovr', n_jobs=1,\n",
       "          penalty='l2', random_state=None, solver='liblinear', tol=0.0001,\n",
       "          verbose=0, warm_start=False)"
      ]
     },
     "execution_count": 58,
     "metadata": {},
     "output_type": "execute_result"
    }
   ],
   "source": [
    "from sklearn.linear_model import LogisticRegression\n",
    "model = LogisticRegression()\n",
    "model.fit(train_matrix, train_data['sentiment'])"
   ]
  },
  {
   "cell_type": "markdown",
   "metadata": {},
   "source": [
    "# Model Evaluation"
   ]
  },
  {
   "cell_type": "markdown",
   "metadata": {},
   "source": [
    "We will explore the advanced model evaluation concepts that were discussed in the lectures.\n",
    "\n",
    "## Accuracy\n",
    "\n",
    "One performance metric we will use for our more advanced exploration is accuracy, which we have seen many times in past assignments.  Recall that the accuracy is given by\n",
    "\n",
    "$$\n",
    "\\mbox{accuracy} = \\frac{\\mbox{# correctly classified data points}}{\\mbox{# total data points}}\n",
    "$$\n",
    "\n",
    "To obtain the accuracy of our trained models using GraphLab Create, simply pass the option `metric='accuracy'` to the `evaluate` function. We compute the **accuracy** of our logistic regression model on the **test_data** as follows:"
   ]
  },
  {
   "cell_type": "code",
   "execution_count": 59,
   "metadata": {},
   "outputs": [
    {
     "data": {
      "text/plain": [
       "0.93229541636669067"
      ]
     },
     "execution_count": 59,
     "metadata": {},
     "output_type": "execute_result"
    }
   ],
   "source": [
    "from sklearn.metrics import accuracy_score\n",
    "accuracy = accuracy_score(test_data['sentiment'].to_numpy(), model.predict(test_matrix))\n",
    "accuracy"
   ]
  },
  {
   "cell_type": "markdown",
   "metadata": {},
   "source": [
    "## Baseline: Majority class prediction\n",
    "\n",
    "Recall from an earlier assignment that we used the **majority class classifier** as a baseline (i.e reference) model for a point of comparison with a more sophisticated classifier. The majority classifier model predicts the majority class for all data points. \n",
    "\n",
    "Typically, a good model should beat the majority class classifier. Since the majority class in this dataset is the positive class (i.e., there are more positive than negative reviews), the accuracy of the majority class classifier can be computed as follows:"
   ]
  },
  {
   "cell_type": "code",
   "execution_count": 60,
   "metadata": {},
   "outputs": [
    {
     "name": "stdout",
     "output_type": "stream",
     "text": [
      "Baseline accuracy (majority class classifier): 0.842782577394\n"
     ]
    }
   ],
   "source": [
    "baseline = len(test_data[test_data['sentiment'] == 1])/len(test_data)\n",
    "print \"Baseline accuracy (majority class classifier): %s\" % baseline"
   ]
  },
  {
   "cell_type": "markdown",
   "metadata": {},
   "source": [
    "** Quiz Question:** Using accuracy as the evaluation metric, was our **logistic regression model** better than the baseline (majority class classifier)?"
   ]
  },
  {
   "cell_type": "markdown",
   "metadata": {},
   "source": [
    "## Confusion Matrix\n",
    "\n",
    "The accuracy, while convenient, does not tell the whole story. For a fuller picture, we turn to the **confusion matrix**. In the case of binary classification, the confusion matrix is a 2-by-2 matrix laying out correct and incorrect predictions made in each label as follows:\n",
    "```\n",
    "              +---------------------------------------------+\n",
    "              |                Predicted label              |\n",
    "              +----------------------+----------------------+\n",
    "              |          (+1)        |         (-1)         |\n",
    "+-------+-----+----------------------+----------------------+\n",
    "| True  |(+1) | # of true positives  | # of false negatives |\n",
    "| label +-----+----------------------+----------------------+\n",
    "|       |(-1) | # of false positives | # of true negatives  |\n",
    "+-------+-----+----------------------+----------------------+\n",
    "```\n",
    "To print out the confusion matrix for a classifier, use `metric='confusion_matrix'`:"
   ]
  },
  {
   "cell_type": "code",
   "execution_count": 61,
   "metadata": {},
   "outputs": [
    {
     "name": "stdout",
     "output_type": "stream",
     "text": [
      " target_label | predicted_label | count \n",
      "--------------+-----------------+-------\n",
      "     -1       |       -1        |  3788\n",
      "     -1       |        1        |  1453\n",
      "      1       |       -1        |   804\n",
      "      1       |        1        | 27291\n"
     ]
    }
   ],
   "source": [
    "from sklearn.metrics import confusion_matrix\n",
    "cmat = confusion_matrix(y_true=test_data['sentiment'].to_numpy(),\n",
    "                        y_pred=model.predict(test_matrix),\n",
    "                        labels=model.classes_)    # use the same order of class as the LR model.\n",
    "print ' target_label | predicted_label | count '\n",
    "print '--------------+-----------------+-------'\n",
    "# Print out the confusion matrix.\n",
    "# NOTE: Your tool may arrange entries in a different order. Consult appropriate manuals.\n",
    "for i, target_label in enumerate(model.classes_):\n",
    "    for j, predicted_label in enumerate(model.classes_):\n",
    "        print '{0:^13} | {1:^15} | {2:5d}'.format(target_label, predicted_label, cmat[i,j])"
   ]
  },
  {
   "cell_type": "markdown",
   "metadata": {},
   "source": [
    "**Quiz Question**: How many predicted values in the **test set** are **false positives**?"
   ]
  },
  {
   "cell_type": "code",
   "execution_count": 62,
   "metadata": {},
   "outputs": [
    {
     "data": {
      "text/plain": [
       "1453"
      ]
     },
     "execution_count": 62,
     "metadata": {},
     "output_type": "execute_result"
    }
   ],
   "source": [
    "1453"
   ]
  },
  {
   "cell_type": "markdown",
   "metadata": {},
   "source": [
    "## Computing the cost of mistakes\n",
    "\n",
    "\n",
    "Put yourself in the shoes of a manufacturer that sells a baby product on Amazon.com and you want to monitor your product's reviews in order to respond to complaints.  Even a few negative reviews may generate a lot of bad publicity about the product. So you don't want to miss any reviews with negative sentiments --- you'd rather put up with false alarms about potentially negative reviews instead of missing negative reviews entirely. In other words, **false positives cost more than false negatives**. (It may be the other way around for other scenarios, but let's stick with the manufacturer's scenario for now.)\n",
    "\n",
    "Suppose you know the costs involved in each kind of mistake: \n",
    "1. \\$100 for each false positive.\n",
    "2. \\$1 for each false negative.\n",
    "3. Correctly classified reviews incur no cost.\n",
    "\n",
    "**Quiz Question**: Given the stipulation, what is the cost associated with the logistic regression classifier's performance on the **test set**?"
   ]
  },
  {
   "cell_type": "code",
   "execution_count": 63,
   "metadata": {},
   "outputs": [
    {
     "data": {
      "text/plain": [
       "146104"
      ]
     },
     "execution_count": 63,
     "metadata": {},
     "output_type": "execute_result"
    }
   ],
   "source": [
    "1453*100+804"
   ]
  },
  {
   "cell_type": "markdown",
   "metadata": {},
   "source": [
    "## Precision and Recall"
   ]
  },
  {
   "cell_type": "markdown",
   "metadata": {},
   "source": [
    "You may not have exact dollar amounts for each kind of mistake. Instead, you may simply prefer to reduce the percentage of false positives to be less than, say, 3.5% of all positive predictions. This is where **precision** comes in:\n",
    "\n",
    "$$\n",
    "[\\text{precision}] = \\frac{[\\text{# positive data points with positive predicitions}]}{\\text{[# all data points with positive predictions]}} = \\frac{[\\text{# true positives}]}{[\\text{# true positives}] + [\\text{# false positives}]}\n",
    "$$"
   ]
  },
  {
   "cell_type": "markdown",
   "metadata": {},
   "source": [
    "So to keep the percentage of false positives below 3.5% of positive predictions, we must raise the precision to 96.5% or higher. \n",
    "\n",
    "**First**, let us compute the precision of the logistic regression classifier on the **test_data**."
   ]
  },
  {
   "cell_type": "code",
   "execution_count": 64,
   "metadata": {},
   "outputs": [
    {
     "name": "stdout",
     "output_type": "stream",
     "text": [
      "Precision on test data: 0.949450320067\n"
     ]
    }
   ],
   "source": [
    "from sklearn.metrics import precision_score\n",
    "precision = precision_score(y_true=test_data['sentiment'].to_numpy(),\n",
    "                           y_pred=model.predict(test_matrix))\n",
    "print \"Precision on test data: %s\"% precision"
   ]
  },
  {
   "cell_type": "markdown",
   "metadata": {},
   "source": [
    "A complementary metric is **recall**, which measures the ratio between the number of true positives and that of (ground-truth) positive reviews:\n",
    "\n",
    "$$\n",
    "[\\text{recall}] = \\frac{[\\text{# positive data points with positive predicitions}]}{\\text{[# all positive data points]}} = \\frac{[\\text{# true positives}]}{[\\text{# true positives}] + [\\text{# false negatives}]}\n",
    "$$\n",
    "\n",
    "Let us compute the recall on the **test_data**."
   ]
  },
  {
   "cell_type": "code",
   "execution_count": 65,
   "metadata": {},
   "outputs": [
    {
     "name": "stdout",
     "output_type": "stream",
     "text": [
      "Recall on test data: 0.971382808329 \n"
     ]
    }
   ],
   "source": [
    "from sklearn.metrics import recall_score\n",
    "recall = recall_score(y_true=test_data['sentiment'].to_numpy(),\n",
    "                     y_pred=model.predict(test_matrix))\n",
    "print \"Recall on test data: %s \"%recall"
   ]
  },
  {
   "cell_type": "markdown",
   "metadata": {
    "collapsed": true
   },
   "source": [
    "# Precision-recall tradeoff\n",
    "\n",
    "In this part, we will explore the trade-off between precision and recall discussed in the lecture.  We first examine what happens when we use a different threshold value for making class predictions.  We then explore a range of threshold values and plot the associated precision-recall curve.  \n"
   ]
  },
  {
   "cell_type": "markdown",
   "metadata": {},
   "source": [
    "## Varying the threshold\n",
    "\n",
    "False positives are costly in our example, so we may want to be more conservative about making positive predictions. To achieve this, instead of thresholding class probabilities at 0.5, we can choose a higher threshold. \n",
    "\n",
    "Write a function called `apply_threshold` that accepts two things\n",
    "* `probabilities` (an SArray of probability values)\n",
    "* `threshold` (a float between 0 and 1).\n",
    "\n",
    "The function should return an SArray, where each element is set to +1 or -1 depending whether the corresponding probability exceeds `threshold`."
   ]
  },
  {
   "cell_type": "code",
   "execution_count": 66,
   "metadata": {
    "collapsed": true
   },
   "outputs": [],
   "source": [
    "def apply_threshold(probabilities, threshold):\n",
    "    ### YOUR CODE GOES HERE\n",
    "    # +1 if >= threshold and -1 otherwise.\n",
    "    return sframe.SArray(probabilities).apply(lambda x: -1 if x < threshold else 1)"
   ]
  },
  {
   "cell_type": "markdown",
   "metadata": {},
   "source": [
    "Run prediction with `output_type='probability'` to get the list of probability values. Then use thresholds set at 0.5 (default) and 0.9 to make predictions from these probability values."
   ]
  },
  {
   "cell_type": "code",
   "execution_count": 67,
   "metadata": {},
   "outputs": [
    {
     "data": {
      "text/plain": [
       "array([ 0.78450326,  0.99999924,  0.93319226, ...,  0.99999483,\n",
       "        0.99999759,  0.98175025])"
      ]
     },
     "execution_count": 67,
     "metadata": {},
     "output_type": "execute_result"
    }
   ],
   "source": [
    "probabilities = model.predict_proba(test_matrix)[:,1]\n",
    "probabilities"
   ]
  },
  {
   "cell_type": "code",
   "execution_count": 68,
   "metadata": {},
   "outputs": [
    {
     "data": {
      "text/plain": [
       "dtype: int\n",
       "Rows: 33336\n",
       "[1, 1, 1, 1, 1, 1, 1, 1, 1, 1, 1, -1, -1, 1, 1, 1, 1, 1, -1, 1, 1, 1, 1, 1, 1, 1, 1, 1, 1, 1, 1, 1, 1, 1, 1, 1, 1, 1, 1, 1, 1, 1, 1, 1, 1, 1, 1, 1, -1, 1, -1, 1, 1, 1, 1, 1, -1, -1, 1, 1, -1, 1, 1, 1, 1, -1, 1, 1, 1, 1, 1, 1, 1, 1, 1, -1, -1, 1, 1, 1, 1, 1, -1, 1, 1, 1, 1, -1, 1, -1, 1, 1, 1, 1, 1, 1, 1, 1, 1, 1, ... ]"
      ]
     },
     "execution_count": 68,
     "metadata": {},
     "output_type": "execute_result"
    }
   ],
   "source": [
    "predictions_with_default_threshold = apply_threshold(probabilities, 0.5)\n",
    "predictions_with_default_threshold"
   ]
  },
  {
   "cell_type": "code",
   "execution_count": 69,
   "metadata": {},
   "outputs": [
    {
     "data": {
      "text/plain": [
       "dtype: int\n",
       "Rows: 33336\n",
       "[-1, 1, 1, 1, 1, 1, 1, -1, 1, 1, 1, -1, -1, 1, 1, 1, 1, 1, -1, 1, 1, 1, 1, 1, 1, 1, 1, 1, 1, 1, 1, 1, 1, 1, 1, 1, 1, 1, 1, 1, -1, 1, 1, 1, 1, 1, 1, -1, -1, 1, -1, 1, 1, 1, -1, 1, -1, -1, 1, 1, -1, 1, 1, 1, 1, -1, 1, 1, 1, -1, 1, 1, 1, 1, 1, -1, -1, 1, 1, 1, 1, -1, -1, 1, 1, 1, 1, -1, 1, -1, 1, 1, 1, 1, 1, 1, 1, 1, 1, 1, ... ]"
      ]
     },
     "execution_count": 69,
     "metadata": {},
     "output_type": "execute_result"
    }
   ],
   "source": [
    "predictions_with_high_threshold = apply_threshold(probabilities, 0.9)\n",
    "predictions_with_high_threshold"
   ]
  },
  {
   "cell_type": "code",
   "execution_count": 70,
   "metadata": {},
   "outputs": [
    {
     "name": "stdout",
     "output_type": "stream",
     "text": [
      "Number of positive predicted reviews (threshold = 0.5): 28744\n"
     ]
    }
   ],
   "source": [
    "print \"Number of positive predicted reviews (threshold = 0.5): %s\" % (predictions_with_default_threshold == 1).sum()"
   ]
  },
  {
   "cell_type": "code",
   "execution_count": 71,
   "metadata": {},
   "outputs": [
    {
     "name": "stdout",
     "output_type": "stream",
     "text": [
      "Number of positive predicted reviews (threshold = 0.9): 25069\n"
     ]
    }
   ],
   "source": [
    "print \"Number of positive predicted reviews (threshold = 0.9): %s\" % (predictions_with_high_threshold == 1).sum()"
   ]
  },
  {
   "cell_type": "markdown",
   "metadata": {},
   "source": [
    "**Quiz Question**: What happens to the number of positive predicted reviews as the threshold increased from 0.5 to 0.9?"
   ]
  },
  {
   "cell_type": "markdown",
   "metadata": {},
   "source": [
    "## Exploring the associated precision and recall as the threshold varies"
   ]
  },
  {
   "cell_type": "markdown",
   "metadata": {},
   "source": [
    "By changing the probability threshold, it is possible to influence precision and recall. We can explore this as follows:"
   ]
  },
  {
   "cell_type": "code",
   "execution_count": 72,
   "metadata": {},
   "outputs": [
    {
     "name": "stdout",
     "output_type": "stream",
     "text": [
      "Precision on test data: 0.949450320067\n"
     ]
    }
   ],
   "source": [
    "from sklearn.metrics import precision_score\n",
    "precision = precision_score(y_true=test_data['sentiment'].to_numpy(),\n",
    "                           y_pred=model.predict(test_matrix))\n",
    "print \"Precision on test data: %s\"% precision  #default"
   ]
  },
  {
   "cell_type": "code",
   "execution_count": 73,
   "metadata": {},
   "outputs": [
    {
     "data": {
      "text/plain": [
       "dtype: int\n",
       "Rows: 33336\n",
       "[1, 1, 1, 1, 1, 1, 1, 1, 1, 1, 1, -1, -1, 1, 1, 1, 1, 1, -1, 1, 1, 1, 1, 1, 1, 1, 1, 1, 1, 1, 1, 1, 1, 1, 1, 1, 1, 1, 1, 1, 1, 1, 1, 1, 1, 1, 1, 1, -1, 1, -1, 1, 1, 1, 1, 1, -1, -1, 1, 1, -1, 1, 1, 1, 1, -1, 1, 1, 1, 1, 1, 1, 1, 1, 1, -1, -1, 1, 1, 1, 1, 1, -1, 1, 1, 1, 1, -1, 1, -1, 1, 1, 1, 1, 1, 1, 1, 1, 1, 1, ... ]"
      ]
     },
     "execution_count": 73,
     "metadata": {},
     "output_type": "execute_result"
    }
   ],
   "source": [
    "predictions_with_default_threshold = apply_threshold(probabilities, 0.5)\n",
    "predictions_with_default_threshold"
   ]
  },
  {
   "cell_type": "code",
   "execution_count": 74,
   "metadata": {},
   "outputs": [],
   "source": [
    "# Threshold = 0.5\n",
    "precision_with_default_threshold = precision_score(y_true=test_data['sentiment'].to_numpy(),\n",
    "                                                   y_pred=predictions_with_default_threshold.to_numpy())\n",
    "\n",
    "recall_with_default_threshold = recall_score(y_true=test_data['sentiment'].to_numpy(),\n",
    "                                        y_pred=predictions_with_default_threshold.to_numpy())\n",
    "\n",
    "# Threshold = 0.9\n",
    "precision_with_high_threshold = precision_score(y_true=test_data['sentiment'].to_numpy(),\n",
    "                                        y_pred=predictions_with_high_threshold.to_numpy())\n",
    "recall_with_high_threshold = recall_score(y_true=test_data['sentiment'].to_numpy(),\n",
    "                                        y_pred=predictions_with_high_threshold.to_numpy())"
   ]
  },
  {
   "cell_type": "code",
   "execution_count": 75,
   "metadata": {},
   "outputs": [
    {
     "name": "stdout",
     "output_type": "stream",
     "text": [
      "Precision (threshold = 0.5): 0.949450320067\n",
      "Recall (threshold = 0.5)   : 0.971382808329\n"
     ]
    }
   ],
   "source": [
    "print \"Precision (threshold = 0.5): %s\" % precision_with_default_threshold\n",
    "print \"Recall (threshold = 0.5)   : %s\" % recall_with_default_threshold"
   ]
  },
  {
   "cell_type": "code",
   "execution_count": 76,
   "metadata": {},
   "outputs": [
    {
     "name": "stdout",
     "output_type": "stream",
     "text": [
      "Precision (threshold = 0.9): 0.981491084606\n",
      "Recall (threshold = 0.9)   : 0.875778608293\n"
     ]
    }
   ],
   "source": [
    "print \"Precision (threshold = 0.9): %s\" % precision_with_high_threshold\n",
    "print \"Recall (threshold = 0.9)   : %s\" % recall_with_high_threshold"
   ]
  },
  {
   "cell_type": "markdown",
   "metadata": {},
   "source": [
    "**Quiz Question (variant 1)**: Does the **precision** increase with a higher threshold?\n",
    "\n",
    "**Quiz Question (variant 2)**: Does the **recall** increase with a higher threshold?"
   ]
  },
  {
   "cell_type": "markdown",
   "metadata": {},
   "source": [
    "## Precision-recall curve\n",
    "\n",
    "Now, we will explore various different values of tresholds, compute the precision and recall scores, and then plot the precision-recall curve."
   ]
  },
  {
   "cell_type": "code",
   "execution_count": 77,
   "metadata": {},
   "outputs": [
    {
     "name": "stdout",
     "output_type": "stream",
     "text": [
      "[ 0.5         0.50505051  0.51010101  0.51515152  0.52020202  0.52525253\n",
      "  0.53030303  0.53535354  0.54040404  0.54545455  0.55050505  0.55555556\n",
      "  0.56060606  0.56565657  0.57070707  0.57575758  0.58080808  0.58585859\n",
      "  0.59090909  0.5959596   0.6010101   0.60606061  0.61111111  0.61616162\n",
      "  0.62121212  0.62626263  0.63131313  0.63636364  0.64141414  0.64646465\n",
      "  0.65151515  0.65656566  0.66161616  0.66666667  0.67171717  0.67676768\n",
      "  0.68181818  0.68686869  0.69191919  0.6969697   0.7020202   0.70707071\n",
      "  0.71212121  0.71717172  0.72222222  0.72727273  0.73232323  0.73737374\n",
      "  0.74242424  0.74747475  0.75252525  0.75757576  0.76262626  0.76767677\n",
      "  0.77272727  0.77777778  0.78282828  0.78787879  0.79292929  0.7979798\n",
      "  0.8030303   0.80808081  0.81313131  0.81818182  0.82323232  0.82828283\n",
      "  0.83333333  0.83838384  0.84343434  0.84848485  0.85353535  0.85858586\n",
      "  0.86363636  0.86868687  0.87373737  0.87878788  0.88383838  0.88888889\n",
      "  0.89393939  0.8989899   0.9040404   0.90909091  0.91414141  0.91919192\n",
      "  0.92424242  0.92929293  0.93434343  0.93939394  0.94444444  0.94949495\n",
      "  0.95454545  0.95959596  0.96464646  0.96969697  0.97474747  0.97979798\n",
      "  0.98484848  0.98989899  0.99494949  1.        ]\n"
     ]
    }
   ],
   "source": [
    "threshold_values = np.linspace(0.5, 1, num=100)\n",
    "print threshold_values"
   ]
  },
  {
   "cell_type": "markdown",
   "metadata": {},
   "source": [
    "For each of the values of threshold, we compute the precision and recall scores."
   ]
  },
  {
   "cell_type": "code",
   "execution_count": 78,
   "metadata": {},
   "outputs": [
    {
     "data": {
      "text/plain": [
       "0.94945032006679653"
      ]
     },
     "execution_count": 78,
     "metadata": {},
     "output_type": "execute_result"
    }
   ],
   "source": [
    "# Threshold = 0.5\n",
    "precision_with_default_threshold = precision_score(y_true=test_data['sentiment'].to_numpy(),\n",
    "                                                   y_pred=predictions_with_default_threshold.to_numpy())\n",
    "precision_with_default_threshold"
   ]
  },
  {
   "cell_type": "code",
   "execution_count": 79,
   "metadata": {},
   "outputs": [
    {
     "data": {
      "text/plain": [
       "0.97138280832888413"
      ]
     },
     "execution_count": 79,
     "metadata": {},
     "output_type": "execute_result"
    }
   ],
   "source": [
    "# Threshold = 0.5\n",
    "recall_with_default_threshold = recall_score(y_true=test_data['sentiment'].to_numpy(),\n",
    "                                        y_pred=predictions_with_default_threshold.to_numpy())\n",
    "recall_with_default_threshold"
   ]
  },
  {
   "cell_type": "code",
   "execution_count": 81,
   "metadata": {},
   "outputs": [
    {
     "data": {
      "text/plain": [
       "0.98149108460648615"
      ]
     },
     "execution_count": 81,
     "metadata": {},
     "output_type": "execute_result"
    }
   ],
   "source": [
    "# Threshold = 0.9\n",
    "precision_with_high_threshold = precision_score(y_true=test_data['sentiment'].to_numpy(),\n",
    "                                        y_pred=predictions_with_high_threshold.to_numpy())\n",
    "precision_with_high_threshold "
   ]
  },
  {
   "cell_type": "code",
   "execution_count": 80,
   "metadata": {},
   "outputs": [
    {
     "data": {
      "text/plain": [
       "0.87577860829329057"
      ]
     },
     "execution_count": 80,
     "metadata": {},
     "output_type": "execute_result"
    }
   ],
   "source": [
    "# Threshold = 0.9\n",
    "recall_with_high_threshold = recall_score(y_true=test_data['sentiment'].to_numpy(),\n",
    "                                        y_pred=predictions_with_high_threshold.to_numpy())\n",
    "recall_with_high_threshold"
   ]
  },
  {
   "cell_type": "code",
   "execution_count": 82,
   "metadata": {},
   "outputs": [
    {
     "name": "stdout",
     "output_type": "stream",
     "text": [
      "Recall on test data: 0.971382808329 \n"
     ]
    }
   ],
   "source": [
    "from sklearn.metrics import recall_score\n",
    "recall_default = recall_score(y_true=test_data['sentiment'].to_numpy(),\n",
    "                     y_pred=model.predict(test_matrix))\n",
    "print \"Recall on test data: %s \"%recall_default"
   ]
  },
  {
   "cell_type": "code",
   "execution_count": 83,
   "metadata": {},
   "outputs": [
    {
     "name": "stdout",
     "output_type": "stream",
     "text": [
      "Precision (threshold =0.5): 0.949450320067\n",
      "Recall(threshold =0.5) : 0.971382808329\n",
      "Precision (threshold =0.505050505051): 0.949986068543\n",
      "Recall(threshold =0.505050505051) : 0.970848905499\n",
      "Precision (threshold =0.510101010101): 0.950360790602\n",
      "Recall(threshold =0.510101010101) : 0.970386189713\n",
      "Precision (threshold =0.515151515152): 0.951003315303\n",
      "Recall(threshold =0.515151515152) : 0.96995906745\n",
      "Precision (threshold =0.520202020202): 0.951388161341\n",
      "Recall(threshold =0.520202020202) : 0.969674319274\n",
      "Precision (threshold =0.525252525253): 0.951768488746\n",
      "Recall(threshold =0.525252525253) : 0.969282790532\n",
      "Precision (threshold =0.530303030303): 0.952186079049\n",
      "Recall(threshold =0.530303030303) : 0.968962448834\n",
      "Precision (threshold =0.535353535354): 0.952535965557\n",
      "Recall(threshold =0.535353535354) : 0.968606513615\n",
      "Precision (threshold =0.540404040404): 0.952883065929\n",
      "Recall(threshold =0.540404040404) : 0.968179391351\n",
      "Precision (threshold =0.545454545455): 0.953168816601\n",
      "Recall(threshold =0.545454545455) : 0.967859049653\n",
      "Precision (threshold =0.550505050505): 0.953787852205\n",
      "Recall(threshold =0.550505050505) : 0.967503114433\n",
      "Precision (threshold =0.555555555556): 0.954009268361\n",
      "Recall(threshold =0.555555555556) : 0.967218366257\n",
      "Precision (threshold =0.560606060606): 0.954229310103\n",
      "Recall(threshold =0.560606060606) : 0.96689802456\n",
      "Precision (threshold =0.565656565657): 0.954745244207\n",
      "Recall(threshold =0.565656565657) : 0.966435308774\n",
      "Precision (threshold =0.570707070707): 0.954921349896\n",
      "Recall(threshold =0.570707070707) : 0.965865812422\n",
      "Precision (threshold =0.575757575758): 0.955096147073\n",
      "Recall(threshold =0.575757575758) : 0.965260722548\n",
      "Precision (threshold =0.580808080808): 0.95550698068\n",
      "Recall(threshold =0.580808080808) : 0.964655632675\n",
      "Precision (threshold =0.585858585859): 0.955860560299\n",
      "Recall(threshold =0.585858585859) : 0.964264103933\n",
      "Precision (threshold =0.590909090909): 0.956136323503\n",
      "Recall(threshold =0.590909090909) : 0.963623420537\n",
      "Precision (threshold =0.59595959596): 0.956587831866\n",
      "Recall(threshold =0.59595959596) : 0.96312511123\n",
      "Precision (threshold =0.60101010101): 0.956869405229\n",
      "Recall(threshold =0.60101010101) : 0.9625912084\n",
      "Precision (threshold =0.606060606061): 0.957320960544\n",
      "Recall(threshold =0.606060606061) : 0.96205730557\n",
      "Precision (threshold =0.611111111111): 0.957649643832\n",
      "Recall(threshold =0.611111111111) : 0.961808150917\n",
      "Precision (threshold =0.616161616162): 0.957792438107\n",
      "Recall(threshold =0.616161616162) : 0.961167467521\n",
      "Precision (threshold =0.621212121212): 0.958281555122\n",
      "Recall(threshold =0.621212121212) : 0.960669158213\n",
      "Precision (threshold =0.626262626263): 0.958838374862\n",
      "Recall(threshold =0.626262626263) : 0.960135255384\n",
      "Precision (threshold =0.631313131313): 0.959405130395\n",
      "Recall(threshold =0.631313131313) : 0.959814913686\n",
      "Precision (threshold =0.636363636364): 0.959780556446\n",
      "Recall(threshold =0.636363636364) : 0.958960669158\n",
      "Precision (threshold =0.641414141414): 0.960303873315\n",
      "Recall(threshold =0.641414141414) : 0.958355579285\n",
      "Precision (threshold =0.646464646465): 0.960732517046\n",
      "Recall(threshold =0.646464646465) : 0.957928457021\n",
      "Precision (threshold =0.651515151515): 0.961076560154\n",
      "Recall(threshold =0.651515151515) : 0.957074212493\n",
      "Precision (threshold =0.656565656566): 0.96133071007\n",
      "Recall(threshold =0.656565656566) : 0.956540309664\n",
      "Precision (threshold =0.661616161616): 0.961826320501\n",
      "Recall(threshold =0.661616161616) : 0.956006406834\n",
      "Precision (threshold =0.666666666667): 0.96225265271\n",
      "Recall(threshold =0.666666666667) : 0.955436910482\n",
      "Precision (threshold =0.671717171717): 0.962750305031\n",
      "Recall(threshold =0.671717171717) : 0.954903007653\n",
      "Precision (threshold =0.676767676768): 0.962865864608\n",
      "Recall(threshold =0.676767676768) : 0.954297917779\n",
      "Precision (threshold =0.681818181818): 0.96324402086\n",
      "Recall(threshold =0.681818181818) : 0.953301299164\n",
      "Precision (threshold =0.686868686869): 0.963564356436\n",
      "Recall(threshold =0.686868686869) : 0.952589428724\n",
      "Precision (threshold =0.691919191919): 0.964169850768\n",
      "Recall(threshold =0.691919191919) : 0.952055525894\n",
      "Precision (threshold =0.69696969697): 0.964450700159\n",
      "Recall(threshold =0.69696969697) : 0.951165687845\n",
      "Precision (threshold =0.70202020202): 0.964768374648\n",
      "Recall(threshold =0.70202020202) : 0.950311443317\n",
      "Precision (threshold =0.707070707071): 0.96515162481\n",
      "Recall(threshold =0.707070707071) : 0.949314824702\n",
      "Precision (threshold =0.712121212121): 0.965304939881\n",
      "Recall(threshold =0.712121212121) : 0.948709734828\n",
      "Precision (threshold =0.717171717172): 0.965478478442\n",
      "Recall(threshold =0.717171717172) : 0.947677522691\n",
      "Precision (threshold =0.722222222222): 0.965731295604\n",
      "Recall(threshold =0.722222222222) : 0.946894465207\n",
      "Precision (threshold =0.727272727273): 0.966145454545\n",
      "Recall(threshold =0.727272727273) : 0.94568428546\n",
      "Precision (threshold =0.732323232323): 0.96643489024\n",
      "Recall(threshold =0.732323232323) : 0.944901227977\n",
      "Precision (threshold =0.737373737374): 0.966999708285\n",
      "Recall(threshold =0.737373737374) : 0.943904609361\n",
      "Precision (threshold =0.742424242424): 0.967594622242\n",
      "Recall(threshold =0.742424242424) : 0.942694429614\n",
      "Precision (threshold =0.747474747475): 0.967799773135\n",
      "Recall(threshold =0.747474747475) : 0.941413062823\n",
      "Precision (threshold =0.752525252525): 0.968200468933\n",
      "Recall(threshold =0.752525252525) : 0.940665598861\n",
      "Precision (threshold =0.757575757576): 0.968629609246\n",
      "Recall(threshold =0.757575757576) : 0.939668980246\n",
      "Precision (threshold =0.762626262626): 0.969204762605\n",
      "Recall(threshold =0.762626262626) : 0.938743548674\n",
      "Precision (threshold =0.767676767677): 0.96956201693\n",
      "Recall(threshold =0.767676767677) : 0.937640149493\n",
      "Precision (threshold =0.772727272727): 0.970307255358\n",
      "Recall(threshold =0.772727272727) : 0.93632318918\n",
      "Precision (threshold =0.777777777778): 0.970701248799\n",
      "Recall(threshold =0.777777777778) : 0.935148602954\n",
      "Precision (threshold =0.782828282828): 0.970952821462\n",
      "Recall(threshold =0.782828282828) : 0.933974016729\n",
      "Precision (threshold =0.787878787879): 0.97148577997\n",
      "Recall(threshold =0.787878787879) : 0.93255027585\n",
      "Precision (threshold =0.792929292929): 0.97192096271\n",
      "Recall(threshold =0.792929292929) : 0.931411283146\n",
      "Precision (threshold =0.79797979798): 0.972387615362\n",
      "Recall(threshold =0.79797979798) : 0.930058729311\n",
      "Precision (threshold =0.80303030303): 0.97357754091\n",
      "Recall(threshold =0.80303030303) : 0.923295960135\n",
      "Precision (threshold =0.808080808081): 0.973890142965\n",
      "Recall(threshold =0.808080808081) : 0.921373909948\n",
      "Precision (threshold =0.813131313131): 0.974215922799\n",
      "Recall(threshold =0.813131313131) : 0.919878982025\n",
      "Precision (threshold =0.818181818182): 0.974396737283\n",
      "Recall(threshold =0.818181818182) : 0.918419647624\n",
      "Precision (threshold =0.823232323232): 0.974666767646\n",
      "Recall(threshold =0.823232323232) : 0.916141662217\n",
      "Precision (threshold =0.828282828283): 0.975355990127\n",
      "Recall(threshold =0.828282828283) : 0.914255205553\n",
      "Precision (threshold =0.833333333333): 0.975827020442\n",
      "Recall(threshold =0.833333333333) : 0.91240434241\n",
      "Precision (threshold =0.838383838384): 0.976234073396\n",
      "Recall(threshold =0.838383838384) : 0.910873820965\n",
      "Precision (threshold =0.843434343434): 0.976496216464\n",
      "Recall(threshold =0.843434343434) : 0.909450080085\n",
      "Precision (threshold =0.848484848485): 0.976671135798\n",
      "Recall(threshold =0.848484848485) : 0.907492436377\n",
      "Precision (threshold =0.853535353535): 0.977172283925\n",
      "Recall(threshold =0.853535353535) : 0.90503648336\n",
      "Precision (threshold =0.858585858586): 0.977482166956\n",
      "Recall(threshold =0.858585858586) : 0.90233137569\n",
      "Precision (threshold =0.863636363636): 0.978058973764\n",
      "Recall(threshold =0.863636363636) : 0.899626268019\n",
      "Precision (threshold =0.868686868687): 0.978455805287\n",
      "Recall(threshold =0.868686868687) : 0.897170315003\n",
      "Precision (threshold =0.873737373737): 0.978972781434\n",
      "Recall(threshold =0.873737373737) : 0.894856736074\n",
      "Precision (threshold =0.878787878788): 0.979636505765\n",
      "Recall(threshold =0.878787878788) : 0.892116034882\n",
      "Precision (threshold =0.883838383838): 0.979967004478\n",
      "Recall(threshold =0.883838383838) : 0.887987186332\n",
      "Precision (threshold =0.888888888889): 0.980272243046\n",
      "Recall(threshold =0.888888888889) : 0.884321053568\n",
      "Precision (threshold =0.893939393939): 0.980885910299\n",
      "Recall(threshold =0.893939393939) : 0.880405766151\n",
      "Precision (threshold =0.89898989899): 0.981472627301\n",
      "Recall(threshold =0.89898989899) : 0.876775226909\n"
     ]
    },
    {
     "name": "stdout",
     "output_type": "stream",
     "text": [
      "Precision (threshold =0.90404040404): 0.981856049986\n",
      "Recall(threshold =0.90404040404) : 0.872539597793\n",
      "Precision (threshold =0.909090909091): 0.982407407407\n",
      "Recall(threshold =0.909090909091) : 0.868588716854\n",
      "Precision (threshold =0.914141414141): 0.982908059943\n",
      "Recall(threshold =0.914141414141) : 0.863783591386\n",
      "Precision (threshold =0.919191919192): 0.983274863343\n",
      "Recall(threshold =0.919191919192) : 0.857946253782\n",
      "Precision (threshold =0.924242424242): 0.983973041834\n",
      "Recall(threshold =0.924242424242) : 0.852251290265\n",
      "Precision (threshold =0.929292929293): 0.984292108753\n",
      "Recall(threshold =0.929292929293) : 0.845310553479\n",
      "Precision (threshold =0.934343434343): 0.985100238564\n",
      "Recall(threshold =0.934343434343) : 0.83776472682\n",
      "Precision (threshold =0.939393939394): 0.985304674634\n",
      "Recall(threshold =0.939393939394) : 0.830503648336\n",
      "Precision (threshold =0.944444444444): 0.986036978522\n",
      "Recall(threshold =0.944444444444) : 0.821925609539\n",
      "Precision (threshold =0.949494949495): 0.986732356627\n",
      "Recall(threshold =0.949494949495) : 0.812671293825\n",
      "Precision (threshold =0.954545454545): 0.987242437527\n",
      "Recall(threshold =0.954545454545) : 0.801530521445\n",
      "Precision (threshold =0.959595959596): 0.987618581036\n",
      "Recall(threshold =0.959595959596) : 0.789286349884\n",
      "Precision (threshold =0.964646464646): 0.988225131842\n",
      "Recall(threshold =0.964646464646) : 0.773696387258\n",
      "Precision (threshold =0.969696969697): 0.988797471296\n",
      "Recall(threshold =0.969696969697) : 0.757145399537\n",
      "Precision (threshold =0.974747474747): 0.989426849105\n",
      "Recall(threshold =0.974747474747) : 0.736109628048\n",
      "Precision (threshold =0.979797979798): 0.990356414972\n",
      "Recall(threshold =0.979797979798) : 0.709129738388\n",
      "Precision (threshold =0.984848484848): 0.990802194931\n",
      "Recall(threshold =0.984848484848) : 0.6748175832\n",
      "Precision (threshold =0.989898989899): 0.992176870748\n",
      "Recall(threshold =0.989898989899) : 0.622957821676\n",
      "Precision (threshold =0.994949494949): 0.992693457323\n",
      "Recall(threshold =0.994949494949) : 0.531945185976\n",
      "Precision (threshold =1.0): 1.0\n",
      "Recall(threshold =1.0) : 0.000605089873643\n"
     ]
    }
   ],
   "source": [
    "precision_all=[]\n",
    "recall_all=[]\n",
    "for threshold in threshold_values:\n",
    "    pred = apply_threshold(probabilities, threshold)\n",
    "    precision = sum((pred==1)&(test_data['sentiment']==1))/sum(pred==1)\n",
    "    recall = sum((pred==1)&(test_data['sentiment']==1))/sum(test_data['sentiment']==1)\n",
    "    print \"Precision (threshold =%s): %s\"%(threshold, precision)\n",
    "    print \"Recall(threshold =%s) : %s\" %(threshold, recall)\n",
    "    precision_all.append(precision)\n",
    "    recall_all.append(recall)\n",
    "       "
   ]
  },
  {
   "cell_type": "markdown",
   "metadata": {},
   "source": [
    "Now, let's plot the precision-recall curve to visualize the precision-recall tradeoff as we vary the threshold."
   ]
  },
  {
   "cell_type": "code",
   "execution_count": 84,
   "metadata": {},
   "outputs": [
    {
     "data": {
      "image/png": "[encoded data removed]",
      "text/plain": [
       "<matplotlib.figure.Figure at 0x11c447f50>"
      ]
     },
     "metadata": {},
     "output_type": "display_data"
    }
   ],
   "source": [
    "import matplotlib.pyplot as plt\n",
    "%matplotlib inline\n",
    "\n",
    "def plot_pr_curve(precision, recall, title):\n",
    "    plt.rcParams['figure.figsize'] = 7, 5\n",
    "    plt.locator_params(axis = 'x', nbins = 5)\n",
    "    plt.plot(precision, recall, 'b-', linewidth=4.0, color = '#B0017F')\n",
    "    plt.title(title)\n",
    "    plt.xlabel('Precision')\n",
    "    plt.ylabel('Recall')\n",
    "    plt.rcParams.update({'font.size': 16})\n",
    "    \n",
    "plot_pr_curve(precision_all, recall_all, 'Precision recall curve (all)')"
   ]
  },
  {
   "cell_type": "markdown",
   "metadata": {},
   "source": [
    "**Quiz Question**: Using `threshold` = 0.98, how many **false negatives** do we get on the **test_data**? (**Hint**: You may use the `graphlab.evaluation.confusion_matrix` function implemented in GraphLab Create.)"
   ]
  },
  {
   "cell_type": "code",
   "execution_count": 85,
   "metadata": {},
   "outputs": [
    {
     "data": {
      "text/plain": [
       "8210"
      ]
     },
     "execution_count": 85,
     "metadata": {},
     "output_type": "execute_result"
    }
   ],
   "source": [
    "predictions_98threshold = apply_threshold(probabilities, 0.98)\n",
    "sum((test_data['sentiment']==1)&(predictions_98threshold==-1))"
   ]
  },
  {
   "cell_type": "markdown",
   "metadata": {},
   "source": [
    "This is the number of false negatives (i.e the number of reviews to look at when not needed) that we have to deal with using this classifier."
   ]
  },
  {
   "cell_type": "markdown",
   "metadata": {},
   "source": [
    "# Evaluating specific search terms"
   ]
  },
  {
   "cell_type": "markdown",
   "metadata": {},
   "source": [
    "So far, we looked at the number of false positives for the **entire test set**. In this section, let's select reviews using a specific search term and optimize the precision on these reviews only. After all, a manufacturer would be interested in tuning the false positive rate just for their products (the reviews they want to read) rather than that of the entire set of products on Amazon.\n",
    "\n",
    "## Precision-Recall on all baby related items\n",
    "\n",
    "From the **test set**, select all the reviews for all products with the word 'baby' in them."
   ]
  },
  {
   "cell_type": "code",
   "execution_count": 86,
   "metadata": {
    "collapsed": true
   },
   "outputs": [],
   "source": [
    "baby_reviews =  test_data[test_data['name'].apply(lambda x: 'baby' in x.lower())]"
   ]
  },
  {
   "cell_type": "code",
   "execution_count": 93,
   "metadata": {},
   "outputs": [],
   "source": [
    "#test_data['name'].apply(lambda x: 'baby' in x.lower())"
   ]
  },
  {
   "cell_type": "code",
   "execution_count": 87,
   "metadata": {
    "collapsed": true
   },
   "outputs": [],
   "source": [
    "baby_matrix = vectorizer.transform(baby_reviews['review_clean'])"
   ]
  },
  {
   "cell_type": "markdown",
   "metadata": {},
   "source": [
    "Now, let's predict the probability of classifying these reviews as positive:"
   ]
  },
  {
   "cell_type": "code",
   "execution_count": 88,
   "metadata": {
    "collapsed": true
   },
   "outputs": [],
   "source": [
    "probabilities = model.predict_proba(baby_matrix)[:,1]"
   ]
  },
  {
   "cell_type": "markdown",
   "metadata": {},
   "source": [
    "Let's plot the precision-recall curve for the **baby_reviews** dataset.\n",
    "\n",
    "**First**, let's consider the following `threshold_values` ranging from 0.5 to 1:"
   ]
  },
  {
   "cell_type": "code",
   "execution_count": 89,
   "metadata": {
    "collapsed": true
   },
   "outputs": [],
   "source": [
    "threshold_values = np.linspace(0.5, 1, num=100)"
   ]
  },
  {
   "cell_type": "markdown",
   "metadata": {},
   "source": [
    "**Second**, as we did above, let's compute precision and recall for each value in `threshold_values` on the **baby_reviews** dataset.  Complete the code block below."
   ]
  },
  {
   "cell_type": "code",
   "execution_count": 90,
   "metadata": {},
   "outputs": [
    {
     "name": "stdout",
     "output_type": "stream",
     "text": [
      "Precision (threshold = 0.5): 0.946657183499\n",
      "Recall (threshold = 0.5) : 0.967824031994\n",
      "Precision (threshold = 0.505050505051): 0.947134211463\n",
      "Recall (threshold = 0.505050505051) : 0.967278676604\n",
      "Precision (threshold = 0.510101010101): 0.94760292283\n",
      "Recall (threshold = 0.510101010101) : 0.966551536084\n",
      "Precision (threshold = 0.515151515152): 0.948420489024\n",
      "Recall (threshold = 0.515151515152) : 0.966006180694\n",
      "Precision (threshold = 0.520202020202): 0.948919449902\n",
      "Recall (threshold = 0.520202020202) : 0.965824395564\n",
      "Precision (threshold = 0.525252525253): 0.949231319271\n",
      "Recall (threshold = 0.525252525253) : 0.965279040175\n",
      "Precision (threshold = 0.530303030303): 0.949713672155\n",
      "Recall (threshold = 0.530303030303) : 0.964733684785\n",
      "Precision (threshold = 0.535353535354): 0.949856733524\n",
      "Recall (threshold = 0.535353535354) : 0.964188329395\n",
      "Precision (threshold = 0.540404040404): 0.950519899606\n",
      "Recall (threshold = 0.540404040404) : 0.963824759135\n",
      "Precision (threshold = 0.545454545455): 0.951031390135\n",
      "Recall (threshold = 0.545454545455) : 0.963824759135\n",
      "Precision (threshold = 0.550505050505): 0.951867816092\n",
      "Recall (threshold = 0.550505050505) : 0.963461188875\n",
      "Precision (threshold = 0.555555555556): 0.952201257862\n",
      "Recall (threshold = 0.555555555556) : 0.963279403745\n",
      "Precision (threshold = 0.560606060606): 0.952535059331\n",
      "Recall (threshold = 0.560606060606) : 0.963097618615\n",
      "Precision (threshold = 0.565656565657): 0.952852258413\n",
      "Recall (threshold = 0.565656565657) : 0.962552263225\n",
      "Precision (threshold = 0.570707070707): 0.953350144092\n",
      "Recall (threshold = 0.570707070707) : 0.962188692965\n",
      "Precision (threshold = 0.575757575758): 0.953660295709\n",
      "Recall (threshold = 0.575757575758) : 0.961461552445\n",
      "Precision (threshold = 0.580808080808): 0.954135066811\n",
      "Recall (threshold = 0.580808080808) : 0.960552626795\n",
      "Precision (threshold = 0.585858585859): 0.954274353877\n",
      "Recall (threshold = 0.585858585859) : 0.959825486275\n",
      "Precision (threshold = 0.590909090909): 0.954438618695\n",
      "Recall (threshold = 0.590909090909) : 0.959643701145\n",
      "Precision (threshold = 0.59595959596): 0.954915806627\n",
      "Recall (threshold = 0.59595959596) : 0.958734775495\n",
      "Precision (threshold = 0.60101010101): 0.954891304348\n",
      "Recall (threshold = 0.60101010101) : 0.958189420105\n",
      "Precision (threshold = 0.606060606061): 0.955039883974\n",
      "Recall (threshold = 0.606060606061) : 0.957644064716\n",
      "Precision (threshold = 0.611111111111): 0.95590636908\n",
      "Recall (threshold = 0.611111111111) : 0.957644064716\n",
      "Precision (threshold = 0.616161616162): 0.956197746274\n",
      "Recall (threshold = 0.616161616162) : 0.956371568806\n",
      "Precision (threshold = 0.621212121212): 0.956513828239\n",
      "Recall (threshold = 0.621212121212) : 0.955644428286\n",
      "Precision (threshold = 0.626262626263): 0.95771053591\n",
      "Recall (threshold = 0.626262626263) : 0.955099072896\n",
      "Precision (threshold = 0.631313131313): 0.958211678832\n",
      "Recall (threshold = 0.631313131313) : 0.954553717506\n",
      "Precision (threshold = 0.636363636364): 0.958363769175\n",
      "Recall (threshold = 0.636363636364) : 0.954008362116\n",
      "Precision (threshold = 0.641414141414): 0.959026888604\n",
      "Recall (threshold = 0.641414141414) : 0.953099436466\n",
      "Precision (threshold = 0.646464646465): 0.959523809524\n",
      "Recall (threshold = 0.646464646465) : 0.952372295946\n",
      "Precision (threshold = 0.651515151515): 0.96016886931\n",
      "Recall (threshold = 0.651515151515) : 0.950918014906\n",
      "Precision (threshold = 0.656565656566): 0.960139603233\n",
      "Recall (threshold = 0.656565656566) : 0.950190874386\n",
      "Precision (threshold = 0.661616161616): 0.960470674756\n",
      "Recall (threshold = 0.661616161616) : 0.949645518997\n",
      "Precision (threshold = 0.666666666667): 0.960795140806\n",
      "Recall (threshold = 0.666666666667) : 0.948918378477\n",
      "Precision (threshold = 0.671717171717): 0.96129745669\n",
      "Recall (threshold = 0.671717171717) : 0.948191237957\n",
      "Precision (threshold = 0.676767676768): 0.961268904463\n",
      "Recall (threshold = 0.676767676768) : 0.947464097437\n",
      "Precision (threshold = 0.681818181818): 0.961218836565\n",
      "Recall (threshold = 0.681818181818) : 0.946191601527\n",
      "Precision (threshold = 0.686868686869): 0.961901239134\n",
      "Recall (threshold = 0.686868686869) : 0.945464461007\n",
      "Precision (threshold = 0.691919191919): 0.962763986662\n",
      "Recall (threshold = 0.691919191919) : 0.944737320487\n",
      "Precision (threshold = 0.69696969697): 0.963450834879\n",
      "Recall (threshold = 0.69696969697) : 0.944010179967\n",
      "Precision (threshold = 0.70202020202): 0.963589076723\n",
      "Recall (threshold = 0.70202020202) : 0.942919469187\n",
      "Precision (threshold = 0.707070707071): 0.964265773311\n",
      "Recall (threshold = 0.707070707071) : 0.941828758408\n",
      "Precision (threshold = 0.712121212121): 0.96425912137\n",
      "Recall (threshold = 0.712121212121) : 0.941646973278\n",
      "Precision (threshold = 0.717171717172): 0.964245810056\n",
      "Recall (threshold = 0.717171717172) : 0.941283403018\n",
      "Precision (threshold = 0.722222222222): 0.964405516213\n",
      "Recall (threshold = 0.722222222222) : 0.940738047628\n",
      "Precision (threshold = 0.727272727273): 0.964552238806\n",
      "Recall (threshold = 0.727272727273) : 0.939829121978\n",
      "Precision (threshold = 0.732323232323): 0.964899178491\n",
      "Recall (threshold = 0.732323232323) : 0.939465551718\n",
      "Precision (threshold = 0.737373737374): 0.966466841514\n",
      "Recall (threshold = 0.737373737374) : 0.937829485548\n",
      "Precision (threshold = 0.742424242424): 0.96753003003\n",
      "Recall (threshold = 0.742424242424) : 0.937102345028\n",
      "Precision (threshold = 0.747474747475): 0.967857142857\n",
      "Recall (threshold = 0.747474747475) : 0.936011634248\n",
      "Precision (threshold = 0.752525252525): 0.96836753907\n",
      "Recall (threshold = 0.752525252525) : 0.934920923468\n",
      "Precision (threshold = 0.757575757576): 0.968532127379\n",
      "Recall (threshold = 0.757575757576) : 0.934375568079\n",
      "Precision (threshold = 0.762626262626): 0.96885617214\n",
      "Recall (threshold = 0.762626262626) : 0.933103072169\n",
      "Precision (threshold = 0.767676767677): 0.968986384266\n",
      "Recall (threshold = 0.767676767677) : 0.931467005999\n",
      "Precision (threshold = 0.772727272727): 0.969673995451\n",
      "Recall (threshold = 0.772727272727) : 0.930012724959\n",
      "Precision (threshold = 0.777777777778): 0.970001898614\n",
      "Recall (threshold = 0.777777777778) : 0.928740229049\n",
      "Precision (threshold = 0.782828282828): 0.970140737923\n",
      "Recall (threshold = 0.782828282828) : 0.927285948009\n",
      "Precision (threshold = 0.787878787879): 0.970274390244\n",
      "Recall (threshold = 0.787878787879) : 0.92564988184\n",
      "Precision (threshold = 0.792929292929): 0.970784800458\n",
      "Recall (threshold = 0.792929292929) : 0.9241956008\n",
      "Precision (threshold = 0.79797979798): 0.971291866029\n",
      "Recall (threshold = 0.79797979798) : 0.92255953463\n",
      "Precision (threshold = 0.80303030303): 0.972952086553\n",
      "Recall (threshold = 0.80303030303) : 0.915469914561\n",
      "Precision (threshold = 0.808080808081): 0.973093302362\n",
      "Recall (threshold = 0.808080808081) : 0.913833848391\n",
      "Precision (threshold = 0.813131313131): 0.973250629967\n",
      "Recall (threshold = 0.813131313131) : 0.912743137611\n",
      "Precision (threshold = 0.818181818182): 0.9731830548\n",
      "Recall (threshold = 0.818181818182) : 0.910379930922\n",
      "Precision (threshold = 0.823232323232): 0.973489278752\n",
      "Recall (threshold = 0.823232323232) : 0.907834939102\n",
      "Precision (threshold = 0.828282828283): 0.973817897616\n",
      "Recall (threshold = 0.828282828283) : 0.906017087802\n",
      "Precision (threshold = 0.833333333333): 0.974148061105\n",
      "Recall (threshold = 0.833333333333) : 0.904199236502\n",
      "Precision (threshold = 0.838383838384): 0.974484789009\n",
      "Recall (threshold = 0.838383838384) : 0.902563170333\n",
      "Precision (threshold = 0.843434343434): 0.975024582104\n",
      "Recall (threshold = 0.843434343434) : 0.901290674423\n",
      "Precision (threshold = 0.848484848485): 0.974975369458\n",
      "Recall (threshold = 0.848484848485) : 0.899472823123\n",
      "Precision (threshold = 0.853535353535): 0.975658024936\n",
      "Recall (threshold = 0.853535353535) : 0.896200690783\n",
      "Precision (threshold = 0.858585858586): 0.975982532751\n",
      "Recall (threshold = 0.858585858586) : 0.893837484094\n",
      "Precision (threshold = 0.863636363636): 0.976656025539\n",
      "Recall (threshold = 0.863636363636) : 0.889838211234\n",
      "Precision (threshold = 0.868686868687): 0.976795359072\n",
      "Recall (threshold = 0.868686868687) : 0.887656789675\n",
      "Precision (threshold = 0.873737373737): 0.977117623444\n",
      "Recall (threshold = 0.873737373737) : 0.884930012725\n",
      "Precision (threshold = 0.878787878788): 0.978221415608\n",
      "Recall (threshold = 0.878787878788) : 0.881839665515\n",
      "Precision (threshold = 0.883838383838): 0.978913219789\n",
      "Recall (threshold = 0.883838383838) : 0.877658607526\n"
     ]
    },
    {
     "name": "stdout",
     "output_type": "stream",
     "text": [
      "Precision (threshold = 0.888888888889): 0.979048006509\n",
      "Recall (threshold = 0.888888888889) : 0.874931830576\n",
      "Precision (threshold = 0.893939393939): 0.979779411765\n",
      "Recall (threshold = 0.893939393939) : 0.872023268497\n",
      "Precision (threshold = 0.89898989899): 0.980279375514\n",
      "Recall (threshold = 0.89898989899) : 0.867478640247\n",
      "Precision (threshold = 0.90404040404): 0.980606560759\n",
      "Recall (threshold = 0.90404040404) : 0.864024722778\n",
      "Precision (threshold = 0.909090909091): 0.980928689884\n",
      "Recall (threshold = 0.909090909091) : 0.860207235048\n",
      "Precision (threshold = 0.914141414141): 0.981257809246\n",
      "Recall (threshold = 0.914141414141) : 0.856571532449\n",
      "Precision (threshold = 0.919191919192): 0.981734201134\n",
      "Recall (threshold = 0.919191919192) : 0.850027267769\n",
      "Precision (threshold = 0.924242424242): 0.982667512154\n",
      "Recall (threshold = 0.924242424242) : 0.84511906926\n",
      "Precision (threshold = 0.929292929293): 0.982924226254\n",
      "Recall (threshold = 0.929292929293) : 0.837120523541\n",
      "Precision (threshold = 0.934343434343): 0.984439161444\n",
      "Recall (threshold = 0.934343434343) : 0.828031267042\n",
      "Precision (threshold = 0.939393939394): 0.984960767219\n",
      "Recall (threshold = 0.939393939394) : 0.821487002363\n",
      "Precision (threshold = 0.944444444444): 0.985689123734\n",
      "Recall (threshold = 0.944444444444) : 0.813852026904\n",
      "Precision (threshold = 0.949494949495): 0.986411227445\n",
      "Recall (threshold = 0.949494949495) : 0.804944555535\n",
      "Precision (threshold = 0.954545454545): 0.98752551599\n",
      "Recall (threshold = 0.954545454545) : 0.791492455917\n",
      "Precision (threshold = 0.959595959596): 0.988026709648\n",
      "Recall (threshold = 0.959595959596) : 0.780039992729\n",
      "Precision (threshold = 0.964646464646): 0.988243592758\n",
      "Recall (threshold = 0.964646464646) : 0.764042901291\n",
      "Precision (threshold = 0.969696969697): 0.9888996139\n",
      "Recall (threshold = 0.969696969697) : 0.744955462643\n",
      "Precision (threshold = 0.974747474747): 0.989562624254\n",
      "Recall (threshold = 0.974747474747) : 0.723868387566\n",
      "Precision (threshold = 0.979797979798): 0.990157990158\n",
      "Recall (threshold = 0.979797979798) : 0.6949645519\n",
      "Precision (threshold = 0.984848484848): 0.990444990445\n",
      "Recall (threshold = 0.984848484848) : 0.659516451554\n",
      "Precision (threshold = 0.989898989899): 0.991674100506\n",
      "Recall (threshold = 0.989898989899) : 0.606253408471\n",
      "Precision (threshold = 0.994949494949): 0.991681109185\n",
      "Recall (threshold = 0.994949494949) : 0.520087256862\n",
      "Precision (threshold = 1.0): 1.0\n",
      "Recall (threshold = 1.0) : 0.000545355389929\n"
     ]
    }
   ],
   "source": [
    "precision_all = []\n",
    "recall_all = []\n",
    "\n",
    "for threshold in threshold_values:\n",
    "    \n",
    "    # Make predictions. Use the `apply_threshold` function \n",
    "    predictions = apply_threshold(probabilities, threshold)\n",
    "    # Calculate the precision.\n",
    "    precision = sum((predictions==1)&(baby_reviews['sentiment']==1))/sum(predictions==1)\n",
    "    recall = sum((predictions==1)&(baby_reviews['sentiment']==1))/sum(baby_reviews['sentiment']==1)\n",
    "    print \"Precision (threshold = %s): %s\" % (threshold, precision)\n",
    "    print \"Recall (threshold = %s) : %s\" % (threshold, recall)\n",
    "    \n",
    "    # Append the precision and recall scores.\n",
    "    precision_all.append(precision)\n",
    "    recall_all.append(recall)"
   ]
  },
  {
   "cell_type": "markdown",
   "metadata": {},
   "source": [
    "**Quiz Question**: Among all the threshold values tried, what is the **smallest** threshold value that achieves a precision of 96.5% or better for the reviews of data in **baby_reviews**? Round your answer to 3 decimal places."
   ]
  },
  {
   "cell_type": "code",
   "execution_count": 91,
   "metadata": {},
   "outputs": [
    {
     "data": {
      "image/png": "[encoded data removed]",
      "text/plain": [
       "<matplotlib.figure.Figure at 0x11c96a710>"
      ]
     },
     "metadata": {},
     "output_type": "display_data"
    }
   ],
   "source": [
    "plot_pr_curve(precision_all, recall_all, \"Precision-Recall (Baby)\")"
   ]
  },
  {
   "cell_type": "markdown",
   "metadata": {},
   "source": [
    "**Quiz Question:** Is this threshold value smaller or larger than the threshold used for the entire dataset to achieve the same specified precision of 96.5%?\n",
    "\n",
    "**Finally**, let's plot the precision recall curve."
   ]
  }
 ],
 "metadata": {
  "kernelspec": {
   "display_name": "Python 2",
   "language": "python",
   "name": "python2"
  },
  "language_info": {
   "codemirror_mode": {
    "name": "ipython",
    "version": 2
   },
   "file_extension": ".py",
   "mimetype": "text/x-python",
   "name": "python",
   "nbconvert_exporter": "python",
   "pygments_lexer": "ipython2",
   "version": "2.7.14"
  }
 },
 "nbformat": 4,
 "nbformat_minor": 1
}

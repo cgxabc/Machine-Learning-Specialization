{
 "cells": [
  {
   "cell_type": "markdown",
   "metadata": {},
   "source": [
    "# Document retrieval from wikipedia data"
   ]
  },
  {
   "cell_type": "code",
   "execution_count": 1,
   "metadata": {
    "collapsed": true
   },
   "outputs": [],
   "source": [
    "import pandas as pd\n",
    "import numpy as np"
   ]
  },
  {
   "cell_type": "markdown",
   "metadata": {},
   "source": [
    "# Load some text data - from wikipedia, pages on people"
   ]
  },
  {
   "cell_type": "code",
   "execution_count": 2,
   "metadata": {
    "collapsed": true
   },
   "outputs": [],
   "source": [
    "people = pd.read_csv('people_wiki.csv')"
   ]
  },
  {
   "cell_type": "markdown",
   "metadata": {},
   "source": [
    "Data contains:  link to wikipedia article, name of person, text of article."
   ]
  },
  {
   "cell_type": "code",
   "execution_count": 3,
   "metadata": {},
   "outputs": [
    {
     "data": {
      "text/html": [
       "<div>\n",
       "<style>\n",
       "    .dataframe thead tr:only-child th {\n",
       "        text-align: right;\n",
       "    }\n",
       "\n",
       "    .dataframe thead th {\n",
       "        text-align: left;\n",
       "    }\n",
       "\n",
       "    .dataframe tbody tr th {\n",
       "        vertical-align: top;\n",
       "    }\n",
       "</style>\n",
       "<table border=\"1\" class=\"dataframe\">\n",
       "  <thead>\n",
       "    <tr style=\"text-align: right;\">\n",
       "      <th></th>\n",
       "      <th>URI</th>\n",
       "      <th>name</th>\n",
       "      <th>text</th>\n",
       "    </tr>\n",
       "  </thead>\n",
       "  <tbody>\n",
       "    <tr>\n",
       "      <th>0</th>\n",
       "      <td>&lt;http://dbpedia.org/resource/Digby_Morrell&gt;</td>\n",
       "      <td>Digby Morrell</td>\n",
       "      <td>digby morrell born 10 october 1979 is a former...</td>\n",
       "    </tr>\n",
       "    <tr>\n",
       "      <th>1</th>\n",
       "      <td>&lt;http://dbpedia.org/resource/Alfred_J._Lewy&gt;</td>\n",
       "      <td>Alfred J. Lewy</td>\n",
       "      <td>alfred j lewy aka sandy lewy graduated from un...</td>\n",
       "    </tr>\n",
       "    <tr>\n",
       "      <th>2</th>\n",
       "      <td>&lt;http://dbpedia.org/resource/Harpdog_Brown&gt;</td>\n",
       "      <td>Harpdog Brown</td>\n",
       "      <td>harpdog brown is a singer and harmonica player...</td>\n",
       "    </tr>\n",
       "    <tr>\n",
       "      <th>3</th>\n",
       "      <td>&lt;http://dbpedia.org/resource/Franz_Rottensteiner&gt;</td>\n",
       "      <td>Franz Rottensteiner</td>\n",
       "      <td>franz rottensteiner born in waidmannsfeld lowe...</td>\n",
       "    </tr>\n",
       "    <tr>\n",
       "      <th>4</th>\n",
       "      <td>&lt;http://dbpedia.org/resource/G-Enka&gt;</td>\n",
       "      <td>G-Enka</td>\n",
       "      <td>henry krvits born 30 december 1974 in tallinn ...</td>\n",
       "    </tr>\n",
       "  </tbody>\n",
       "</table>\n",
       "</div>"
      ],
      "text/plain": [
       "                                                 URI                 name  \\\n",
       "0        <http://dbpedia.org/resource/Digby_Morrell>        Digby Morrell   \n",
       "1       <http://dbpedia.org/resource/Alfred_J._Lewy>       Alfred J. Lewy   \n",
       "2        <http://dbpedia.org/resource/Harpdog_Brown>        Harpdog Brown   \n",
       "3  <http://dbpedia.org/resource/Franz_Rottensteiner>  Franz Rottensteiner   \n",
       "4               <http://dbpedia.org/resource/G-Enka>               G-Enka   \n",
       "\n",
       "                                                text  \n",
       "0  digby morrell born 10 october 1979 is a former...  \n",
       "1  alfred j lewy aka sandy lewy graduated from un...  \n",
       "2  harpdog brown is a singer and harmonica player...  \n",
       "3  franz rottensteiner born in waidmannsfeld lowe...  \n",
       "4  henry krvits born 30 december 1974 in tallinn ...  "
      ]
     },
     "execution_count": 3,
     "metadata": {},
     "output_type": "execute_result"
    }
   ],
   "source": [
    "people.head()"
   ]
  },
  {
   "cell_type": "code",
   "execution_count": 4,
   "metadata": {},
   "outputs": [
    {
     "data": {
      "text/plain": [
       "59071"
      ]
     },
     "execution_count": 4,
     "metadata": {},
     "output_type": "execute_result"
    }
   ],
   "source": [
    "len(people)"
   ]
  },
  {
   "cell_type": "markdown",
   "metadata": {},
   "source": [
    "# Explore the dataset and checkout the text it contains\n",
    "\n",
    "## Exploring the entry for president Obama"
   ]
  },
  {
   "cell_type": "code",
   "execution_count": 5,
   "metadata": {
    "collapsed": true
   },
   "outputs": [],
   "source": [
    "obama = people[people['name'] == 'Barack Obama']"
   ]
  },
  {
   "cell_type": "code",
   "execution_count": 6,
   "metadata": {},
   "outputs": [
    {
     "data": {
      "text/html": [
       "<div>\n",
       "<style>\n",
       "    .dataframe thead tr:only-child th {\n",
       "        text-align: right;\n",
       "    }\n",
       "\n",
       "    .dataframe thead th {\n",
       "        text-align: left;\n",
       "    }\n",
       "\n",
       "    .dataframe tbody tr th {\n",
       "        vertical-align: top;\n",
       "    }\n",
       "</style>\n",
       "<table border=\"1\" class=\"dataframe\">\n",
       "  <thead>\n",
       "    <tr style=\"text-align: right;\">\n",
       "      <th></th>\n",
       "      <th>URI</th>\n",
       "      <th>name</th>\n",
       "      <th>text</th>\n",
       "    </tr>\n",
       "  </thead>\n",
       "  <tbody>\n",
       "    <tr>\n",
       "      <th>35817</th>\n",
       "      <td>&lt;http://dbpedia.org/resource/Barack_Obama&gt;</td>\n",
       "      <td>Barack Obama</td>\n",
       "      <td>barack hussein obama ii brk husen bm born augu...</td>\n",
       "    </tr>\n",
       "  </tbody>\n",
       "</table>\n",
       "</div>"
      ],
      "text/plain": [
       "                                              URI          name  \\\n",
       "35817  <http://dbpedia.org/resource/Barack_Obama>  Barack Obama   \n",
       "\n",
       "                                                    text  \n",
       "35817  barack hussein obama ii brk husen bm born augu...  "
      ]
     },
     "execution_count": 6,
     "metadata": {},
     "output_type": "execute_result"
    }
   ],
   "source": [
    "obama"
   ]
  },
  {
   "cell_type": "code",
   "execution_count": 7,
   "metadata": {},
   "outputs": [
    {
     "data": {
      "text/plain": [
       "35817    barack hussein obama ii brk husen bm born augu...\n",
       "Name: text, dtype: object"
      ]
     },
     "execution_count": 7,
     "metadata": {},
     "output_type": "execute_result"
    }
   ],
   "source": [
    "obama['text']"
   ]
  },
  {
   "cell_type": "markdown",
   "metadata": {},
   "source": [
    "## Exploring the entry for actor George Clooney"
   ]
  },
  {
   "cell_type": "code",
   "execution_count": 8,
   "metadata": {},
   "outputs": [
    {
     "data": {
      "text/plain": [
       "38514    george timothy clooney born may 6 1961 is an a...\n",
       "Name: text, dtype: object"
      ]
     },
     "execution_count": 8,
     "metadata": {},
     "output_type": "execute_result"
    }
   ],
   "source": [
    "clooney = people[people['name'] == 'George Clooney']\n",
    "clooney['text']"
   ]
  },
  {
   "cell_type": "markdown",
   "metadata": {},
   "source": [
    "# Get the word counts for Obama article"
   ]
  },
  {
   "cell_type": "code",
   "execution_count": 9,
   "metadata": {
    "collapsed": true
   },
   "outputs": [],
   "source": [
    "from sklearn.feature_extraction.text import CountVectorizer"
   ]
  },
  {
   "cell_type": "code",
   "execution_count": 10,
   "metadata": {
    "collapsed": true
   },
   "outputs": [],
   "source": [
    "count_vectorizer = CountVectorizer()\n",
    "count = count_vectorizer.fit_transform(people['text'])"
   ]
  },
  {
   "cell_type": "code",
   "execution_count": 11,
   "metadata": {
    "collapsed": true
   },
   "outputs": [],
   "source": [
    "analyzer = count_vectorizer.build_analyzer()"
   ]
  },
  {
   "cell_type": "code",
   "execution_count": 12,
   "metadata": {
    "collapsed": true
   },
   "outputs": [],
   "source": [
    "voc = count_vectorizer.vocabulary_\n",
    "rvoc = dict(zip(voc.itervalues(),voc.iterkeys()))\n"
   ]
  },
  {
   "cell_type": "code",
   "execution_count": 13,
   "metadata": {
    "collapsed": true
   },
   "outputs": [],
   "source": [
    "def count_words(doc):\n",
    "    dic = {}\n",
    "    if analyzer(doc):\n",
    "        M = count_vectorizer.fit_transform([doc]).toarray()[0]\n",
    "        for word,index in count_vectorizer.vocabulary_.items():\n",
    "            dic[word] = M[index]\n",
    "    return dic"
   ]
  },
  {
   "cell_type": "code",
   "execution_count": 14,
   "metadata": {},
   "outputs": [
    {
     "name": "stderr",
     "output_type": "stream",
     "text": [
      "/Users/apple/anaconda/lib/python2.7/site-packages/ipykernel_launcher.py:1: SettingWithCopyWarning: \n",
      "A value is trying to be set on a copy of a slice from a DataFrame.\n",
      "Try using .loc[row_indexer,col_indexer] = value instead\n",
      "\n",
      "See the caveats in the documentation: http://pandas.pydata.org/pandas-docs/stable/indexing.html#indexing-view-versus-copy\n",
      "  \"\"\"Entry point for launching an IPython kernel.\n"
     ]
    }
   ],
   "source": [
    "obama['word_count'] = obama['text'].apply(count_words)"
   ]
  },
  {
   "cell_type": "code",
   "execution_count": 15,
   "metadata": {},
   "outputs": [
    {
     "data": {
      "text/html": [
       "<div>\n",
       "<style>\n",
       "    .dataframe thead tr:only-child th {\n",
       "        text-align: right;\n",
       "    }\n",
       "\n",
       "    .dataframe thead th {\n",
       "        text-align: left;\n",
       "    }\n",
       "\n",
       "    .dataframe tbody tr th {\n",
       "        vertical-align: top;\n",
       "    }\n",
       "</style>\n",
       "<table border=\"1\" class=\"dataframe\">\n",
       "  <thead>\n",
       "    <tr style=\"text-align: right;\">\n",
       "      <th></th>\n",
       "      <th>URI</th>\n",
       "      <th>name</th>\n",
       "      <th>text</th>\n",
       "      <th>word_count</th>\n",
       "    </tr>\n",
       "  </thead>\n",
       "  <tbody>\n",
       "    <tr>\n",
       "      <th>35817</th>\n",
       "      <td>&lt;http://dbpedia.org/resource/Barack_Obama&gt;</td>\n",
       "      <td>Barack Obama</td>\n",
       "      <td>barack hussein obama ii brk husen bm born augu...</td>\n",
       "      <td>{u'operations': 1, u'represent': 1, u'peace': ...</td>\n",
       "    </tr>\n",
       "  </tbody>\n",
       "</table>\n",
       "</div>"
      ],
      "text/plain": [
       "                                              URI          name  \\\n",
       "35817  <http://dbpedia.org/resource/Barack_Obama>  Barack Obama   \n",
       "\n",
       "                                                    text  \\\n",
       "35817  barack hussein obama ii brk husen bm born augu...   \n",
       "\n",
       "                                              word_count  \n",
       "35817  {u'operations': 1, u'represent': 1, u'peace': ...  "
      ]
     },
     "execution_count": 15,
     "metadata": {},
     "output_type": "execute_result"
    }
   ],
   "source": [
    "obama"
   ]
  },
  {
   "cell_type": "code",
   "execution_count": 16,
   "metadata": {},
   "outputs": [
    {
     "data": {
      "text/plain": [
       "{u'13th': 1,\n",
       " u'1961': 1,\n",
       " u'1992': 1,\n",
       " u'1996': 1,\n",
       " u'1997': 1,\n",
       " u'20': 2,\n",
       " u'2000in': 1,\n",
       " u'2004': 3,\n",
       " u'2007': 1,\n",
       " u'2008': 1,\n",
       " u'2009': 3,\n",
       " u'2010': 2,\n",
       " u'2011': 3,\n",
       " u'2012': 1,\n",
       " u'2012obama': 1,\n",
       " u'2013': 1,\n",
       " u'44th': 1,\n",
       " u'63': 1,\n",
       " u'act': 8,\n",
       " u'address': 1,\n",
       " u'administration': 1,\n",
       " u'affordable': 1,\n",
       " u'afghanistan': 2,\n",
       " u'african': 1,\n",
       " u'after': 4,\n",
       " u'against': 1,\n",
       " u'american': 3,\n",
       " u'americans': 1,\n",
       " u'and': 21,\n",
       " u'arms': 1,\n",
       " u'as': 6,\n",
       " u'ask': 1,\n",
       " u'at': 2,\n",
       " u'attention': 1,\n",
       " u'attorney': 1,\n",
       " u'august': 1,\n",
       " u'barack': 1,\n",
       " u'before': 1,\n",
       " u'began': 1,\n",
       " u'bin': 1,\n",
       " u'bm': 1,\n",
       " u'born': 2,\n",
       " u'briefs': 1,\n",
       " u'brk': 1,\n",
       " u'budget': 1,\n",
       " u'by': 1,\n",
       " u'californias': 1,\n",
       " u'called': 1,\n",
       " u'campaign': 3,\n",
       " u'care': 1,\n",
       " u'chicago': 2,\n",
       " u'civil': 1,\n",
       " u'clinton': 1,\n",
       " u'close': 1,\n",
       " u'columbia': 1,\n",
       " u'combat': 1,\n",
       " u'community': 1,\n",
       " u'constitutional': 1,\n",
       " u'consumer': 1,\n",
       " u'continued': 1,\n",
       " u'control': 4,\n",
       " u'convention': 1,\n",
       " u'court': 1,\n",
       " u'creation': 1,\n",
       " u'cuba': 1,\n",
       " u'current': 1,\n",
       " u'death': 1,\n",
       " u'debate': 1,\n",
       " u'debt': 1,\n",
       " u'defeated': 1,\n",
       " u'defeating': 1,\n",
       " u'defense': 1,\n",
       " u'degree': 1,\n",
       " u'delegates': 1,\n",
       " u'democratic': 4,\n",
       " u'district': 1,\n",
       " u'doddfrank': 1,\n",
       " u'domestic': 2,\n",
       " u'dont': 2,\n",
       " u'down': 1,\n",
       " u'during': 2,\n",
       " u'earning': 1,\n",
       " u'economic': 1,\n",
       " u'election': 3,\n",
       " u'elementary': 1,\n",
       " u'ended': 1,\n",
       " u'ending': 1,\n",
       " u'equality': 1,\n",
       " u'federal': 1,\n",
       " u'filed': 1,\n",
       " u'first': 3,\n",
       " u'for': 4,\n",
       " u'foreign': 2,\n",
       " u'form': 1,\n",
       " u'from': 3,\n",
       " u'full': 1,\n",
       " u'gains': 1,\n",
       " u'general': 1,\n",
       " u'graduate': 1,\n",
       " u'great': 1,\n",
       " u'gun': 1,\n",
       " u'harvard': 2,\n",
       " u'has': 4,\n",
       " u'hawaii': 1,\n",
       " u'he': 7,\n",
       " u'hillary': 1,\n",
       " u'his': 11,\n",
       " u'hold': 1,\n",
       " u'honolulu': 1,\n",
       " u'hook': 1,\n",
       " u'house': 2,\n",
       " u'husen': 1,\n",
       " u'hussein': 1,\n",
       " u'ii': 1,\n",
       " u'illinois': 2,\n",
       " u'in': 30,\n",
       " u'inaugurated': 1,\n",
       " u'included': 1,\n",
       " u'increased': 1,\n",
       " u'initiatives': 1,\n",
       " u'insurance': 1,\n",
       " u'into': 1,\n",
       " u'involvement': 3,\n",
       " u'iraq': 4,\n",
       " u'is': 2,\n",
       " u'islamic': 1,\n",
       " u'january': 3,\n",
       " u'job': 1,\n",
       " u'john': 1,\n",
       " u'july': 1,\n",
       " u'keynote': 1,\n",
       " u'laden': 1,\n",
       " u'laureateduring': 1,\n",
       " u'law': 6,\n",
       " u'legislation': 1,\n",
       " u'lengthy': 1,\n",
       " u'levels': 1,\n",
       " u'lgbt': 1,\n",
       " u'libya': 1,\n",
       " u'limit': 1,\n",
       " u'lost': 1,\n",
       " u'made': 1,\n",
       " u'major': 1,\n",
       " u'march': 1,\n",
       " u'marriage': 1,\n",
       " u'mccain': 1,\n",
       " u'military': 4,\n",
       " u'mitt': 1,\n",
       " u'months': 1,\n",
       " u'named': 1,\n",
       " u'national': 2,\n",
       " u'nations': 1,\n",
       " u'new': 1,\n",
       " u'nine': 1,\n",
       " u'nobel': 1,\n",
       " u'nomination': 1,\n",
       " u'nominee': 2,\n",
       " u'normalize': 1,\n",
       " u'not': 1,\n",
       " u'november': 2,\n",
       " u'obama': 9,\n",
       " u'obamacare': 1,\n",
       " u'of': 18,\n",
       " u'office': 2,\n",
       " u'often': 1,\n",
       " u'on': 2,\n",
       " u'operation': 1,\n",
       " u'operations': 1,\n",
       " u'or': 1,\n",
       " u'ordered': 3,\n",
       " u'organizer': 1,\n",
       " u'osama': 1,\n",
       " u'other': 1,\n",
       " u'over': 1,\n",
       " u'party': 3,\n",
       " u'patient': 1,\n",
       " u'peace': 1,\n",
       " u'policies': 1,\n",
       " u'policy': 2,\n",
       " u'president': 4,\n",
       " u'presidential': 2,\n",
       " u'primaries': 1,\n",
       " u'primary': 2,\n",
       " u'prize': 1,\n",
       " u'process': 1,\n",
       " u'promoted': 1,\n",
       " u'proposition': 1,\n",
       " u'protection': 2,\n",
       " u'raise': 1,\n",
       " u'reauthorization': 1,\n",
       " u'receive': 1,\n",
       " u'received': 1,\n",
       " u'recession': 1,\n",
       " u'recovery': 1,\n",
       " u'reelected': 1,\n",
       " u'referred': 1,\n",
       " u'reform': 1,\n",
       " u'regained': 1,\n",
       " u'reinvestment': 1,\n",
       " u'related': 1,\n",
       " u'relations': 1,\n",
       " u'relief': 2,\n",
       " u'repeal': 1,\n",
       " u'represent': 1,\n",
       " u'representatives': 2,\n",
       " u'representing': 1,\n",
       " u'republican': 2,\n",
       " u'republicans': 1,\n",
       " u'response': 3,\n",
       " u'resulted': 1,\n",
       " u'review': 1,\n",
       " u'rights': 1,\n",
       " u'rodham': 1,\n",
       " u'romney': 1,\n",
       " u'running': 1,\n",
       " u'russia': 1,\n",
       " u'sandy': 1,\n",
       " u'school': 3,\n",
       " u'seats': 1,\n",
       " u'second': 2,\n",
       " u'senate': 3,\n",
       " u'served': 2,\n",
       " u'shooting': 1,\n",
       " u'signed': 3,\n",
       " u'sought': 1,\n",
       " u'spending': 1,\n",
       " u'start': 1,\n",
       " u'state': 1,\n",
       " u'states': 3,\n",
       " u'stimulus': 1,\n",
       " u'street': 1,\n",
       " u'strike': 1,\n",
       " u'sufficient': 1,\n",
       " u'supreme': 1,\n",
       " u'sworn': 1,\n",
       " u'taught': 1,\n",
       " u'tax': 1,\n",
       " u'taxpayer': 1,\n",
       " u'tell': 1,\n",
       " u'term': 3,\n",
       " u'terms': 1,\n",
       " u'that': 1,\n",
       " u'the': 40,\n",
       " u'then': 1,\n",
       " u'three': 1,\n",
       " u'to': 14,\n",
       " u'total': 1,\n",
       " u'treaty': 1,\n",
       " u'troop': 1,\n",
       " u'two': 1,\n",
       " u'unconstitutional': 1,\n",
       " u'unemployment': 1,\n",
       " u'united': 3,\n",
       " u'university': 2,\n",
       " u'unsuccessfully': 1,\n",
       " u'urged': 1,\n",
       " u'us': 6,\n",
       " u'victory': 1,\n",
       " u'wall': 1,\n",
       " u'war': 1,\n",
       " u'was': 5,\n",
       " u'where': 1,\n",
       " u'whether': 1,\n",
       " u'which': 1,\n",
       " u'while': 1,\n",
       " u'with': 3,\n",
       " u'withdrawal': 1,\n",
       " u'won': 1,\n",
       " u'worked': 1,\n",
       " u'years': 1}"
      ]
     },
     "execution_count": 16,
     "metadata": {},
     "output_type": "execute_result"
    }
   ],
   "source": [
    "obama['word_count'].values[0]"
   ]
  },
  {
   "cell_type": "code",
   "execution_count": 17,
   "metadata": {},
   "outputs": [
    {
     "data": {
      "text/plain": [
       "[(u'operations', 1),\n",
       " (u'represent', 1),\n",
       " (u'peace', 1),\n",
       " (u'office', 2),\n",
       " (u'unemployment', 1),\n",
       " (u'doddfrank', 1),\n",
       " (u'over', 1),\n",
       " (u'unconstitutional', 1),\n",
       " (u'domestic', 2),\n",
       " (u'major', 1),\n",
       " (u'ending', 1),\n",
       " (u'ended', 1),\n",
       " (u'proposition', 1),\n",
       " (u'seats', 1),\n",
       " (u'graduate', 1),\n",
       " (u'debate', 1),\n",
       " (u'before', 1),\n",
       " (u'death', 1),\n",
       " (u'20', 2),\n",
       " (u'taxpayer', 1),\n",
       " (u'with', 3),\n",
       " (u'obamacare', 1),\n",
       " (u'civil', 1),\n",
       " (u'2009', 3),\n",
       " (u'barack', 1),\n",
       " (u'to', 14),\n",
       " (u'policy', 2),\n",
       " (u'marriage', 1),\n",
       " (u'has', 4),\n",
       " (u'2011', 3),\n",
       " (u'2010', 2),\n",
       " (u'2013', 1),\n",
       " (u'2012', 1),\n",
       " (u'bin', 1),\n",
       " (u'then', 1),\n",
       " (u'13th', 1),\n",
       " (u'his', 11),\n",
       " (u'march', 1),\n",
       " (u'gains', 1),\n",
       " (u'cuba', 1),\n",
       " (u'school', 3),\n",
       " (u'primary', 2),\n",
       " (u'made', 1),\n",
       " (u'not', 1),\n",
       " (u'during', 2),\n",
       " (u'years', 1),\n",
       " (u'continued', 1),\n",
       " (u'presidential', 2),\n",
       " (u'husen', 1),\n",
       " (u'down', 1),\n",
       " (u'californias', 1),\n",
       " (u'equality', 1),\n",
       " (u'prize', 1),\n",
       " (u'lost', 1),\n",
       " (u'called', 1),\n",
       " (u'stimulus', 1),\n",
       " (u'january', 3),\n",
       " (u'university', 2),\n",
       " (u'1996', 1),\n",
       " (u'july', 1),\n",
       " (u'hawaii', 1),\n",
       " (u'us', 6),\n",
       " (u'troop', 1),\n",
       " (u'withdrawal', 1),\n",
       " (u'involvement', 3),\n",
       " (u'where', 1),\n",
       " (u'referred', 1),\n",
       " (u'unsuccessfully', 1),\n",
       " (u'republican', 2),\n",
       " (u'on', 2),\n",
       " (u'often', 1),\n",
       " (u'senate', 3),\n",
       " (u'regained', 1),\n",
       " (u'national', 2),\n",
       " (u'creation', 1),\n",
       " (u'related', 1),\n",
       " (u'gun', 1),\n",
       " (u'born', 2),\n",
       " (u'second', 2),\n",
       " (u'street', 1),\n",
       " (u'election', 3),\n",
       " (u'close', 1),\n",
       " (u'operation', 1),\n",
       " (u'nations', 1),\n",
       " (u'insurance', 1),\n",
       " (u'sandy', 1),\n",
       " (u'afghanistan', 2),\n",
       " (u'initiatives', 1),\n",
       " (u'for', 4),\n",
       " (u'chicago', 2),\n",
       " (u'federal', 1),\n",
       " (u'review', 1),\n",
       " (u'representatives', 2),\n",
       " (u'repeal', 1),\n",
       " (u'current', 1),\n",
       " (u'state', 1),\n",
       " (u'won', 1),\n",
       " (u'americans', 1),\n",
       " (u'new', 1),\n",
       " (u'victory', 1),\n",
       " (u'affordable', 1),\n",
       " (u'reauthorization', 1),\n",
       " (u'keynote', 1),\n",
       " (u'full', 1),\n",
       " (u'terms', 1),\n",
       " (u'august', 1),\n",
       " (u'degree', 1),\n",
       " (u'44th', 1),\n",
       " (u'bm', 1),\n",
       " (u'mitt', 1),\n",
       " (u'attention', 1),\n",
       " (u'delegates', 1),\n",
       " (u'lgbt', 1),\n",
       " (u'job', 1),\n",
       " (u'protection', 2),\n",
       " (u'term', 3),\n",
       " (u'address', 1),\n",
       " (u'ask', 1),\n",
       " (u'november', 2),\n",
       " (u'iraq', 4),\n",
       " (u'by', 1),\n",
       " (u'care', 1),\n",
       " (u'rodham', 1),\n",
       " (u'great', 1),\n",
       " (u'libya', 1),\n",
       " (u'receive', 1),\n",
       " (u'of', 18),\n",
       " (u'months', 1),\n",
       " (u'against', 1),\n",
       " (u'foreign', 2),\n",
       " (u'american', 3),\n",
       " (u'harvard', 2),\n",
       " (u'economic', 1),\n",
       " (u'act', 8),\n",
       " (u'military', 4),\n",
       " (u'hussein', 1),\n",
       " (u'or', 1),\n",
       " (u'first', 3),\n",
       " (u'and', 21),\n",
       " (u'named', 1),\n",
       " (u'clinton', 1),\n",
       " (u'dont', 2),\n",
       " (u'campaign', 3),\n",
       " (u'wall', 1),\n",
       " (u'reinvestment', 1),\n",
       " (u'into', 1),\n",
       " (u'attorney', 1),\n",
       " (u'community', 1),\n",
       " (u'mccain', 1),\n",
       " (u'osama', 1),\n",
       " (u'hook', 1),\n",
       " (u'63', 1),\n",
       " (u'brk', 1),\n",
       " (u'elementary', 1),\n",
       " (u'total', 1),\n",
       " (u'earning', 1),\n",
       " (u'debt', 1),\n",
       " (u'from', 3),\n",
       " (u'raise', 1),\n",
       " (u'district', 1),\n",
       " (u'spending', 1),\n",
       " (u'legislation', 1),\n",
       " (u'three', 1),\n",
       " (u'relations', 1),\n",
       " (u'nobel', 1),\n",
       " (u'start', 1),\n",
       " (u'house', 2),\n",
       " (u'strike', 1),\n",
       " (u'served', 2),\n",
       " (u'john', 1),\n",
       " (u'was', 5),\n",
       " (u'tell', 1),\n",
       " (u'form', 1),\n",
       " (u'received', 1),\n",
       " (u'romney', 1),\n",
       " (u'sufficient', 1),\n",
       " (u'republicans', 1),\n",
       " (u'convention', 1),\n",
       " (u'resulted', 1),\n",
       " (u'hillary', 1),\n",
       " (u'taught', 1),\n",
       " (u'arms', 1),\n",
       " (u'honolulu', 1),\n",
       " (u'filed', 1),\n",
       " (u'worked', 1),\n",
       " (u'hold', 1),\n",
       " (u'inaugurated', 1),\n",
       " (u'he', 7),\n",
       " (u'states', 3),\n",
       " (u'1992', 1),\n",
       " (u'1997', 1),\n",
       " (u'rights', 1),\n",
       " (u'whether', 1),\n",
       " (u'reelected', 1),\n",
       " (u'representing', 1),\n",
       " (u'budget', 1),\n",
       " (u'signed', 3),\n",
       " (u'war', 1),\n",
       " (u'recession', 1),\n",
       " (u'while', 1),\n",
       " (u'defense', 1),\n",
       " (u'nine', 1),\n",
       " (u'policies', 1),\n",
       " (u'promoted', 1),\n",
       " (u'russia', 1),\n",
       " (u'at', 2),\n",
       " (u'control', 4),\n",
       " (u'supreme', 1),\n",
       " (u'ordered', 3),\n",
       " (u'nominee', 2),\n",
       " (u'process', 1),\n",
       " (u'2000in', 1),\n",
       " (u'is', 2),\n",
       " (u'tax', 1),\n",
       " (u'briefs', 1),\n",
       " (u'defeated', 1),\n",
       " (u'general', 1),\n",
       " (u'ii', 1),\n",
       " (u'as', 6),\n",
       " (u'urged', 1),\n",
       " (u'in', 30),\n",
       " (u'sought', 1),\n",
       " (u'limit', 1),\n",
       " (u'organizer', 1),\n",
       " (u'shooting', 1),\n",
       " (u'2012obama', 1),\n",
       " (u'increased', 1),\n",
       " (u'normalize', 1),\n",
       " (u'lengthy', 1),\n",
       " (u'united', 3),\n",
       " (u'court', 1),\n",
       " (u'recovery', 1),\n",
       " (u'laden', 1),\n",
       " (u'began', 1),\n",
       " (u'that', 1),\n",
       " (u'administration', 1),\n",
       " (u'1961', 1),\n",
       " (u'illinois', 2),\n",
       " (u'other', 1),\n",
       " (u'patient', 1),\n",
       " (u'which', 1),\n",
       " (u'party', 3),\n",
       " (u'primaries', 1),\n",
       " (u'sworn', 1),\n",
       " (u'2007', 1),\n",
       " (u'obama', 9),\n",
       " (u'columbia', 1),\n",
       " (u'combat', 1),\n",
       " (u'after', 4),\n",
       " (u'islamic', 1),\n",
       " (u'running', 1),\n",
       " (u'levels', 1),\n",
       " (u'two', 1),\n",
       " (u'included', 1),\n",
       " (u'president', 4),\n",
       " (u'law', 6),\n",
       " (u'nomination', 1),\n",
       " (u'response', 3),\n",
       " (u'2008', 1),\n",
       " (u'reform', 1),\n",
       " (u'constitutional', 1),\n",
       " (u'defeating', 1),\n",
       " (u'treaty', 1),\n",
       " (u'relief', 2),\n",
       " (u'2004', 3),\n",
       " (u'african', 1),\n",
       " (u'the', 40),\n",
       " (u'democratic', 4),\n",
       " (u'consumer', 1),\n",
       " (u'laureateduring', 1)]"
      ]
     },
     "execution_count": 17,
     "metadata": {},
     "output_type": "execute_result"
    }
   ],
   "source": [
    "obama['word_count'].values[0].items()"
   ]
  },
  {
   "cell_type": "markdown",
   "metadata": {},
   "source": [
    "## Sort the word counts for the Obama article"
   ]
  },
  {
   "cell_type": "markdown",
   "metadata": {},
   "source": [
    "### Turning dictonary of word counts into a table"
   ]
  },
  {
   "cell_type": "code",
   "execution_count": 18,
   "metadata": {
    "collapsed": true
   },
   "outputs": [],
   "source": [
    "obama_word_count_table = pd.DataFrame(obama['word_count'].values[0].items(),columns=['word','count'])"
   ]
  },
  {
   "cell_type": "markdown",
   "metadata": {},
   "source": [
    "### Sorting the word counts to show most common words at the top"
   ]
  },
  {
   "cell_type": "code",
   "execution_count": 19,
   "metadata": {},
   "outputs": [
    {
     "data": {
      "text/html": [
       "<div>\n",
       "<style>\n",
       "    .dataframe thead tr:only-child th {\n",
       "        text-align: right;\n",
       "    }\n",
       "\n",
       "    .dataframe thead th {\n",
       "        text-align: left;\n",
       "    }\n",
       "\n",
       "    .dataframe tbody tr th {\n",
       "        vertical-align: top;\n",
       "    }\n",
       "</style>\n",
       "<table border=\"1\" class=\"dataframe\">\n",
       "  <thead>\n",
       "    <tr style=\"text-align: right;\">\n",
       "      <th></th>\n",
       "      <th>word</th>\n",
       "      <th>count</th>\n",
       "    </tr>\n",
       "  </thead>\n",
       "  <tbody>\n",
       "    <tr>\n",
       "      <th>266</th>\n",
       "      <td>the</td>\n",
       "      <td>40</td>\n",
       "    </tr>\n",
       "    <tr>\n",
       "      <th>220</th>\n",
       "      <td>in</td>\n",
       "      <td>30</td>\n",
       "    </tr>\n",
       "    <tr>\n",
       "      <th>138</th>\n",
       "      <td>and</td>\n",
       "      <td>21</td>\n",
       "    </tr>\n",
       "    <tr>\n",
       "      <th>126</th>\n",
       "      <td>of</td>\n",
       "      <td>18</td>\n",
       "    </tr>\n",
       "    <tr>\n",
       "      <th>25</th>\n",
       "      <td>to</td>\n",
       "      <td>14</td>\n",
       "    </tr>\n",
       "  </tbody>\n",
       "</table>\n",
       "</div>"
      ],
      "text/plain": [
       "    word  count\n",
       "266  the     40\n",
       "220   in     30\n",
       "138  and     21\n",
       "126   of     18\n",
       "25    to     14"
      ]
     },
     "execution_count": 19,
     "metadata": {},
     "output_type": "execute_result"
    }
   ],
   "source": [
    "obama_word_count_table.sort_values(by='count',ascending=False).head()"
   ]
  },
  {
   "cell_type": "markdown",
   "metadata": {},
   "source": [
    "Most common words include uninformative words like \"the\", \"in\", \"and\",..."
   ]
  },
  {
   "cell_type": "markdown",
   "metadata": {},
   "source": [
    "# Compute TF-IDF for the corpus \n",
    "\n",
    "To give more weight to informative words, we weigh them by their TF-IDF scores."
   ]
  },
  {
   "cell_type": "code",
   "execution_count": 20,
   "metadata": {
    "collapsed": true
   },
   "outputs": [],
   "source": [
    "from sklearn.feature_extraction.text import TfidfTransformer"
   ]
  },
  {
   "cell_type": "code",
   "execution_count": 21,
   "metadata": {},
   "outputs": [
    {
     "data": {
      "text/html": [
       "<div>\n",
       "<style>\n",
       "    .dataframe thead tr:only-child th {\n",
       "        text-align: right;\n",
       "    }\n",
       "\n",
       "    .dataframe thead th {\n",
       "        text-align: left;\n",
       "    }\n",
       "\n",
       "    .dataframe tbody tr th {\n",
       "        vertical-align: top;\n",
       "    }\n",
       "</style>\n",
       "<table border=\"1\" class=\"dataframe\">\n",
       "  <thead>\n",
       "    <tr style=\"text-align: right;\">\n",
       "      <th></th>\n",
       "      <th>URI</th>\n",
       "      <th>name</th>\n",
       "      <th>text</th>\n",
       "      <th>word_count</th>\n",
       "    </tr>\n",
       "  </thead>\n",
       "  <tbody>\n",
       "    <tr>\n",
       "      <th>0</th>\n",
       "      <td>&lt;http://dbpedia.org/resource/Digby_Morrell&gt;</td>\n",
       "      <td>Digby Morrell</td>\n",
       "      <td>digby morrell born 10 october 1979 is a former...</td>\n",
       "      <td>{u'selection': 1, u'carltons': 1, u'being': 1,...</td>\n",
       "    </tr>\n",
       "    <tr>\n",
       "      <th>1</th>\n",
       "      <td>&lt;http://dbpedia.org/resource/Alfred_J._Lewy&gt;</td>\n",
       "      <td>Alfred J. Lewy</td>\n",
       "      <td>alfred j lewy aka sandy lewy graduated from un...</td>\n",
       "      <td>{u'precise': 1, u'thomas': 1, u'closely': 1, u...</td>\n",
       "    </tr>\n",
       "    <tr>\n",
       "      <th>2</th>\n",
       "      <td>&lt;http://dbpedia.org/resource/Harpdog_Brown&gt;</td>\n",
       "      <td>Harpdog Brown</td>\n",
       "      <td>harpdog brown is a singer and harmonica player...</td>\n",
       "      <td>{u'just': 1, u'issued': 1, u'mainly': 1, u'nom...</td>\n",
       "    </tr>\n",
       "    <tr>\n",
       "      <th>3</th>\n",
       "      <td>&lt;http://dbpedia.org/resource/Franz_Rottensteiner&gt;</td>\n",
       "      <td>Franz Rottensteiner</td>\n",
       "      <td>franz rottensteiner born in waidmannsfeld lowe...</td>\n",
       "      <td>{u'all': 1, u'bauforschung': 1, u'just': 1, u'...</td>\n",
       "    </tr>\n",
       "    <tr>\n",
       "      <th>4</th>\n",
       "      <td>&lt;http://dbpedia.org/resource/G-Enka&gt;</td>\n",
       "      <td>G-Enka</td>\n",
       "      <td>henry krvits born 30 december 1974 in tallinn ...</td>\n",
       "      <td>{u'they': 1, u'gangstergenka': 1, u'legendaarn...</td>\n",
       "    </tr>\n",
       "  </tbody>\n",
       "</table>\n",
       "</div>"
      ],
      "text/plain": [
       "                                                 URI                 name  \\\n",
       "0        <http://dbpedia.org/resource/Digby_Morrell>        Digby Morrell   \n",
       "1       <http://dbpedia.org/resource/Alfred_J._Lewy>       Alfred J. Lewy   \n",
       "2        <http://dbpedia.org/resource/Harpdog_Brown>        Harpdog Brown   \n",
       "3  <http://dbpedia.org/resource/Franz_Rottensteiner>  Franz Rottensteiner   \n",
       "4               <http://dbpedia.org/resource/G-Enka>               G-Enka   \n",
       "\n",
       "                                                text  \\\n",
       "0  digby morrell born 10 october 1979 is a former...   \n",
       "1  alfred j lewy aka sandy lewy graduated from un...   \n",
       "2  harpdog brown is a singer and harmonica player...   \n",
       "3  franz rottensteiner born in waidmannsfeld lowe...   \n",
       "4  henry krvits born 30 december 1974 in tallinn ...   \n",
       "\n",
       "                                          word_count  \n",
       "0  {u'selection': 1, u'carltons': 1, u'being': 1,...  \n",
       "1  {u'precise': 1, u'thomas': 1, u'closely': 1, u...  \n",
       "2  {u'just': 1, u'issued': 1, u'mainly': 1, u'nom...  \n",
       "3  {u'all': 1, u'bauforschung': 1, u'just': 1, u'...  \n",
       "4  {u'they': 1, u'gangstergenka': 1, u'legendaarn...  "
      ]
     },
     "execution_count": 21,
     "metadata": {},
     "output_type": "execute_result"
    }
   ],
   "source": [
    "people['word_count'] = people['text'].apply(count_words)\n",
    "people.head()"
   ]
  },
  {
   "cell_type": "code",
   "execution_count": 22,
   "metadata": {
    "collapsed": true
   },
   "outputs": [],
   "source": [
    "#count_vectorizer = CountVectorizer()\n",
    "#count = count_vectorizer.fit_transform(people['text'])"
   ]
  },
  {
   "cell_type": "code",
   "execution_count": 23,
   "metadata": {
    "collapsed": true
   },
   "outputs": [],
   "source": [
    "#voc = count_vectorizer.vocabulary_\n",
    "#rvoc = dict(zip(voc.itervalues(),voc.iterkeys()))  #index to word\n"
   ]
  },
  {
   "cell_type": "code",
   "execution_count": 24,
   "metadata": {},
   "outputs": [
    {
     "data": {
      "text/plain": [
       "{0: u'00',\n",
       " 1: u'000',\n",
       " 2: u'0000',\n",
       " 3: u'00000',\n",
       " 4: u'00000van',\n",
       " 5: u'0001',\n",
       " 6: u'00014338',\n",
       " 7: u'0001sec',\n",
       " 8: u'0002',\n",
       " 9: u'00026',\n",
       " 10: u'0003',\n",
       " 11: u'0005',\n",
       " 12: u'000577',\n",
       " 13: u'0005sec',\n",
       " 14: u'0006',\n",
       " 15: u'0007',\n",
       " 16: u'0007105916',\n",
       " 17: u'0007200374',\n",
       " 18: u'0007207328',\n",
       " 19: u'0007213506',\n",
       " 20: u'000721426xhe',\n",
       " 21: u'0007a',\n",
       " 22: u'000he',\n",
       " 23: u'000in',\n",
       " 24: u'000m',\n",
       " 25: u'000seelenprojekt',\n",
       " 26: u'000tnmickushina',\n",
       " 27: u'001',\n",
       " 28: u'0017',\n",
       " 29: u'001cd',\n",
       " 30: u'001ehebbm',\n",
       " 31: u'002',\n",
       " 32: u'0020849605',\n",
       " 33: u'0024',\n",
       " 34: u'0026183900',\n",
       " 35: u'002864574x',\n",
       " 36: u'0028659287',\n",
       " 37: u'003',\n",
       " 38: u'0033',\n",
       " 39: u'0034',\n",
       " 40: u'0036',\n",
       " 41: u'004',\n",
       " 42: u'0043',\n",
       " 43: u'0046',\n",
       " 44: u'004erdemir',\n",
       " 45: u'005',\n",
       " 46: u'006',\n",
       " 47: u'0060222425',\n",
       " 48: u'0060628227',\n",
       " 49: u'0060628464',\n",
       " 50: u'0060669667',\n",
       " 51: u'006074393x',\n",
       " 52: u'0064',\n",
       " 53: u'0066',\n",
       " 54: u'007',\n",
       " 55: u'0070710481',\n",
       " 56: u'0071357440',\n",
       " 57: u'0071375627',\n",
       " 58: u'0072131772',\n",
       " 59: u'0072131896',\n",
       " 60: u'0072222611',\n",
       " 61: u'0072225351',\n",
       " 62: u'0072438886',\n",
       " 63: u'007all',\n",
       " 64: u'008',\n",
       " 65: u'0080',\n",
       " 66: u'0080357547',\n",
       " 67: u'008after',\n",
       " 68: u'009',\n",
       " 69: u'00906603',\n",
       " 70: u'0091',\n",
       " 71: u'0091857112',\n",
       " 72: u'0091900255she',\n",
       " 73: u'0099416689',\n",
       " 74: u'009at',\n",
       " 75: u'00a10',\n",
       " 76: u'00g',\n",
       " 77: u'00s',\n",
       " 78: u'00sex',\n",
       " 79: u'00sin',\n",
       " 80: u'01',\n",
       " 81: u'010',\n",
       " 82: u'0100',\n",
       " 83: u'01000400',\n",
       " 84: u'01011001',\n",
       " 85: u'01011001i',\n",
       " 86: u'0102',\n",
       " 87: u'0102928045since',\n",
       " 88: u'010397',\n",
       " 89: u'01041984',\n",
       " 90: u'010602he',\n",
       " 91: u'0108',\n",
       " 92: u'011',\n",
       " 93: u'0110',\n",
       " 94: u'01122005',\n",
       " 95: u'0113554',\n",
       " 96: u'011708',\n",
       " 97: u'012',\n",
       " 98: u'0123039606',\n",
       " 99: u'013',\n",
       " 100: u'013011510x',\n",
       " 101: u'0131232746',\n",
       " 102: u'0139738509',\n",
       " 103: u'014',\n",
       " 104: u'0140265708',\n",
       " 105: u'0140280553',\n",
       " 106: u'0143',\n",
       " 107: u'014a',\n",
       " 108: u'015',\n",
       " 109: u'0158',\n",
       " 110: u'016',\n",
       " 111: u'016a',\n",
       " 112: u'017',\n",
       " 113: u'017384251',\n",
       " 114: u'018',\n",
       " 115: u'0186',\n",
       " 116: u'0195104633dr',\n",
       " 117: u'0195140532winifred',\n",
       " 118: u'0198',\n",
       " 119: u'0198149417',\n",
       " 120: u'0198150784',\n",
       " 121: u'0198155409',\n",
       " 122: u'0198162073',\n",
       " 123: u'0198269862',\n",
       " 124: u'0198299966judaism',\n",
       " 125: u'01analyzing',\n",
       " 126: u'01consulting',\n",
       " 127: u'01he',\n",
       " 128: u'01jazz',\n",
       " 129: u'01kwh',\n",
       " 130: u'01net',\n",
       " 131: u'01oct1952',\n",
       " 132: u'01shave',\n",
       " 133: u'01st',\n",
       " 134: u'01w',\n",
       " 135: u'02',\n",
       " 136: u'020',\n",
       " 137: u'0200',\n",
       " 138: u'0201083191',\n",
       " 139: u'020114218x',\n",
       " 140: u'02011964',\n",
       " 141: u'020139829x',\n",
       " 142: u'0201498278he',\n",
       " 143: u'0201533774',\n",
       " 144: u'020158042x',\n",
       " 145: u'0201580438',\n",
       " 146: u'0201725932',\n",
       " 147: u'0202361373',\n",
       " 148: u'0203',\n",
       " 149: u'02032010',\n",
       " 150: u'0205',\n",
       " 151: u'0208',\n",
       " 152: u'021',\n",
       " 153: u'021050',\n",
       " 154: u'021206',\n",
       " 155: u'021207his',\n",
       " 156: u'02138',\n",
       " 157: u'02182748',\n",
       " 158: u'022',\n",
       " 159: u'022009',\n",
       " 160: u'02202020',\n",
       " 161: u'0225662434',\n",
       " 162: u'0225662434the',\n",
       " 163: u'0226727033',\n",
       " 164: u'022under',\n",
       " 165: u'023',\n",
       " 166: u'0231115113',\n",
       " 167: u'0233976817',\n",
       " 168: u'024',\n",
       " 169: u'0240804120winder',\n",
       " 170: u'0240814215',\n",
       " 171: u'024cd',\n",
       " 172: u'025',\n",
       " 173: u'0252009851we',\n",
       " 174: u'0252014278',\n",
       " 175: u'0252070003',\n",
       " 176: u'026',\n",
       " 177: u'0262195224',\n",
       " 178: u'0262521563',\n",
       " 179: u'0262524570',\n",
       " 180: u'027',\n",
       " 181: u'0273',\n",
       " 182: u'0273langton',\n",
       " 183: u'0275938514',\n",
       " 184: u'028',\n",
       " 185: u'0282',\n",
       " 186: u'029',\n",
       " 187: u'0295973390',\n",
       " 188: u'0295974982',\n",
       " 189: u'02au',\n",
       " 190: u'02he',\n",
       " 191: u'02the',\n",
       " 192: u'03',\n",
       " 193: u'030',\n",
       " 194: u'0300',\n",
       " 195: u'0300051115paul',\n",
       " 196: u'0304',\n",
       " 197: u'03072010',\n",
       " 198: u'03082008',\n",
       " 199: u'031',\n",
       " 200: u'0310227283',\n",
       " 201: u'0312022484',\n",
       " 202: u'0312038054',\n",
       " 203: u'0312151918',\n",
       " 204: u'0312199228',\n",
       " 205: u'0312360398',\n",
       " 206: u'0312913451',\n",
       " 207: u'0313313326professor',\n",
       " 208: u'031538736',\n",
       " 209: u'0316346624',\n",
       " 210: u'0316359564',\n",
       " 211: u'032',\n",
       " 212: u'0321186125an',\n",
       " 213: u'0321187911',\n",
       " 214: u'0321422775balancing',\n",
       " 215: u'0321461088cmmi',\n",
       " 216: u'033',\n",
       " 217: u'0330482688',\n",
       " 218: u'034',\n",
       " 219: u'034042320x',\n",
       " 220: u'0340428910',\n",
       " 221: u'0340500719',\n",
       " 222: u'0340524553',\n",
       " 223: u'0340551097',\n",
       " 224: u'0340565403',\n",
       " 225: u'0340579714',\n",
       " 226: u'0340579730',\n",
       " 227: u'0340628588',\n",
       " 228: u'0340832118',\n",
       " 229: u'0345373065waiting',\n",
       " 230: u'035',\n",
       " 231: u'036',\n",
       " 232: u'037',\n",
       " 233: u'0373892101',\n",
       " 234: u'0375411852joint',\n",
       " 235: u'03790',\n",
       " 236: u'038',\n",
       " 237: u'0380751089review',\n",
       " 238: u'038075343xreview',\n",
       " 239: u'0380755203as',\n",
       " 240: u'0380898527review',\n",
       " 241: u'03824',\n",
       " 242: u'038518011x',\n",
       " 243: u'0387',\n",
       " 244: u'0387942890',\n",
       " 245: u'0393039153',\n",
       " 246: u'0393058697',\n",
       " 247: u'039306073x',\n",
       " 248: u'0394537173the',\n",
       " 249: u'0394546032broadsides',\n",
       " 250: u'03945771243',\n",
       " 251: u'0395827442',\n",
       " 252: u'0395837030sue',\n",
       " 253: u'0395883245a',\n",
       " 254: u'0399513329',\n",
       " 255: u'039951810x',\n",
       " 256: u'03his',\n",
       " 257: u'04',\n",
       " 258: u'040',\n",
       " 259: u'0400',\n",
       " 260: u'04012015',\n",
       " 261: u'0403',\n",
       " 262: u'040407',\n",
       " 263: u'0405',\n",
       " 264: u'040612',\n",
       " 265: u'0407',\n",
       " 266: u'040he',\n",
       " 267: u'041',\n",
       " 268: u'04122006he',\n",
       " 269: u'0413776565bigsby',\n",
       " 270: u'0415049709',\n",
       " 271: u'042',\n",
       " 272: u'04242018',\n",
       " 273: u'04312417676',\n",
       " 274: u'0434',\n",
       " 275: u'04350925',\n",
       " 276: u'044',\n",
       " 277: u'0440223857netter',\n",
       " 278: u'0441',\n",
       " 279: u'0443073457',\n",
       " 280: u'0446329673',\n",
       " 281: u'0446696749',\n",
       " 282: u'045',\n",
       " 283: u'0450048047in',\n",
       " 284: u'04522599832',\n",
       " 285: u'046',\n",
       " 286: u'0465045677metzingers',\n",
       " 287: u'0465091148',\n",
       " 288: u'047',\n",
       " 289: u'0470179147',\n",
       " 290: u'0470540710moffitt',\n",
       " 291: u'0470834005',\n",
       " 292: u'0470838515',\n",
       " 293: u'0471250376',\n",
       " 294: u'0471417920',\n",
       " 295: u'0471489093',\n",
       " 296: u'0471597376in',\n",
       " 297: u'0471683345',\n",
       " 298: u'0471792519in',\n",
       " 299: u'0471833568',\n",
       " 300: u'0471971979',\n",
       " 301: u'0471971987',\n",
       " 302: u'0472114190shrinking',\n",
       " 303: u'048',\n",
       " 304: u'0485w',\n",
       " 305: u'0486',\n",
       " 306: u'049',\n",
       " 307: u'0499',\n",
       " 308: u'04journalist',\n",
       " 309: u'04nikon',\n",
       " 310: u'04s',\n",
       " 311: u'04th',\n",
       " 312: u'05',\n",
       " 313: u'050',\n",
       " 314: u'0500251126the',\n",
       " 315: u'0500274959',\n",
       " 316: u'0500506',\n",
       " 317: u'05012011',\n",
       " 318: u'050187',\n",
       " 319: u'0503',\n",
       " 320: u'0504',\n",
       " 321: u'05042008',\n",
       " 322: u'05042012',\n",
       " 323: u'0505',\n",
       " 324: u'0506',\n",
       " 325: u'050607',\n",
       " 326: u'051',\n",
       " 327: u'0512after',\n",
       " 328: u'0515',\n",
       " 329: u'05151992',\n",
       " 330: u'0517078074',\n",
       " 331: u'0517705427',\n",
       " 332: u'051989after',\n",
       " 333: u'052',\n",
       " 334: u'0520207343',\n",
       " 335: u'052020735',\n",
       " 336: u'0521207886matthew',\n",
       " 337: u'052124160x',\n",
       " 338: u'0521416957',\n",
       " 339: u'0521447828',\n",
       " 340: u'0521582741',\n",
       " 341: u'0521816262',\n",
       " 342: u'05222358230',\n",
       " 343: u'052284085x',\n",
       " 344: u'052340347x',\n",
       " 345: u'0529',\n",
       " 346: u'053shis',\n",
       " 347: u'055',\n",
       " 348: u'0555',\n",
       " 349: u'05564',\n",
       " 350: u'0557049148',\n",
       " 351: u'0559',\n",
       " 352: u'056',\n",
       " 353: u'057',\n",
       " 354: u'0571147763',\n",
       " 355: u'0578054043',\n",
       " 356: u'0586069984',\n",
       " 357: u'059',\n",
       " 358: u'0595089003',\n",
       " 359: u'059534819x',\n",
       " 360: u'0595351689',\n",
       " 361: u'0595376053',\n",
       " 362: u'0595760260',\n",
       " 363: u'0595760260my',\n",
       " 364: u'05b',\n",
       " 365: u'05bn',\n",
       " 366: u'05festival',\n",
       " 367: u'05following',\n",
       " 368: u'05he',\n",
       " 369: u'05kean',\n",
       " 370: u'05m',\n",
       " 371: u'05maio',\n",
       " 372: u'05the',\n",
       " 373: u'06',\n",
       " 374: u'060',\n",
       " 375: u'0600545',\n",
       " 376: u'060218',\n",
       " 377: u'06021960',\n",
       " 378: u'06021999',\n",
       " 379: u'060508',\n",
       " 380: u'06052008',\n",
       " 381: u'06052011',\n",
       " 382: u'0606jason',\n",
       " 383: u'0607',\n",
       " 384: u'061',\n",
       " 385: u'0611',\n",
       " 386: u'0613',\n",
       " 387: u'06140',\n",
       " 388: u'0615202136',\n",
       " 389: u'0618378294',\n",
       " 390: u'0618391118',\n",
       " 391: u'0618446621',\n",
       " 392: u'0618453695',\n",
       " 393: u'0618717609',\n",
       " 394: u'062',\n",
       " 395: u'063',\n",
       " 396: u'06301000',\n",
       " 397: u'0632037571',\n",
       " 398: u'0637',\n",
       " 399: u'064',\n",
       " 400: u'0643704',\n",
       " 401: u'0646043099',\n",
       " 402: u'0646157116',\n",
       " 403: u'0646190296',\n",
       " 404: u'0646352601',\n",
       " 405: u'0646464817guy',\n",
       " 406: u'065',\n",
       " 407: u'066',\n",
       " 408: u'0667',\n",
       " 409: u'067',\n",
       " 410: u'0670043281',\n",
       " 411: u'0676975216',\n",
       " 412: u'0679400036',\n",
       " 413: u'0679400621farflung',\n",
       " 414: u'0679424652',\n",
       " 415: u'067942833xfrom',\n",
       " 416: u'068',\n",
       " 417: u'0683',\n",
       " 418: u'0689106165in',\n",
       " 419: u'069',\n",
       " 420: u'0691070075',\n",
       " 421: u'0691091293',\n",
       " 422: u'0692337008',\n",
       " 423: u'06he',\n",
       " 424: u'06in',\n",
       " 425: u'06m',\n",
       " 426: u'07',\n",
       " 427: u'070',\n",
       " 428: u'0700',\n",
       " 429: u'0705',\n",
       " 430: u'07051978',\n",
       " 431: u'07072014',\n",
       " 432: u'0708',\n",
       " 433: u'071',\n",
       " 434: u'0710',\n",
       " 435: u'0711',\n",
       " 436: u'0714542954',\n",
       " 437: u'0714masella',\n",
       " 438: u'0715631330',\n",
       " 439: u'071670076xdudley',\n",
       " 440: u'0727907867his',\n",
       " 441: u'07292011',\n",
       " 442: u'073',\n",
       " 443: u'0738210447',\n",
       " 444: u'074',\n",
       " 445: u'0743246950',\n",
       " 446: u'0743260481',\n",
       " 447: u'0743271165',\n",
       " 448: u'0743287150',\n",
       " 449: u'0743290429',\n",
       " 450: u'0743466330',\n",
       " 451: u'0743470591',\n",
       " 452: u'074756695x',\n",
       " 453: u'0748663215',\n",
       " 454: u'075',\n",
       " 455: u'0750310219',\n",
       " 456: u'0750944064',\n",
       " 457: u'0750946741',\n",
       " 458: u'0750947497',\n",
       " 459: u'0752450077',\n",
       " 460: u'0752457403',\n",
       " 461: u'0752463527',\n",
       " 462: u'0754',\n",
       " 463: u'0754631222',\n",
       " 464: u'0758202709',\n",
       " 465: u'0758216599',\n",
       " 466: u'076',\n",
       " 467: u'0761839674',\n",
       " 468: u'0762',\n",
       " 469: u'076241541x',\n",
       " 470: u'0765311704stemple',\n",
       " 471: u'077',\n",
       " 472: u'0771016573',\n",
       " 473: u'0771065094in',\n",
       " 474: u'0773478396prior',\n",
       " 475: u'0773507450bakan',\n",
       " 476: u'0773522522',\n",
       " 477: u'0773731911',\n",
       " 478: u'0773gtafter',\n",
       " 479: u'078',\n",
       " 480: u'0786607335',\n",
       " 481: u'0793',\n",
       " 482: u'079second',\n",
       " 483: u'07ghost',\n",
       " 484: u'07in',\n",
       " 485: u'07s',\n",
       " 486: u'08',\n",
       " 487: u'080',\n",
       " 488: u'0801057647jesus',\n",
       " 489: u'0801495427',\n",
       " 490: u'0801862701',\n",
       " 491: u'0802075959',\n",
       " 492: u'0802111068',\n",
       " 493: u'0802807356mark',\n",
       " 494: u'080283549xisbn',\n",
       " 495: u'0802836984first',\n",
       " 496: u'0802849806the',\n",
       " 497: u'0803747527',\n",
       " 498: u'0803938845',\n",
       " 499: u'0803972059',\n",
       " 500: u'0804115559',\n",
       " 501: u'0805791086',\n",
       " 502: u'0806901551',\n",
       " 503: u'0806903449',\n",
       " 504: u'0806904127',\n",
       " 505: u'080690724x',\n",
       " 506: u'0806913045',\n",
       " 507: u'080691811x',\n",
       " 508: u'080692893x',\n",
       " 509: u'0806964979',\n",
       " 510: u'0806969830',\n",
       " 511: u'0806984686',\n",
       " 512: u'0806985429',\n",
       " 513: u'0806987529',\n",
       " 514: u'0806989491',\n",
       " 515: u'0806997117',\n",
       " 516: u'0807',\n",
       " 517: u'0807031119her',\n",
       " 518: u'08072013',\n",
       " 519: u'0808',\n",
       " 520: u'0809',\n",
       " 521: u'080972',\n",
       " 522: u'080m',\n",
       " 523: u'081',\n",
       " 524: u'0810867214',\n",
       " 525: u'0811213420the',\n",
       " 526: u'0811364',\n",
       " 527: u'0811814157',\n",
       " 528: u'0811848752',\n",
       " 529: u'0812235304',\n",
       " 530: u'0812908910',\n",
       " 531: u'0812991583',\n",
       " 532: u'0813333024roman',\n",
       " 533: u'08142013',\n",
       " 534: u'0815603878rudolf',\n",
       " 535: u'0815focus',\n",
       " 536: u'0816030936',\n",
       " 537: u'0816038465',\n",
       " 538: u'0819184454',\n",
       " 539: u'081988',\n",
       " 540: u'082',\n",
       " 541: u'082011',\n",
       " 542: u'082012',\n",
       " 543: u'0820449148',\n",
       " 544: u'0821258303',\n",
       " 545: u'0822317206',\n",
       " 546: u'0825611547',\n",
       " 547: u'0826464637',\n",
       " 548: u'0826470459',\n",
       " 549: u'0827244940',\n",
       " 550: u'083',\n",
       " 551: u'08337029',\n",
       " 552: u'0838905900',\n",
       " 553: u'084',\n",
       " 554: u'0841218366streitwieser',\n",
       " 555: u'0842517901',\n",
       " 556: u'0843909196deadpan',\n",
       " 557: u'084390948xstopgap',\n",
       " 558: u'0843909722as',\n",
       " 559: u'0847819876',\n",
       " 560: u'0849333261',\n",
       " 561: u'085',\n",
       " 562: u'0851989136',\n",
       " 563: u'0852346492',\n",
       " 564: u'0853033803',\n",
       " 565: u'0853459215',\n",
       " 566: u'0855',\n",
       " 567: u'085he',\n",
       " 568: u'086',\n",
       " 569: u'0862434955',\n",
       " 570: u'0867',\n",
       " 571: u'0868409707',\n",
       " 572: u'087',\n",
       " 573: u'0877226504global',\n",
       " 574: u'0877227756communities',\n",
       " 575: u'0877229457',\n",
       " 576: u'0877736103the',\n",
       " 577: u'0877736707harmonic',\n",
       " 578: u'0878332642',\n",
       " 579: u'0878332928',\n",
       " 580: u'0879101733',\n",
       " 581: u'0879759712',\n",
       " 582: u'088',\n",
       " 583: u'0881507032fine',\n",
       " 584: u'0881507423',\n",
       " 585: u'0883441888',\n",
       " 586: u'0883441888prof',\n",
       " 587: u'0883850877',\n",
       " 588: u'0883852020',\n",
       " 589: u'0883855070',\n",
       " 590: u'0883855143',\n",
       " 591: u'0883855240',\n",
       " 592: u'08891027912',\n",
       " 593: u'0889202206',\n",
       " 594: u'0889820228',\n",
       " 595: u'0889991499',\n",
       " 596: u'0889994536',\n",
       " 597: u'0889995737',\n",
       " 598: u'089',\n",
       " 599: u'0892561661horchow',\n",
       " 600: u'0892815604bridge',\n",
       " 601: u'0894',\n",
       " 602: u'0897501446',\n",
       " 603: u'0898230497',\n",
       " 604: u'0898655641',\n",
       " 605: u'08bn06bn',\n",
       " 606: u'08chris',\n",
       " 607: u'08in',\n",
       " 608: u'08ppgjurevicus',\n",
       " 609: u'08though',\n",
       " 610: u'09',\n",
       " 611: u'090',\n",
       " 612: u'0900',\n",
       " 613: u'09008050',\n",
       " 614: u'090182514x',\n",
       " 615: u'0902',\n",
       " 616: u'0906456002',\n",
       " 617: u'0906other',\n",
       " 618: u'09081968',\n",
       " 619: u'0908630360',\n",
       " 620: u'091',\n",
       " 621: u'0910',\n",
       " 622: u'0911',\n",
       " 623: u'09112014',\n",
       " 624: u'091160136',\n",
       " 625: u'091299',\n",
       " 626: u'091364',\n",
       " 627: u'0915368552',\n",
       " 628: u'0916217361as',\n",
       " 629: u'0918432871',\n",
       " 630: u'0920',\n",
       " 631: u'092064art',\n",
       " 632: u'0922',\n",
       " 633: u'09223',\n",
       " 634: u'0929712242he',\n",
       " 635: u'093',\n",
       " 636: u'09301230',\n",
       " 637: u'0930407571',\n",
       " 638: u'0931425379taub',\n",
       " 639: u'0935067140',\n",
       " 640: u'09366',\n",
       " 641: u'0938768336',\n",
       " 642: u'094',\n",
       " 643: u'0944803733ted',\n",
       " 644: u'095',\n",
       " 645: u'0952122642',\n",
       " 646: u'0953695158the',\n",
       " 647: u'0953743829',\n",
       " 648: u'0953979806',\n",
       " 649: u'0954407555',\n",
       " 650: u'0955048206',\n",
       " 651: u'096',\n",
       " 652: u'0961862203kathy',\n",
       " 653: u'0964793059',\n",
       " 654: u'096479308',\n",
       " 655: u'0967202957',\n",
       " 656: u'096720299x',\n",
       " 657: u'0968337309',\n",
       " 658: u'0968568904',\n",
       " 659: u'097',\n",
       " 660: u'0970276834',\n",
       " 661: u'0971509328',\n",
       " 662: u'0972140204',\n",
       " 663: u'0972178902',\n",
       " 664: u'0972669345',\n",
       " 665: u'097268221x',\n",
       " 666: u'0974670103',\n",
       " 667: u'0975578405',\n",
       " 668: u'097746170x',\n",
       " 669: u'0978240519289',\n",
       " 670: u'098',\n",
       " 671: u'099',\n",
       " 672: u'0998',\n",
       " 673: u'0999',\n",
       " 674: u'09areas',\n",
       " 675: u'09both',\n",
       " 676: u'09m',\n",
       " 677: u'09szhkb',\n",
       " 678: u'09the',\n",
       " 679: u'0b',\n",
       " 680: u'0chandigarh',\n",
       " 681: u'0dimensional',\n",
       " 682: u'0draws',\n",
       " 683: u'0f',\n",
       " 684: u'0fer',\n",
       " 685: u'0for1',\n",
       " 686: u'0for13',\n",
       " 687: u'0for1he',\n",
       " 688: u'0for2',\n",
       " 689: u'0for20',\n",
       " 690: u'0for3',\n",
       " 691: u'0for4',\n",
       " 692: u'0for5',\n",
       " 693: u'0for7',\n",
       " 694: u'0for8',\n",
       " 695: u'0g',\n",
       " 696: u'0mahaffey',\n",
       " 697: u'0n',\n",
       " 698: u'0one',\n",
       " 699: u'0rphandrift',\n",
       " 700: u'0rphandrifts',\n",
       " 701: u'0sle',\n",
       " 702: u'0wner',\n",
       " 703: u'0x10c',\n",
       " 704: u'10',\n",
       " 705: u'100',\n",
       " 706: u'1000',\n",
       " 707: u'10000',\n",
       " 708: u'100000',\n",
       " 709: u'1000000',\n",
       " 710: u'10000000',\n",
       " 711: u'100000000',\n",
       " 712: u'1000000000',\n",
       " 713: u'10000000000',\n",
       " 714: u'10000000prior',\n",
       " 715: u'1000000he',\n",
       " 716: u'1000000in',\n",
       " 717: u'1000000jeff',\n",
       " 718: u'1000000mckeever',\n",
       " 719: u'100000and',\n",
       " 720: u'100000at',\n",
       " 721: u'100000best',\n",
       " 722: u'100000garners',\n",
       " 723: u'100000harrington',\n",
       " 724: u'100000in',\n",
       " 725: u'100000mile',\n",
       " 726: u'100000papathanassiou',\n",
       " 727: u'100000pappas',\n",
       " 728: u'100000resident',\n",
       " 729: u'100000the',\n",
       " 730: u'100000verse',\n",
       " 731: u'100000vote',\n",
       " 732: u'100001996',\n",
       " 733: u'1000020000',\n",
       " 734: u'10000ayear',\n",
       " 735: u'10000he',\n",
       " 736: u'10000in',\n",
       " 737: u'10000jata',\n",
       " 738: u'10000km',\n",
       " 739: u'10000m',\n",
       " 740: u'10000m10000',\n",
       " 741: u'10000meter',\n",
       " 742: u'10000metre',\n",
       " 743: u'10000mgrage',\n",
       " 744: u'10000seat',\n",
       " 745: u'10000th',\n",
       " 746: u'10000tommy',\n",
       " 747: u'10000word',\n",
       " 748: u'10000year',\n",
       " 749: u'10001100pm',\n",
       " 750: u'10001300',\n",
       " 751: u'10001400',\n",
       " 752: u'10001500',\n",
       " 753: u'10001536',\n",
       " 754: u'10002500',\n",
       " 755: u'100050',\n",
       " 756: u'10006',\n",
       " 757: u'10007',\n",
       " 758: u'1000900',\n",
       " 759: u'1000acre',\n",
       " 760: u'1000am1230pm',\n",
       " 761: u'1000andrew',\n",
       " 762: u'1000bed',\n",
       " 763: u'1000cc',\n",
       " 764: u'1000ellsworth',\n",
       " 765: u'1000eventi',\n",
       " 766: u'1000holmsen',\n",
       " 767: u'1000hp',\n",
       " 768: u'1000in',\n",
       " 769: u'1000km',\n",
       " 770: u'1000le',\n",
       " 771: u'1000m',\n",
       " 772: u'1000meter',\n",
       " 773: u'1000metre',\n",
       " 774: u'1000mw',\n",
       " 775: u'1000noon',\n",
       " 776: u'1000oaksbarrelcom',\n",
       " 777: u'1000page',\n",
       " 778: u'1000plus',\n",
       " 779: u'1000pm',\n",
       " 780: u'1000point',\n",
       " 781: u'1000pointrebound',\n",
       " 782: u'1000prosecutors',\n",
       " 783: u'1000reggie',\n",
       " 784: u'1000run',\n",
       " 785: u'1000s',\n",
       " 786: u'1000squarefoot',\n",
       " 787: u'1000th',\n",
       " 788: u'1000the',\n",
       " 789: u'1000ukt',\n",
       " 790: u'1000win',\n",
       " 791: u'1000yard',\n",
       " 792: u'1000year',\n",
       " 793: u'1001',\n",
       " 794: u'100100',\n",
       " 795: u'100106',\n",
       " 796: u'100109the',\n",
       " 797: u'100112',\n",
       " 798: u'10011he',\n",
       " 799: u'1001500m',\n",
       " 800: u'100165',\n",
       " 801: u'10017',\n",
       " 802: u'1001the',\n",
       " 803: u'1002',\n",
       " 804: u'10020',\n",
       " 805: u'100200',\n",
       " 806: u'100200and',\n",
       " 807: u'10022012',\n",
       " 808: u'10023',\n",
       " 809: u'10024',\n",
       " 810: u'100250',\n",
       " 811: u'10028',\n",
       " 812: u'1003',\n",
       " 813: u'100300',\n",
       " 814: u'10030they',\n",
       " 815: u'10038',\n",
       " 816: u'1004',\n",
       " 817: u'10043',\n",
       " 818: u'10044',\n",
       " 819: u'100464',\n",
       " 820: u'1004he',\n",
       " 821: u'1004w',\n",
       " 822: u'1005',\n",
       " 823: u'10054',\n",
       " 824: u'10057',\n",
       " 825: u'1005fm',\n",
       " 826: u'1006',\n",
       " 827: u'10061',\n",
       " 828: u'100626',\n",
       " 829: u'10064',\n",
       " 830: u'10066',\n",
       " 831: u'1007',\n",
       " 832: u'10071012',\n",
       " 833: u'100724',\n",
       " 834: u'1007633mose',\n",
       " 835: u'10077',\n",
       " 836: u'1008',\n",
       " 837: u'10081',\n",
       " 838: u'10083',\n",
       " 839: u'1008robert',\n",
       " 840: u'1009',\n",
       " 841: u'10090',\n",
       " 842: u'10093',\n",
       " 843: u'10099',\n",
       " 844: u'100a',\n",
       " 845: u'100acre',\n",
       " 846: u'100after',\n",
       " 847: u'100although',\n",
       " 848: u'100at',\n",
       " 849: u'100b',\n",
       " 850: u'100bed',\n",
       " 851: u'100cc',\n",
       " 852: u'100clue',\n",
       " 853: u'100cyrus',\n",
       " 854: u'100day',\n",
       " 855: u'100dbs',\n",
       " 856: u'100defever',\n",
       " 857: u'100design',\n",
       " 858: u'100digit',\n",
       " 859: u'100e',\n",
       " 860: u'100following',\n",
       " 861: u'100foot',\n",
       " 862: u'100game',\n",
       " 863: u'100garland',\n",
       " 864: u'100girls',\n",
       " 865: u'100he',\n",
       " 866: u'100hour',\n",
       " 867: u'100in',\n",
       " 868: u'100inch',\n",
       " 869: u'100issue',\n",
       " 870: u'100k',\n",
       " 871: u'100kenny',\n",
       " 872: u'100kg',\n",
       " 873: u'100kilometre',\n",
       " 874: u'100km',\n",
       " 875: u'100largest',\n",
       " 876: u'100lbs',\n",
       " 877: u'100lingmerth',\n",
       " 878: u'100lovato',\n",
       " 879: u'100m',\n",
       " 880: u'100mbits',\n",
       " 881: u'100megawatt',\n",
       " 882: u'100meter',\n",
       " 883: u'100metre',\n",
       " 884: u'100mev',\n",
       " 885: u'100mgilbert',\n",
       " 886: u'100mhz',\n",
       " 887: u'100mile',\n",
       " 888: u'100miler',\n",
       " 889: u'100million',\n",
       " 890: u'100ml',\n",
       " 891: u'100mlater',\n",
       " 892: u'100mon',\n",
       " 893: u'100mph',\n",
       " 894: u'100mshe',\n",
       " 895: u'100odd',\n",
       " 896: u'100p196869',\n",
       " 897: u'100page',\n",
       " 898: u'100pages',\n",
       " 899: u'100percent',\n",
       " 900: u'100person',\n",
       " 901: u'100piece',\n",
       " 902: u'100pm',\n",
       " 903: u'100point',\n",
       " 904: u'100ragnarsdottir',\n",
       " 905: u'100rbi',\n",
       " 906: u'100reception',\n",
       " 907: u'100s',\n",
       " 908: u'100seat',\n",
       " 909: u'100she',\n",
       " 910: u'100story',\n",
       " 911: u'100strong',\n",
       " 912: u'100t',\n",
       " 913: u'100th',\n",
       " 914: u'100thaning',\n",
       " 915: u'100thanniversary',\n",
       " 916: u'100the',\n",
       " 917: u'100thyear',\n",
       " 918: u'100to1',\n",
       " 919: u'100to70isora',\n",
       " 920: u'100varbles',\n",
       " 921: u'100voice',\n",
       " 922: u'100watt',\n",
       " 923: u'100whfs',\n",
       " 924: u'100while',\n",
       " 925: u'100williams',\n",
       " 926: u'100williamss',\n",
       " 927: u'100winner',\n",
       " 928: u'100word',\n",
       " 929: u'100y',\n",
       " 930: u'100yard',\n",
       " 931: u'100yd',\n",
       " 932: u'100year',\n",
       " 933: u'100yearold',\n",
       " 934: u'101',\n",
       " 935: u'1010',\n",
       " 936: u'10100',\n",
       " 937: u'101000',\n",
       " 938: u'101000kilometre',\n",
       " 939: u'101002job1813',\n",
       " 940: u'10101',\n",
       " 941: u'101010',\n",
       " 942: u'1010200311012004',\n",
       " 943: u'10102014',\n",
       " 944: u'10106',\n",
       " 945: u'10107',\n",
       " 946: u'10108',\n",
       " 947: u'1010committee',\n",
       " 948: u'1010s',\n",
       " 949: u'1011',\n",
       " 950: u'1011000',\n",
       " 951: u'101106',\n",
       " 952: u'10111',\n",
       " 953: u'101111eci12171',\n",
       " 954: u'101111jiec12196',\n",
       " 955: u'101117',\n",
       " 956: u'10114',\n",
       " 957: u'10115',\n",
       " 958: u'10116',\n",
       " 959: u'1011886',\n",
       " 960: u'10119',\n",
       " 961: u'101194',\n",
       " 962: u'101198101798cadrez',\n",
       " 963: u'1011994',\n",
       " 964: u'1011th',\n",
       " 965: u'1012',\n",
       " 966: u'10120',\n",
       " 967: u'10121',\n",
       " 968: u'1012181927',\n",
       " 969: u'10124at',\n",
       " 970: u'10125he',\n",
       " 971: u'10126',\n",
       " 972: u'1013',\n",
       " 973: u'10131',\n",
       " 974: u'1013249perrys',\n",
       " 975: u'101328',\n",
       " 976: u'10134',\n",
       " 977: u'10135',\n",
       " 978: u'10136',\n",
       " 979: u'10137',\n",
       " 980: u'101385',\n",
       " 981: u'1014',\n",
       " 982: u'10140',\n",
       " 983: u'1014000',\n",
       " 984: u'10141',\n",
       " 985: u'10145',\n",
       " 986: u'10147',\n",
       " 987: u'10148',\n",
       " 988: u'1015',\n",
       " 989: u'10150',\n",
       " 990: u'10153',\n",
       " 991: u'1015310163',\n",
       " 992: u'10156',\n",
       " 993: u'10156on',\n",
       " 994: u'10157',\n",
       " 995: u'1016',\n",
       " 996: u'10160',\n",
       " 997: u'101688',\n",
       " 998: u'1017',\n",
       " 999: u'10177',\n",
       " ...}"
      ]
     },
     "execution_count": 24,
     "metadata": {},
     "output_type": "execute_result"
    }
   ],
   "source": [
    "rvoc"
   ]
  },
  {
   "cell_type": "code",
   "execution_count": 25,
   "metadata": {
    "collapsed": true
   },
   "outputs": [],
   "source": [
    "tfidftransformer = TfidfTransformer(norm=None)\n",
    "tfidf_weight = tfidftransformer.fit_transform(count)"
   ]
  },
  {
   "cell_type": "code",
   "execution_count": 26,
   "metadata": {},
   "outputs": [
    {
     "data": {
      "text/plain": [
       "59071"
      ]
     },
     "execution_count": 26,
     "metadata": {},
     "output_type": "execute_result"
    }
   ],
   "source": [
    "count.shape[0]"
   ]
  },
  {
   "cell_type": "code",
   "execution_count": 27,
   "metadata": {},
   "outputs": [
    {
     "data": {
      "text/plain": [
       "<1x548429 sparse matrix of type '<type 'numpy.int64'>'\n",
       "\twith 138 stored elements in Compressed Sparse Row format>"
      ]
     },
     "execution_count": 27,
     "metadata": {},
     "output_type": "execute_result"
    }
   ],
   "source": [
    "count[0]"
   ]
  },
  {
   "cell_type": "code",
   "execution_count": 28,
   "metadata": {
    "collapsed": true
   },
   "outputs": [],
   "source": [
    "#def compute_tfidf(count,tfidf_M,voc):\n",
    "  #  ans = []\n",
    "  #  num = count.shape[0]\n",
    "  #  for i in range(0,num):\n",
    "   #     idx = np.where(count[i]!=np.zeros(count[i].shape))[1]\n",
    "    #    dic = {}\n",
    "    #    dic = dict((voc[index],tfidf_M[i,index]) for index in idx)\n",
    "    #    ans.append(dic)\n",
    " #   return ans"
   ]
  },
  {
   "cell_type": "code",
   "execution_count": 29,
   "metadata": {
    "collapsed": true
   },
   "outputs": [],
   "source": [
    "#def compute(i):\n",
    "   # idx = np.where(count[i]!=np.zeros(count[i].shape))[1]\n",
    "   # dic = {}\n",
    "   # return dict((rvoc[index],tfidf_weight[i,index]) for index in idx)"
   ]
  },
  {
   "cell_type": "markdown",
   "metadata": {},
   "source": [
    "## Examine the TF-IDF for the Obama article"
   ]
  },
  {
   "cell_type": "code",
   "execution_count": 30,
   "metadata": {
    "collapsed": true
   },
   "outputs": [],
   "source": [
    "obama = people[people['name'] == 'Barack Obama']"
   ]
  },
  {
   "cell_type": "code",
   "execution_count": 31,
   "metadata": {},
   "outputs": [
    {
     "data": {
      "text/plain": [
       "35817"
      ]
     },
     "execution_count": 31,
     "metadata": {},
     "output_type": "execute_result"
    }
   ],
   "source": [
    "obama.index[0]"
   ]
  },
  {
   "cell_type": "code",
   "execution_count": 32,
   "metadata": {},
   "outputs": [
    {
     "data": {
      "text/plain": [
       "array([ 96612, 259893, 533439, 488148,  58906], dtype=int32)"
      ]
     },
     "execution_count": 32,
     "metadata": {},
     "output_type": "execute_result"
    }
   ],
   "source": [
    "tfidf_weight[35817].indices[0:5]   #index of word"
   ]
  },
  {
   "cell_type": "code",
   "execution_count": 33,
   "metadata": {},
   "outputs": [
    {
     "data": {
      "text/plain": [
       "array([  2.53638213,   2.05523155,   3.60739453,  40.00406304,  21.01564776])"
      ]
     },
     "execution_count": 33,
     "metadata": {},
     "output_type": "execute_result"
    }
   ],
   "source": [
    "tfidf_weight[35817].data[0:5]  #weight of word"
   ]
  },
  {
   "cell_type": "code",
   "execution_count": 34,
   "metadata": {},
   "outputs": [
    {
     "data": {
      "text/plain": [
       "u'brk'"
      ]
     },
     "execution_count": 34,
     "metadata": {},
     "output_type": "execute_result"
    }
   ],
   "source": [
    "rvoc[100985]  #index to word"
   ]
  },
  {
   "cell_type": "code",
   "execution_count": 35,
   "metadata": {
    "collapsed": true
   },
   "outputs": [],
   "source": [
    "word = [rvoc[i] for i in tfidf_weight[obama.index[0]].indices]"
   ]
  },
  {
   "cell_type": "code",
   "execution_count": 36,
   "metadata": {},
   "outputs": [
    {
     "data": {
      "text/html": [
       "<div>\n",
       "<style>\n",
       "    .dataframe thead tr:only-child th {\n",
       "        text-align: right;\n",
       "    }\n",
       "\n",
       "    .dataframe thead th {\n",
       "        text-align: left;\n",
       "    }\n",
       "\n",
       "    .dataframe tbody tr th {\n",
       "        vertical-align: top;\n",
       "    }\n",
       "</style>\n",
       "<table border=\"1\" class=\"dataframe\">\n",
       "  <thead>\n",
       "    <tr style=\"text-align: right;\">\n",
       "      <th></th>\n",
       "      <th>tfidf</th>\n",
       "      <th>word</th>\n",
       "    </tr>\n",
       "  </thead>\n",
       "  <tbody>\n",
       "    <tr>\n",
       "      <th>171</th>\n",
       "      <td>52.277114</td>\n",
       "      <td>obama</td>\n",
       "    </tr>\n",
       "    <tr>\n",
       "      <th>3</th>\n",
       "      <td>40.004063</td>\n",
       "      <td>the</td>\n",
       "    </tr>\n",
       "    <tr>\n",
       "      <th>177</th>\n",
       "      <td>35.674051</td>\n",
       "      <td>act</td>\n",
       "    </tr>\n",
       "    <tr>\n",
       "      <th>5</th>\n",
       "      <td>30.028962</td>\n",
       "      <td>in</td>\n",
       "    </tr>\n",
       "    <tr>\n",
       "      <th>155</th>\n",
       "      <td>21.741728</td>\n",
       "      <td>iraq</td>\n",
       "    </tr>\n",
       "  </tbody>\n",
       "</table>\n",
       "</div>"
      ],
      "text/plain": [
       "         tfidf   word\n",
       "171  52.277114  obama\n",
       "3    40.004063    the\n",
       "177  35.674051    act\n",
       "5    30.028962     in\n",
       "155  21.741728   iraq"
      ]
     },
     "execution_count": 36,
     "metadata": {},
     "output_type": "execute_result"
    }
   ],
   "source": [
    "obama_word_count_table = pd.DataFrame({'word':word,'tfidf':tfidf_weight[obama.index[0]].data})\n",
    "obama_word_count_table.sort_values(by='tfidf',ascending =False).head()"
   ]
  },
  {
   "cell_type": "markdown",
   "metadata": {},
   "source": [
    "Words with highest TF-IDF are much more informative."
   ]
  },
  {
   "cell_type": "markdown",
   "metadata": {},
   "source": [
    "# Manually compute distances between a few people\n",
    "\n",
    "Let's manually compare the distances between the articles for a few famous people.  "
   ]
  },
  {
   "cell_type": "code",
   "execution_count": 37,
   "metadata": {
    "collapsed": true
   },
   "outputs": [],
   "source": [
    "clinton = people[people['name'] == 'Bill Clinton']"
   ]
  },
  {
   "cell_type": "code",
   "execution_count": 38,
   "metadata": {
    "collapsed": true
   },
   "outputs": [],
   "source": [
    "beckham = people[people['name'] == 'David Beckham']"
   ]
  },
  {
   "cell_type": "markdown",
   "metadata": {},
   "source": [
    "## Is Obama closer to Clinton than to Beckham?\n",
    "\n",
    "We will use cosine distance, which is given by\n",
    "\n",
    "(1-cosine_similarity) \n",
    "\n",
    "and find that the article about president Obama is closer to the one about former president Clinton than that of footballer David Beckham."
   ]
  },
  {
   "cell_type": "code",
   "execution_count": 39,
   "metadata": {
    "collapsed": true
   },
   "outputs": [],
   "source": [
    "from sklearn.metrics.pairwise import cosine_distances"
   ]
  },
  {
   "cell_type": "code",
   "execution_count": 40,
   "metadata": {},
   "outputs": [
    {
     "data": {
      "text/plain": [
       "0.67497775265246496"
      ]
     },
     "execution_count": 40,
     "metadata": {},
     "output_type": "execute_result"
    }
   ],
   "source": [
    "cosine_distances(tfidf_weight[obama.index[0]],tfidf_weight[clinton.index[0]])[0][0]"
   ]
  },
  {
   "cell_type": "code",
   "execution_count": 41,
   "metadata": {},
   "outputs": [
    {
     "data": {
      "text/plain": [
       "0.84204539753103269"
      ]
     },
     "execution_count": 41,
     "metadata": {},
     "output_type": "execute_result"
    }
   ],
   "source": [
    "cosine_distances(tfidf_weight[obama.index[0]],tfidf_weight[beckham.index[0]])[0][0]"
   ]
  },
  {
   "cell_type": "markdown",
   "metadata": {},
   "source": [
    "# Build a nearest neighbor model for document retrieval\n",
    "\n",
    "We now create a nearest-neighbors model and apply it to document retrieval.  "
   ]
  },
  {
   "cell_type": "code",
   "execution_count": 42,
   "metadata": {},
   "outputs": [
    {
     "data": {
      "text/plain": [
       "0          Digby Morrell\n",
       "1         Alfred J. Lewy\n",
       "2          Harpdog Brown\n",
       "3    Franz Rottensteiner\n",
       "4                 G-Enka\n",
       "Name: name, dtype: object"
      ]
     },
     "execution_count": 42,
     "metadata": {},
     "output_type": "execute_result"
    }
   ],
   "source": [
    "people['name'].head()"
   ]
  },
  {
   "cell_type": "code",
   "execution_count": 43,
   "metadata": {
    "collapsed": true
   },
   "outputs": [],
   "source": [
    "from sklearn.neighbors import KNeighborsClassifier"
   ]
  },
  {
   "cell_type": "code",
   "execution_count": 44,
   "metadata": {},
   "outputs": [
    {
     "data": {
      "text/plain": [
       "KNeighborsClassifier(algorithm='brute', leaf_size=30, metric='cosine',\n",
       "           metric_params=None, n_jobs=1, n_neighbors=5, p=2,\n",
       "           weights='uniform')"
      ]
     },
     "execution_count": 44,
     "metadata": {},
     "output_type": "execute_result"
    }
   ],
   "source": [
    "knn_model = KNeighborsClassifier(algorithm='brute',metric='cosine')\n",
    "knn_model.fit(tfidf_weight,people['name'])"
   ]
  },
  {
   "cell_type": "code",
   "execution_count": 45,
   "metadata": {},
   "outputs": [
    {
     "data": {
      "text/plain": [
       "<59071x548429 sparse matrix of type '<type 'numpy.float64'>'\n",
       "\twith 10244028 stored elements in Compressed Sparse Row format>"
      ]
     },
     "execution_count": 45,
     "metadata": {},
     "output_type": "execute_result"
    }
   ],
   "source": [
    "tfidf_weight"
   ]
  },
  {
   "cell_type": "markdown",
   "metadata": {},
   "source": [
    "# Applying the nearest-neighbors model for retrieval"
   ]
  },
  {
   "cell_type": "markdown",
   "metadata": {},
   "source": [
    "## Who is closest to Obama?"
   ]
  },
  {
   "cell_type": "code",
   "execution_count": 46,
   "metadata": {
    "collapsed": true
   },
   "outputs": [],
   "source": [
    "dist,ind= knn_model.kneighbors(tfidf_weight[obama.index[0]])"
   ]
  },
  {
   "cell_type": "code",
   "execution_count": 47,
   "metadata": {},
   "outputs": [
    {
     "data": {
      "text/plain": [
       "array([[ 0.        ,  0.57078068,  0.61593412,  0.62499347,  0.64976509]])"
      ]
     },
     "execution_count": 47,
     "metadata": {},
     "output_type": "execute_result"
    }
   ],
   "source": [
    "dist"
   ]
  },
  {
   "cell_type": "code",
   "execution_count": 48,
   "metadata": {},
   "outputs": [
    {
     "data": {
      "text/plain": [
       "array([[35817, 24478, 57108, 38376, 38714]])"
      ]
     },
     "execution_count": 48,
     "metadata": {},
     "output_type": "execute_result"
    }
   ],
   "source": [
    "ind"
   ]
  },
  {
   "cell_type": "code",
   "execution_count": 49,
   "metadata": {},
   "outputs": [
    {
     "data": {
      "text/plain": [
       "array([35817, 24478, 57108, 38376, 38714])"
      ]
     },
     "execution_count": 49,
     "metadata": {},
     "output_type": "execute_result"
    }
   ],
   "source": [
    "ind[0]"
   ]
  },
  {
   "cell_type": "code",
   "execution_count": 50,
   "metadata": {
    "collapsed": true
   },
   "outputs": [],
   "source": [
    "#pd.DataFrame({'reference_label':people.ix[ind[0]]['name'],'distance':dist[0]})"
   ]
  },
  {
   "cell_type": "code",
   "execution_count": 51,
   "metadata": {},
   "outputs": [
    {
     "data": {
      "text/html": [
       "<div>\n",
       "<style>\n",
       "    .dataframe thead tr:only-child th {\n",
       "        text-align: right;\n",
       "    }\n",
       "\n",
       "    .dataframe thead th {\n",
       "        text-align: left;\n",
       "    }\n",
       "\n",
       "    .dataframe tbody tr th {\n",
       "        vertical-align: top;\n",
       "    }\n",
       "</style>\n",
       "<table border=\"1\" class=\"dataframe\">\n",
       "  <thead>\n",
       "    <tr style=\"text-align: right;\">\n",
       "      <th></th>\n",
       "      <th>distance</th>\n",
       "      <th>reference_label</th>\n",
       "    </tr>\n",
       "  </thead>\n",
       "  <tbody>\n",
       "    <tr>\n",
       "      <th>35817</th>\n",
       "      <td>0.000000</td>\n",
       "      <td>Barack Obama</td>\n",
       "    </tr>\n",
       "    <tr>\n",
       "      <th>24478</th>\n",
       "      <td>0.570781</td>\n",
       "      <td>Joe Biden</td>\n",
       "    </tr>\n",
       "    <tr>\n",
       "      <th>57108</th>\n",
       "      <td>0.615934</td>\n",
       "      <td>Hillary Rodham Clinton</td>\n",
       "    </tr>\n",
       "    <tr>\n",
       "      <th>38376</th>\n",
       "      <td>0.624993</td>\n",
       "      <td>Samantha Power</td>\n",
       "    </tr>\n",
       "    <tr>\n",
       "      <th>38714</th>\n",
       "      <td>0.649765</td>\n",
       "      <td>Eric Stern (politician)</td>\n",
       "    </tr>\n",
       "  </tbody>\n",
       "</table>\n",
       "</div>"
      ],
      "text/plain": [
       "       distance          reference_label\n",
       "35817  0.000000             Barack Obama\n",
       "24478  0.570781                Joe Biden\n",
       "57108  0.615934   Hillary Rodham Clinton\n",
       "38376  0.624993           Samantha Power\n",
       "38714  0.649765  Eric Stern (politician)"
      ]
     },
     "execution_count": 51,
     "metadata": {},
     "output_type": "execute_result"
    }
   ],
   "source": [
    "pd.DataFrame({'reference_label':people.iloc[ind[0]]['name'],'distance':dist[0]})"
   ]
  },
  {
   "cell_type": "markdown",
   "metadata": {},
   "source": [
    "As we can see, president Obama's article is closest to the one about his vice-president Biden, and those of other politicians.  "
   ]
  },
  {
   "cell_type": "markdown",
   "metadata": {},
   "source": [
    "## Other examples of document retrieval"
   ]
  },
  {
   "cell_type": "code",
   "execution_count": 52,
   "metadata": {
    "collapsed": true
   },
   "outputs": [],
   "source": [
    "swift = people[people['name'] == 'Taylor Swift']"
   ]
  },
  {
   "cell_type": "code",
   "execution_count": 53,
   "metadata": {},
   "outputs": [
    {
     "name": "stderr",
     "output_type": "stream",
     "text": [
      "/Users/apple/anaconda/lib/python2.7/site-packages/ipykernel_launcher.py:2: DeprecationWarning: \n",
      ".ix is deprecated. Please use\n",
      ".loc for label based indexing or\n",
      ".iloc for positional indexing\n",
      "\n",
      "See the documentation here:\n",
      "http://pandas.pydata.org/pandas-docs/stable/indexing.html#deprecate_ix\n",
      "  \n"
     ]
    },
    {
     "data": {
      "text/html": [
       "<div>\n",
       "<style>\n",
       "    .dataframe thead tr:only-child th {\n",
       "        text-align: right;\n",
       "    }\n",
       "\n",
       "    .dataframe thead th {\n",
       "        text-align: left;\n",
       "    }\n",
       "\n",
       "    .dataframe tbody tr th {\n",
       "        vertical-align: top;\n",
       "    }\n",
       "</style>\n",
       "<table border=\"1\" class=\"dataframe\">\n",
       "  <thead>\n",
       "    <tr style=\"text-align: right;\">\n",
       "      <th></th>\n",
       "      <th>distance</th>\n",
       "      <th>reference_label</th>\n",
       "    </tr>\n",
       "  </thead>\n",
       "  <tbody>\n",
       "    <tr>\n",
       "      <th>54264</th>\n",
       "      <td>0.000000</td>\n",
       "      <td>Taylor Swift</td>\n",
       "    </tr>\n",
       "    <tr>\n",
       "      <th>317</th>\n",
       "      <td>0.616139</td>\n",
       "      <td>Carrie Underwood</td>\n",
       "    </tr>\n",
       "    <tr>\n",
       "      <th>27793</th>\n",
       "      <td>0.624745</td>\n",
       "      <td>Adele</td>\n",
       "    </tr>\n",
       "    <tr>\n",
       "      <th>29297</th>\n",
       "      <td>0.637545</td>\n",
       "      <td>Kelly Clarkson</td>\n",
       "    </tr>\n",
       "    <tr>\n",
       "      <th>1341</th>\n",
       "      <td>0.648704</td>\n",
       "      <td>Dolly Parton</td>\n",
       "    </tr>\n",
       "  </tbody>\n",
       "</table>\n",
       "</div>"
      ],
      "text/plain": [
       "       distance   reference_label\n",
       "54264  0.000000      Taylor Swift\n",
       "317    0.616139  Carrie Underwood\n",
       "27793  0.624745             Adele\n",
       "29297  0.637545    Kelly Clarkson\n",
       "1341   0.648704      Dolly Parton"
      ]
     },
     "execution_count": 53,
     "metadata": {},
     "output_type": "execute_result"
    }
   ],
   "source": [
    "dist,ind = knn_model.kneighbors(tfidf_weight[swift.index[0]])\n",
    "pd.DataFrame({'reference_label':people.ix[ind[0]]['name'],'distance':dist[0]})"
   ]
  },
  {
   "cell_type": "code",
   "execution_count": 54,
   "metadata": {
    "collapsed": true
   },
   "outputs": [],
   "source": [
    "jolie = people[people['name'] == 'Angelina Jolie']"
   ]
  },
  {
   "cell_type": "code",
   "execution_count": 55,
   "metadata": {},
   "outputs": [
    {
     "data": {
      "text/html": [
       "<div>\n",
       "<style>\n",
       "    .dataframe thead tr:only-child th {\n",
       "        text-align: right;\n",
       "    }\n",
       "\n",
       "    .dataframe thead th {\n",
       "        text-align: left;\n",
       "    }\n",
       "\n",
       "    .dataframe tbody tr th {\n",
       "        vertical-align: top;\n",
       "    }\n",
       "</style>\n",
       "<table border=\"1\" class=\"dataframe\">\n",
       "  <thead>\n",
       "    <tr style=\"text-align: right;\">\n",
       "      <th></th>\n",
       "      <th>distance</th>\n",
       "      <th>reference_label</th>\n",
       "    </tr>\n",
       "  </thead>\n",
       "  <tbody>\n",
       "    <tr>\n",
       "      <th>39521</th>\n",
       "      <td>0.000000</td>\n",
       "      <td>Angelina Jolie</td>\n",
       "    </tr>\n",
       "    <tr>\n",
       "      <th>29009</th>\n",
       "      <td>0.627905</td>\n",
       "      <td>Barbara Hershey</td>\n",
       "    </tr>\n",
       "    <tr>\n",
       "      <th>57434</th>\n",
       "      <td>0.633770</td>\n",
       "      <td>Glenn Close</td>\n",
       "    </tr>\n",
       "    <tr>\n",
       "      <th>34756</th>\n",
       "      <td>0.643835</td>\n",
       "      <td>Maggie Smith</td>\n",
       "    </tr>\n",
       "    <tr>\n",
       "      <th>44992</th>\n",
       "      <td>0.649956</td>\n",
       "      <td>Julianne Moore</td>\n",
       "    </tr>\n",
       "  </tbody>\n",
       "</table>\n",
       "</div>"
      ],
      "text/plain": [
       "       distance  reference_label\n",
       "39521  0.000000   Angelina Jolie\n",
       "29009  0.627905  Barbara Hershey\n",
       "57434  0.633770      Glenn Close\n",
       "34756  0.643835     Maggie Smith\n",
       "44992  0.649956   Julianne Moore"
      ]
     },
     "execution_count": 55,
     "metadata": {},
     "output_type": "execute_result"
    }
   ],
   "source": [
    "dist,ind = knn_model.kneighbors(tfidf_weight[jolie.index[0]])\n",
    "pd.DataFrame({'reference_label':people.ix[ind[0]]['name'],'distance':dist[0]})"
   ]
  },
  {
   "cell_type": "code",
   "execution_count": 56,
   "metadata": {
    "collapsed": true
   },
   "outputs": [],
   "source": [
    "arnold = people[people['name'] == 'Arnold Schwarzenegger']"
   ]
  },
  {
   "cell_type": "code",
   "execution_count": 57,
   "metadata": {},
   "outputs": [
    {
     "data": {
      "text/html": [
       "<div>\n",
       "<style>\n",
       "    .dataframe thead tr:only-child th {\n",
       "        text-align: right;\n",
       "    }\n",
       "\n",
       "    .dataframe thead th {\n",
       "        text-align: left;\n",
       "    }\n",
       "\n",
       "    .dataframe tbody tr th {\n",
       "        vertical-align: top;\n",
       "    }\n",
       "</style>\n",
       "<table border=\"1\" class=\"dataframe\">\n",
       "  <thead>\n",
       "    <tr style=\"text-align: right;\">\n",
       "      <th></th>\n",
       "      <th>distance</th>\n",
       "      <th>reference_label</th>\n",
       "    </tr>\n",
       "  </thead>\n",
       "  <tbody>\n",
       "    <tr>\n",
       "      <th>16018</th>\n",
       "      <td>0.000000</td>\n",
       "      <td>Arnold Schwarzenegger</td>\n",
       "    </tr>\n",
       "    <tr>\n",
       "      <th>35293</th>\n",
       "      <td>0.739783</td>\n",
       "      <td>Paul Grant (bodybuilder)</td>\n",
       "    </tr>\n",
       "    <tr>\n",
       "      <th>58965</th>\n",
       "      <td>0.746563</td>\n",
       "      <td>Bonnie Garcia</td>\n",
       "    </tr>\n",
       "    <tr>\n",
       "      <th>36682</th>\n",
       "      <td>0.759803</td>\n",
       "      <td>Abel Maldonado</td>\n",
       "    </tr>\n",
       "    <tr>\n",
       "      <th>10499</th>\n",
       "      <td>0.767697</td>\n",
       "      <td>David Israel</td>\n",
       "    </tr>\n",
       "  </tbody>\n",
       "</table>\n",
       "</div>"
      ],
      "text/plain": [
       "       distance           reference_label\n",
       "16018  0.000000     Arnold Schwarzenegger\n",
       "35293  0.739783  Paul Grant (bodybuilder)\n",
       "58965  0.746563             Bonnie Garcia\n",
       "36682  0.759803            Abel Maldonado\n",
       "10499  0.767697              David Israel"
      ]
     },
     "execution_count": 57,
     "metadata": {},
     "output_type": "execute_result"
    }
   ],
   "source": [
    "dist,ind = knn_model.kneighbors(tfidf_weight[arnold.index[0]])\n",
    "pd.DataFrame({'reference_label':people.ix[ind[0]]['name'],'distance':dist[0]})"
   ]
  },
  {
   "cell_type": "markdown",
   "metadata": {},
   "source": [
    "# Question 1"
   ]
  },
  {
   "cell_type": "code",
   "execution_count": 58,
   "metadata": {
    "collapsed": true
   },
   "outputs": [],
   "source": [
    "elton = people[people['name']=='Elton John']"
   ]
  },
  {
   "cell_type": "code",
   "execution_count": 59,
   "metadata": {
    "collapsed": true
   },
   "outputs": [],
   "source": [
    "word = [rvoc[i] for i in count[elton.index[0]].indices]"
   ]
  },
  {
   "cell_type": "code",
   "execution_count": 60,
   "metadata": {
    "collapsed": true
   },
   "outputs": [],
   "source": [
    "elton_word_count_table = pd.DataFrame({'word':word,'count':count[elton.index[0]].data})"
   ]
  },
  {
   "cell_type": "code",
   "execution_count": 61,
   "metadata": {},
   "outputs": [
    {
     "data": {
      "text/html": [
       "<div>\n",
       "<style>\n",
       "    .dataframe thead tr:only-child th {\n",
       "        text-align: right;\n",
       "    }\n",
       "\n",
       "    .dataframe thead th {\n",
       "        text-align: left;\n",
       "    }\n",
       "\n",
       "    .dataframe tbody tr th {\n",
       "        vertical-align: top;\n",
       "    }\n",
       "</style>\n",
       "<table border=\"1\" class=\"dataframe\">\n",
       "  <thead>\n",
       "    <tr style=\"text-align: right;\">\n",
       "      <th></th>\n",
       "      <th>count</th>\n",
       "      <th>word</th>\n",
       "    </tr>\n",
       "  </thead>\n",
       "  <tbody>\n",
       "    <tr>\n",
       "      <th>246</th>\n",
       "      <td>27</td>\n",
       "      <td>the</td>\n",
       "    </tr>\n",
       "    <tr>\n",
       "      <th>244</th>\n",
       "      <td>18</td>\n",
       "      <td>in</td>\n",
       "    </tr>\n",
       "    <tr>\n",
       "      <th>245</th>\n",
       "      <td>15</td>\n",
       "      <td>and</td>\n",
       "    </tr>\n",
       "    <tr>\n",
       "      <th>237</th>\n",
       "      <td>13</td>\n",
       "      <td>of</td>\n",
       "    </tr>\n",
       "    <tr>\n",
       "      <th>219</th>\n",
       "      <td>9</td>\n",
       "      <td>has</td>\n",
       "    </tr>\n",
       "  </tbody>\n",
       "</table>\n",
       "</div>"
      ],
      "text/plain": [
       "     count word\n",
       "246     27  the\n",
       "244     18   in\n",
       "245     15  and\n",
       "237     13   of\n",
       "219      9  has"
      ]
     },
     "execution_count": 61,
     "metadata": {},
     "output_type": "execute_result"
    }
   ],
   "source": [
    "elton_word_count_table.sort_values(by='count',ascending=False).head()"
   ]
  },
  {
   "cell_type": "code",
   "execution_count": 62,
   "metadata": {
    "collapsed": true
   },
   "outputs": [],
   "source": [
    "elton_word_tfidf_table = pd.DataFrame({'word':word,'tfidf':tfidf_weight[elton.index[0]].data})\n"
   ]
  },
  {
   "cell_type": "code",
   "execution_count": 63,
   "metadata": {},
   "outputs": [
    {
     "data": {
      "text/html": [
       "<div>\n",
       "<style>\n",
       "    .dataframe thead tr:only-child th {\n",
       "        text-align: right;\n",
       "    }\n",
       "\n",
       "    .dataframe thead th {\n",
       "        text-align: left;\n",
       "    }\n",
       "\n",
       "    .dataframe tbody tr th {\n",
       "        vertical-align: top;\n",
       "    }\n",
       "</style>\n",
       "<table border=\"1\" class=\"dataframe\">\n",
       "  <thead>\n",
       "    <tr style=\"text-align: right;\">\n",
       "      <th></th>\n",
       "      <th>tfidf</th>\n",
       "      <th>word</th>\n",
       "    </tr>\n",
       "  </thead>\n",
       "  <tbody>\n",
       "    <tr>\n",
       "      <th>5</th>\n",
       "      <td>27.002743</td>\n",
       "      <td>brits</td>\n",
       "    </tr>\n",
       "    <tr>\n",
       "      <th>178</th>\n",
       "      <td>21.298630</td>\n",
       "      <td>1988</td>\n",
       "    </tr>\n",
       "    <tr>\n",
       "      <th>92</th>\n",
       "      <td>20.938563</td>\n",
       "      <td>globe</td>\n",
       "    </tr>\n",
       "    <tr>\n",
       "      <th>188</th>\n",
       "      <td>20.465179</td>\n",
       "      <td>two</td>\n",
       "    </tr>\n",
       "    <tr>\n",
       "      <th>244</th>\n",
       "      <td>20.081204</td>\n",
       "      <td>in</td>\n",
       "    </tr>\n",
       "  </tbody>\n",
       "</table>\n",
       "</div>"
      ],
      "text/plain": [
       "         tfidf   word\n",
       "5    27.002743  brits\n",
       "178  21.298630   1988\n",
       "92   20.938563  globe\n",
       "188  20.465179    two\n",
       "244  20.081204     in"
      ]
     },
     "execution_count": 63,
     "metadata": {},
     "output_type": "execute_result"
    }
   ],
   "source": [
    "elton_word_tfidf_table.sort_values(by='tfidf',ascending=False).head()"
   ]
  },
  {
   "cell_type": "markdown",
   "metadata": {},
   "source": [
    "# Question 2"
   ]
  },
  {
   "cell_type": "code",
   "execution_count": 64,
   "metadata": {
    "collapsed": true
   },
   "outputs": [],
   "source": [
    "victoria = people[people['name']=='Victoria Beckham']"
   ]
  },
  {
   "cell_type": "code",
   "execution_count": 65,
   "metadata": {
    "collapsed": true
   },
   "outputs": [],
   "source": [
    "paul = people[people['name']=='Paul McCartney']"
   ]
  },
  {
   "cell_type": "code",
   "execution_count": 66,
   "metadata": {},
   "outputs": [
    {
     "data": {
      "text/plain": [
       "0.85192118138271955"
      ]
     },
     "execution_count": 66,
     "metadata": {},
     "output_type": "execute_result"
    }
   ],
   "source": [
    "cosine_distances(tfidf_weight[elton.index[0]],tfidf_weight[victoria.index[0]])[0][0]"
   ]
  },
  {
   "cell_type": "code",
   "execution_count": 67,
   "metadata": {},
   "outputs": [
    {
     "data": {
      "text/plain": [
       "0.69231324786877968"
      ]
     },
     "execution_count": 67,
     "metadata": {},
     "output_type": "execute_result"
    }
   ],
   "source": [
    "cosine_distances(tfidf_weight[elton.index[0]],tfidf_weight[paul.index[0]])[0][0]"
   ]
  },
  {
   "cell_type": "markdown",
   "metadata": {},
   "source": [
    "# Question 3"
   ]
  },
  {
   "cell_type": "code",
   "execution_count": 68,
   "metadata": {},
   "outputs": [
    {
     "data": {
      "text/plain": [
       "KNeighborsClassifier(algorithm='brute', leaf_size=30, metric='cosine',\n",
       "           metric_params=None, n_jobs=1, n_neighbors=5, p=2,\n",
       "           weights='uniform')"
      ]
     },
     "execution_count": 68,
     "metadata": {},
     "output_type": "execute_result"
    }
   ],
   "source": [
    "knn_model_wordcounts = KNeighborsClassifier(algorithm='brute',metric='cosine')\n",
    "knn_model_wordcounts.fit(count,people['name'])"
   ]
  },
  {
   "cell_type": "code",
   "execution_count": 69,
   "metadata": {},
   "outputs": [
    {
     "data": {
      "text/plain": [
       "KNeighborsClassifier(algorithm='brute', leaf_size=30, metric='cosine',\n",
       "           metric_params=None, n_jobs=1, n_neighbors=5, p=2,\n",
       "           weights='uniform')"
      ]
     },
     "execution_count": 69,
     "metadata": {},
     "output_type": "execute_result"
    }
   ],
   "source": [
    "knn_model_tfidf = KNeighborsClassifier(algorithm='brute',metric='cosine')\n",
    "knn_model_tfidf.fit(tfidf_weight,people['name'])"
   ]
  },
  {
   "cell_type": "code",
   "execution_count": 70,
   "metadata": {},
   "outputs": [
    {
     "data": {
      "text/html": [
       "<div>\n",
       "<style>\n",
       "    .dataframe thead tr:only-child th {\n",
       "        text-align: right;\n",
       "    }\n",
       "\n",
       "    .dataframe thead th {\n",
       "        text-align: left;\n",
       "    }\n",
       "\n",
       "    .dataframe tbody tr th {\n",
       "        vertical-align: top;\n",
       "    }\n",
       "</style>\n",
       "<table border=\"1\" class=\"dataframe\">\n",
       "  <thead>\n",
       "    <tr style=\"text-align: right;\">\n",
       "      <th></th>\n",
       "      <th>distance</th>\n",
       "      <th>reference_label</th>\n",
       "    </tr>\n",
       "  </thead>\n",
       "  <tbody>\n",
       "    <tr>\n",
       "      <th>19923</th>\n",
       "      <td>0.237925</td>\n",
       "      <td>Elton John</td>\n",
       "    </tr>\n",
       "    <tr>\n",
       "      <th>28825</th>\n",
       "      <td>0.519477</td>\n",
       "      <td>Rod Stewart</td>\n",
       "    </tr>\n",
       "    <tr>\n",
       "      <th>29297</th>\n",
       "      <td>0.536914</td>\n",
       "      <td>Kelly Clarkson</td>\n",
       "    </tr>\n",
       "    <tr>\n",
       "      <th>17505</th>\n",
       "      <td>0.537179</td>\n",
       "      <td>George Michael</td>\n",
       "    </tr>\n",
       "    <tr>\n",
       "      <th>16423</th>\n",
       "      <td>0.539300</td>\n",
       "      <td>Usher (entertainer)</td>\n",
       "    </tr>\n",
       "  </tbody>\n",
       "</table>\n",
       "</div>"
      ],
      "text/plain": [
       "       distance      reference_label\n",
       "19923  0.237925           Elton John\n",
       "28825  0.519477          Rod Stewart\n",
       "29297  0.536914       Kelly Clarkson\n",
       "17505  0.537179       George Michael\n",
       "16423  0.539300  Usher (entertainer)"
      ]
     },
     "execution_count": 70,
     "metadata": {},
     "output_type": "execute_result"
    }
   ],
   "source": [
    "dist,ind = knn_model_wordcounts.kneighbors(tfidf_weight[elton.index[0]])\n",
    "pd.DataFrame({'reference_label':people.ix[ind[0]]['name'],'distance':dist[0]})"
   ]
  },
  {
   "cell_type": "code",
   "execution_count": 71,
   "metadata": {},
   "outputs": [
    {
     "data": {
      "text/html": [
       "<div>\n",
       "<style>\n",
       "    .dataframe thead tr:only-child th {\n",
       "        text-align: right;\n",
       "    }\n",
       "\n",
       "    .dataframe thead th {\n",
       "        text-align: left;\n",
       "    }\n",
       "\n",
       "    .dataframe tbody tr th {\n",
       "        vertical-align: top;\n",
       "    }\n",
       "</style>\n",
       "<table border=\"1\" class=\"dataframe\">\n",
       "  <thead>\n",
       "    <tr style=\"text-align: right;\">\n",
       "      <th></th>\n",
       "      <th>distance</th>\n",
       "      <th>reference_label</th>\n",
       "    </tr>\n",
       "  </thead>\n",
       "  <tbody>\n",
       "    <tr>\n",
       "      <th>19923</th>\n",
       "      <td>2.220446e-16</td>\n",
       "      <td>Elton John</td>\n",
       "    </tr>\n",
       "    <tr>\n",
       "      <th>28825</th>\n",
       "      <td>5.893611e-01</td>\n",
       "      <td>Rod Stewart</td>\n",
       "    </tr>\n",
       "    <tr>\n",
       "      <th>31595</th>\n",
       "      <td>6.336579e-01</td>\n",
       "      <td>Phil Collins</td>\n",
       "    </tr>\n",
       "    <tr>\n",
       "      <th>27793</th>\n",
       "      <td>6.365243e-01</td>\n",
       "      <td>Adele</td>\n",
       "    </tr>\n",
       "    <tr>\n",
       "      <th>26049</th>\n",
       "      <td>6.423975e-01</td>\n",
       "      <td>Sting (musician)</td>\n",
       "    </tr>\n",
       "  </tbody>\n",
       "</table>\n",
       "</div>"
      ],
      "text/plain": [
       "           distance   reference_label\n",
       "19923  2.220446e-16        Elton John\n",
       "28825  5.893611e-01       Rod Stewart\n",
       "31595  6.336579e-01      Phil Collins\n",
       "27793  6.365243e-01             Adele\n",
       "26049  6.423975e-01  Sting (musician)"
      ]
     },
     "execution_count": 71,
     "metadata": {},
     "output_type": "execute_result"
    }
   ],
   "source": [
    "dist,ind = knn_model_tfidf.kneighbors(tfidf_weight[elton.index[0]])\n",
    "pd.DataFrame({'reference_label':people.ix[ind[0]]['name'],'distance':dist[0]})"
   ]
  },
  {
   "cell_type": "code",
   "execution_count": 72,
   "metadata": {},
   "outputs": [
    {
     "data": {
      "text/html": [
       "<div>\n",
       "<style>\n",
       "    .dataframe thead tr:only-child th {\n",
       "        text-align: right;\n",
       "    }\n",
       "\n",
       "    .dataframe thead th {\n",
       "        text-align: left;\n",
       "    }\n",
       "\n",
       "    .dataframe tbody tr th {\n",
       "        vertical-align: top;\n",
       "    }\n",
       "</style>\n",
       "<table border=\"1\" class=\"dataframe\">\n",
       "  <thead>\n",
       "    <tr style=\"text-align: right;\">\n",
       "      <th></th>\n",
       "      <th>distance</th>\n",
       "      <th>reference_label</th>\n",
       "    </tr>\n",
       "  </thead>\n",
       "  <tbody>\n",
       "    <tr>\n",
       "      <th>50411</th>\n",
       "      <td>0.284010</td>\n",
       "      <td>Victoria Beckham</td>\n",
       "    </tr>\n",
       "    <tr>\n",
       "      <th>23386</th>\n",
       "      <td>0.659912</td>\n",
       "      <td>David Beckham</td>\n",
       "    </tr>\n",
       "    <tr>\n",
       "      <th>56064</th>\n",
       "      <td>0.668681</td>\n",
       "      <td>Yuliya Polishchuk</td>\n",
       "    </tr>\n",
       "    <tr>\n",
       "      <th>58438</th>\n",
       "      <td>0.676464</td>\n",
       "      <td>Mona al Mansouri</td>\n",
       "    </tr>\n",
       "    <tr>\n",
       "      <th>6635</th>\n",
       "      <td>0.682756</td>\n",
       "      <td>Wal%C3%A9 Adeyemi</td>\n",
       "    </tr>\n",
       "  </tbody>\n",
       "</table>\n",
       "</div>"
      ],
      "text/plain": [
       "       distance    reference_label\n",
       "50411  0.284010   Victoria Beckham\n",
       "23386  0.659912      David Beckham\n",
       "56064  0.668681  Yuliya Polishchuk\n",
       "58438  0.676464   Mona al Mansouri\n",
       "6635   0.682756  Wal%C3%A9 Adeyemi"
      ]
     },
     "execution_count": 72,
     "metadata": {},
     "output_type": "execute_result"
    }
   ],
   "source": [
    "dist,ind = knn_model_wordcounts.kneighbors(tfidf_weight[victoria.index[0]])\n",
    "pd.DataFrame({'reference_label':people.ix[ind[0]]['name'],'distance':dist[0]})"
   ]
  },
  {
   "cell_type": "code",
   "execution_count": 73,
   "metadata": {},
   "outputs": [
    {
     "data": {
      "text/html": [
       "<div>\n",
       "<style>\n",
       "    .dataframe thead tr:only-child th {\n",
       "        text-align: right;\n",
       "    }\n",
       "\n",
       "    .dataframe thead th {\n",
       "        text-align: left;\n",
       "    }\n",
       "\n",
       "    .dataframe tbody tr th {\n",
       "        vertical-align: top;\n",
       "    }\n",
       "</style>\n",
       "<table border=\"1\" class=\"dataframe\">\n",
       "  <thead>\n",
       "    <tr style=\"text-align: right;\">\n",
       "      <th></th>\n",
       "      <th>distance</th>\n",
       "      <th>reference_label</th>\n",
       "    </tr>\n",
       "  </thead>\n",
       "  <tbody>\n",
       "    <tr>\n",
       "      <th>50411</th>\n",
       "      <td>2.220446e-16</td>\n",
       "      <td>Victoria Beckham</td>\n",
       "    </tr>\n",
       "    <tr>\n",
       "      <th>23386</th>\n",
       "      <td>5.464767e-01</td>\n",
       "      <td>David Beckham</td>\n",
       "    </tr>\n",
       "    <tr>\n",
       "      <th>17264</th>\n",
       "      <td>7.184218e-01</td>\n",
       "      <td>Mel B</td>\n",
       "    </tr>\n",
       "    <tr>\n",
       "      <th>39144</th>\n",
       "      <td>7.459557e-01</td>\n",
       "      <td>Stephen Dow Beckham</td>\n",
       "    </tr>\n",
       "    <tr>\n",
       "      <th>5385</th>\n",
       "      <td>7.518478e-01</td>\n",
       "      <td>Hilary Alexander</td>\n",
       "    </tr>\n",
       "  </tbody>\n",
       "</table>\n",
       "</div>"
      ],
      "text/plain": [
       "           distance      reference_label\n",
       "50411  2.220446e-16     Victoria Beckham\n",
       "23386  5.464767e-01        David Beckham\n",
       "17264  7.184218e-01                Mel B\n",
       "39144  7.459557e-01  Stephen Dow Beckham\n",
       "5385   7.518478e-01     Hilary Alexander"
      ]
     },
     "execution_count": 73,
     "metadata": {},
     "output_type": "execute_result"
    }
   ],
   "source": [
    "dist,ind = knn_model_tfidf.kneighbors(tfidf_weight[victoria.index[0]])\n",
    "pd.DataFrame({'reference_label':people.ix[ind[0]]['name'],'distance':dist[0]})"
   ]
  }
 ],
 "metadata": {
  "kernelspec": {
   "display_name": "Python 2",
   "language": "python",
   "name": "python2"
  },
  "language_info": {
   "codemirror_mode": {
    "name": "ipython",
    "version": 2
   },
   "file_extension": ".py",
   "mimetype": "text/x-python",
   "name": "python",
   "nbconvert_exporter": "python",
   "pygments_lexer": "ipython2",
   "version": "2.7.14"
  }
 },
 "nbformat": 4,
 "nbformat_minor": 1
}

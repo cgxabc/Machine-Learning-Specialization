{
 "cells": [
  {
   "cell_type": "markdown",
   "metadata": {},
   "source": [
    "# Using deep features to build an image classifier"
   ]
  },
  {
   "cell_type": "code",
   "execution_count": 10,
   "metadata": {
    "collapsed": true
   },
   "outputs": [],
   "source": [
    "import numpy as np\n",
    "import pandas as pd\n",
    "import matplotlib.pyplot as plt\n",
    "%matplotlib inline"
   ]
  },
  {
   "cell_type": "markdown",
   "metadata": {},
   "source": [
    "# Load a common image analysis dataset\n",
    "\n",
    "We will use a popular benchmark dataset in computer vision called CIFAR-10.  \n",
    "\n",
    "(We've reduced the data to just 4 categories = {'cat','bird','automobile','dog'}.)\n",
    "\n",
    "This dataset is already split into a training set and test set.  "
   ]
  },
  {
   "cell_type": "code",
   "execution_count": 11,
   "metadata": {
    "collapsed": true
   },
   "outputs": [],
   "source": [
    "image_train = pd.read_csv('image_train_data.csv')\n",
    "image_test = pd.read_csv('image_test_data.csv')"
   ]
  },
  {
   "cell_type": "markdown",
   "metadata": {},
   "source": [
    "# Exploring the image data"
   ]
  },
  {
   "cell_type": "code",
   "execution_count": 12,
   "metadata": {},
   "outputs": [
    {
     "data": {
      "text/html": [
       "<div>\n",
       "<style>\n",
       "    .dataframe thead tr:only-child th {\n",
       "        text-align: right;\n",
       "    }\n",
       "\n",
       "    .dataframe thead th {\n",
       "        text-align: left;\n",
       "    }\n",
       "\n",
       "    .dataframe tbody tr th {\n",
       "        vertical-align: top;\n",
       "    }\n",
       "</style>\n",
       "<table border=\"1\" class=\"dataframe\">\n",
       "  <thead>\n",
       "    <tr style=\"text-align: right;\">\n",
       "      <th></th>\n",
       "      <th>id</th>\n",
       "      <th>image</th>\n",
       "      <th>label</th>\n",
       "      <th>deep_features</th>\n",
       "      <th>image_array</th>\n",
       "    </tr>\n",
       "  </thead>\n",
       "  <tbody>\n",
       "    <tr>\n",
       "      <th>0</th>\n",
       "      <td>24</td>\n",
       "      <td>Height: 32 Width: 32</td>\n",
       "      <td>bird</td>\n",
       "      <td>[0.242872 1.09545 0 0.39363 0 0 11.8949 0 0 0 ...</td>\n",
       "      <td>[73 77 58 71 68 50 77 69 44 120 116 83 125 120...</td>\n",
       "    </tr>\n",
       "    <tr>\n",
       "      <th>1</th>\n",
       "      <td>33</td>\n",
       "      <td>Height: 32 Width: 32</td>\n",
       "      <td>cat</td>\n",
       "      <td>[0.525088 0 0 0 0 0 9.94829 0 0 0 0 0 1.01264 ...</td>\n",
       "      <td>[7 5 8 7 5 8 5 4 6 7 4 7 11 5 9 11 5 9 17 11 1...</td>\n",
       "    </tr>\n",
       "    <tr>\n",
       "      <th>2</th>\n",
       "      <td>36</td>\n",
       "      <td>Height: 32 Width: 32</td>\n",
       "      <td>cat</td>\n",
       "      <td>[0.566016 0 0 0 0 0 9.9972 0 0 0 1.38345 0 0.7...</td>\n",
       "      <td>[169 122 65 131 108 75 193 196 192 218 221 222...</td>\n",
       "    </tr>\n",
       "    <tr>\n",
       "      <th>3</th>\n",
       "      <td>70</td>\n",
       "      <td>Height: 32 Width: 32</td>\n",
       "      <td>dog</td>\n",
       "      <td>[1.1298 0 0 0.778194 0 0.758051 9.83053 0 0 0....</td>\n",
       "      <td>[154 179 152 159 183 157 165 189 162 174 199 1...</td>\n",
       "    </tr>\n",
       "    <tr>\n",
       "      <th>4</th>\n",
       "      <td>90</td>\n",
       "      <td>Height: 32 Width: 32</td>\n",
       "      <td>bird</td>\n",
       "      <td>[1.71787 0 0 0 0 0 9.33936 0 0 0 0 0 0.412137 ...</td>\n",
       "      <td>[216 195 180 201 178 160 210 184 164 212 188 1...</td>\n",
       "    </tr>\n",
       "  </tbody>\n",
       "</table>\n",
       "</div>"
      ],
      "text/plain": [
       "   id                 image label  \\\n",
       "0  24  Height: 32 Width: 32  bird   \n",
       "1  33  Height: 32 Width: 32   cat   \n",
       "2  36  Height: 32 Width: 32   cat   \n",
       "3  70  Height: 32 Width: 32   dog   \n",
       "4  90  Height: 32 Width: 32  bird   \n",
       "\n",
       "                                       deep_features  \\\n",
       "0  [0.242872 1.09545 0 0.39363 0 0 11.8949 0 0 0 ...   \n",
       "1  [0.525088 0 0 0 0 0 9.94829 0 0 0 0 0 1.01264 ...   \n",
       "2  [0.566016 0 0 0 0 0 9.9972 0 0 0 1.38345 0 0.7...   \n",
       "3  [1.1298 0 0 0.778194 0 0.758051 9.83053 0 0 0....   \n",
       "4  [1.71787 0 0 0 0 0 9.33936 0 0 0 0 0 0.412137 ...   \n",
       "\n",
       "                                         image_array  \n",
       "0  [73 77 58 71 68 50 77 69 44 120 116 83 125 120...  \n",
       "1  [7 5 8 7 5 8 5 4 6 7 4 7 11 5 9 11 5 9 17 11 1...  \n",
       "2  [169 122 65 131 108 75 193 196 192 218 221 222...  \n",
       "3  [154 179 152 159 183 157 165 189 162 174 199 1...  \n",
       "4  [216 195 180 201 178 160 210 184 164 212 188 1...  "
      ]
     },
     "execution_count": 12,
     "metadata": {},
     "output_type": "execute_result"
    }
   ],
   "source": [
    "image_train.head()"
   ]
  },
  {
   "cell_type": "code",
   "execution_count": 13,
   "metadata": {},
   "outputs": [
    {
     "data": {
      "text/plain": [
       "0    Height: 32 Width: 32\n",
       "1    Height: 32 Width: 32\n",
       "2    Height: 32 Width: 32\n",
       "3    Height: 32 Width: 32\n",
       "4    Height: 32 Width: 32\n",
       "Name: image, dtype: object"
      ]
     },
     "execution_count": 13,
     "metadata": {},
     "output_type": "execute_result"
    }
   ],
   "source": [
    "image_train['image'].head()"
   ]
  },
  {
   "cell_type": "code",
   "execution_count": 14,
   "metadata": {},
   "outputs": [
    {
     "data": {
      "text/plain": [
       "0    [73 77 58 71 68 50 77 69 44 120 116 83 125 120...\n",
       "1    [7 5 8 7 5 8 5 4 6 7 4 7 11 5 9 11 5 9 17 11 1...\n",
       "2    [169 122 65 131 108 75 193 196 192 218 221 222...\n",
       "3    [154 179 152 159 183 157 165 189 162 174 199 1...\n",
       "4    [216 195 180 201 178 160 210 184 164 212 188 1...\n",
       "Name: image_array, dtype: object"
      ]
     },
     "execution_count": 14,
     "metadata": {},
     "output_type": "execute_result"
    }
   ],
   "source": [
    "image_train['image_array'].head()"
   ]
  },
  {
   "cell_type": "code",
   "execution_count": 15,
   "metadata": {},
   "outputs": [
    {
     "data": {
      "text/plain": [
       "'['"
      ]
     },
     "execution_count": 15,
     "metadata": {},
     "output_type": "execute_result"
    }
   ],
   "source": [
    "image_train['image_array'][0][0]"
   ]
  },
  {
   "cell_type": "markdown",
   "metadata": {},
   "source": [
    "# Train a classifier on the raw image pixels\n",
    "\n",
    "We first start by training a classifier on just the raw pixels of the image."
   ]
  },
  {
   "cell_type": "code",
   "execution_count": 16,
   "metadata": {
    "collapsed": true
   },
   "outputs": [],
   "source": [
    "from sklearn.linear_model import LogisticRegression\n",
    "from sklearn import preprocessing"
   ]
  },
  {
   "cell_type": "code",
   "execution_count": 17,
   "metadata": {
    "collapsed": true
   },
   "outputs": [],
   "source": [
    "raw_pixel_model = LogisticRegression()\n",
    "le = preprocessing.LabelEncoder()"
   ]
  },
  {
   "cell_type": "code",
   "execution_count": 18,
   "metadata": {
    "collapsed": true
   },
   "outputs": [],
   "source": [
    "image_train['image_array'] = image_train['image_array'].apply(lambda x: [int(i) for i in x[1:-1].split(' ')])\n",
    "image_test['image_array'] = image_test['image_array'].apply(lambda x: [int(i) for i in x[1:-1].split(' ')])"
   ]
  },
  {
   "cell_type": "code",
   "execution_count": 19,
   "metadata": {},
   "outputs": [
    {
     "data": {
      "text/plain": [
       "0    [73, 77, 58, 71, 68, 50, 77, 69, 44, 120, 116,...\n",
       "1    [7, 5, 8, 7, 5, 8, 5, 4, 6, 7, 4, 7, 11, 5, 9,...\n",
       "2    [169, 122, 65, 131, 108, 75, 193, 196, 192, 21...\n",
       "3    [154, 179, 152, 159, 183, 157, 165, 189, 162, ...\n",
       "4    [216, 195, 180, 201, 178, 160, 210, 184, 164, ...\n",
       "Name: image_array, dtype: object"
      ]
     },
     "execution_count": 19,
     "metadata": {},
     "output_type": "execute_result"
    }
   ],
   "source": [
    "image_train['image_array'].head()"
   ]
  },
  {
   "cell_type": "code",
   "execution_count": 24,
   "metadata": {},
   "outputs": [
    {
     "data": {
      "text/plain": [
       "0    bird\n",
       "1     cat\n",
       "2     cat\n",
       "3     dog\n",
       "4    bird\n",
       "Name: label, dtype: object"
      ]
     },
     "execution_count": 24,
     "metadata": {},
     "output_type": "execute_result"
    }
   ],
   "source": [
    "image_train.label.head()"
   ]
  },
  {
   "cell_type": "code",
   "execution_count": 20,
   "metadata": {
    "collapsed": true
   },
   "outputs": [],
   "source": [
    "train_image_array = [i for i in image_train['image_array'].values]"
   ]
  },
  {
   "cell_type": "code",
   "execution_count": 25,
   "metadata": {
    "collapsed": true
   },
   "outputs": [],
   "source": [
    "train_y = le.fit_transform(image_train.label)"
   ]
  },
  {
   "cell_type": "code",
   "execution_count": 26,
   "metadata": {},
   "outputs": [
    {
     "data": {
      "text/plain": [
       "LogisticRegression(C=1.0, class_weight=None, dual=False, fit_intercept=True,\n",
       "          intercept_scaling=1, max_iter=100, multi_class='ovr', n_jobs=1,\n",
       "          penalty='l2', random_state=None, solver='liblinear', tol=0.0001,\n",
       "          verbose=0, warm_start=False)"
      ]
     },
     "execution_count": 26,
     "metadata": {},
     "output_type": "execute_result"
    }
   ],
   "source": [
    "raw_pixel_model.fit(train_image_array, train_y)"
   ]
  },
  {
   "cell_type": "markdown",
   "metadata": {},
   "source": [
    "# Make a prediction with the simple model based on raw pixels"
   ]
  },
  {
   "cell_type": "code",
   "execution_count": 29,
   "metadata": {
    "collapsed": true
   },
   "outputs": [],
   "source": [
    "test_image_array = [i for i in image_test['image_array'].values]\n",
    "test_y = le.transform(image_test.label)"
   ]
  },
  {
   "cell_type": "code",
   "execution_count": 30,
   "metadata": {},
   "outputs": [
    {
     "data": {
      "text/plain": [
       "0           cat\n",
       "1    automobile\n",
       "2           cat\n",
       "Name: label, dtype: object"
      ]
     },
     "execution_count": 30,
     "metadata": {},
     "output_type": "execute_result"
    }
   ],
   "source": [
    "image_test[0:3]['label']"
   ]
  },
  {
   "cell_type": "code",
   "execution_count": 31,
   "metadata": {},
   "outputs": [
    {
     "data": {
      "text/plain": [
       "array(['dog', 'cat', 'dog'], dtype=object)"
      ]
     },
     "execution_count": 31,
     "metadata": {},
     "output_type": "execute_result"
    }
   ],
   "source": [
    "le.inverse_transform(raw_pixel_model.predict(test_image_array[0:3]))"
   ]
  },
  {
   "cell_type": "markdown",
   "metadata": {},
   "source": [
    "The model makes wrong predictions for all three images."
   ]
  },
  {
   "cell_type": "markdown",
   "metadata": {},
   "source": [
    "# Evaluating raw pixel model on test data"
   ]
  },
  {
   "cell_type": "code",
   "execution_count": 33,
   "metadata": {
    "collapsed": true
   },
   "outputs": [],
   "source": [
    "from sklearn.metrics import accuracy_score"
   ]
  },
  {
   "cell_type": "code",
   "execution_count": 34,
   "metadata": {
    "collapsed": true
   },
   "outputs": [],
   "source": [
    "true_label = le.transform(image_test['label'])\n",
    "raw_pred_label = raw_pixel_model.predict(test_image_array)"
   ]
  },
  {
   "cell_type": "code",
   "execution_count": 35,
   "metadata": {},
   "outputs": [
    {
     "data": {
      "text/plain": [
       "0.39650000000000002"
      ]
     },
     "execution_count": 35,
     "metadata": {},
     "output_type": "execute_result"
    }
   ],
   "source": [
    "accuracy_score(true_label, raw_pred_label)"
   ]
  },
  {
   "cell_type": "markdown",
   "metadata": {},
   "source": [
    "The accuracy of this model is poor, getting only about 46% accuracy."
   ]
  },
  {
   "cell_type": "markdown",
   "metadata": {},
   "source": [
    "# Can we improve the model using deep features\n",
    "\n",
    "We only have 2005 data points, so it is not possible to train a deep neural network effectively with so little data.  Instead, we will use transfer learning: using deep features trained on the full ImageNet dataset, we will train a simple model on this small dataset."
   ]
  },
  {
   "cell_type": "code",
   "execution_count": 36,
   "metadata": {},
   "outputs": [
    {
     "data": {
      "text/plain": [
       "2005"
      ]
     },
     "execution_count": 36,
     "metadata": {},
     "output_type": "execute_result"
    }
   ],
   "source": [
    "len(image_train)"
   ]
  },
  {
   "cell_type": "markdown",
   "metadata": {},
   "source": [
    "## Computing deep features for our images\n",
    "\n",
    "The two lines below allow us to compute deep features.  This computation takes a little while, so we have already computed them and saved the results as a column in the data you loaded. \n",
    "\n",
    "(Note that if you would like to compute such deep features and have a GPU on your machine, you should use the GPU enabled GraphLab Create, which will be significantly faster for this task.)"
   ]
  },
  {
   "cell_type": "code",
   "execution_count": 38,
   "metadata": {
    "collapsed": true
   },
   "outputs": [],
   "source": [
    "# deep_learning_model = graphlab.load_model('http://s3.amazonaws.com/GraphLab-Datasets/deeplearning/imagenet_model_iter45')\n",
    "# image_train['deep_features'] = deep_learning_model.extract_features(image_train)"
   ]
  },
  {
   "cell_type": "markdown",
   "metadata": {},
   "source": [
    "As we can see, the column deep_features already contains the pre-computed deep features for this data. "
   ]
  },
  {
   "cell_type": "code",
   "execution_count": 39,
   "metadata": {},
   "outputs": [
    {
     "data": {
      "text/html": [
       "<div>\n",
       "<style>\n",
       "    .dataframe thead tr:only-child th {\n",
       "        text-align: right;\n",
       "    }\n",
       "\n",
       "    .dataframe thead th {\n",
       "        text-align: left;\n",
       "    }\n",
       "\n",
       "    .dataframe tbody tr th {\n",
       "        vertical-align: top;\n",
       "    }\n",
       "</style>\n",
       "<table border=\"1\" class=\"dataframe\">\n",
       "  <thead>\n",
       "    <tr style=\"text-align: right;\">\n",
       "      <th></th>\n",
       "      <th>id</th>\n",
       "      <th>image</th>\n",
       "      <th>label</th>\n",
       "      <th>deep_features</th>\n",
       "      <th>image_array</th>\n",
       "    </tr>\n",
       "  </thead>\n",
       "  <tbody>\n",
       "    <tr>\n",
       "      <th>0</th>\n",
       "      <td>24</td>\n",
       "      <td>Height: 32 Width: 32</td>\n",
       "      <td>bird</td>\n",
       "      <td>[0.242872 1.09545 0 0.39363 0 0 11.8949 0 0 0 ...</td>\n",
       "      <td>[73, 77, 58, 71, 68, 50, 77, 69, 44, 120, 116,...</td>\n",
       "    </tr>\n",
       "    <tr>\n",
       "      <th>1</th>\n",
       "      <td>33</td>\n",
       "      <td>Height: 32 Width: 32</td>\n",
       "      <td>cat</td>\n",
       "      <td>[0.525088 0 0 0 0 0 9.94829 0 0 0 0 0 1.01264 ...</td>\n",
       "      <td>[7, 5, 8, 7, 5, 8, 5, 4, 6, 7, 4, 7, 11, 5, 9,...</td>\n",
       "    </tr>\n",
       "    <tr>\n",
       "      <th>2</th>\n",
       "      <td>36</td>\n",
       "      <td>Height: 32 Width: 32</td>\n",
       "      <td>cat</td>\n",
       "      <td>[0.566016 0 0 0 0 0 9.9972 0 0 0 1.38345 0 0.7...</td>\n",
       "      <td>[169, 122, 65, 131, 108, 75, 193, 196, 192, 21...</td>\n",
       "    </tr>\n",
       "    <tr>\n",
       "      <th>3</th>\n",
       "      <td>70</td>\n",
       "      <td>Height: 32 Width: 32</td>\n",
       "      <td>dog</td>\n",
       "      <td>[1.1298 0 0 0.778194 0 0.758051 9.83053 0 0 0....</td>\n",
       "      <td>[154, 179, 152, 159, 183, 157, 165, 189, 162, ...</td>\n",
       "    </tr>\n",
       "    <tr>\n",
       "      <th>4</th>\n",
       "      <td>90</td>\n",
       "      <td>Height: 32 Width: 32</td>\n",
       "      <td>bird</td>\n",
       "      <td>[1.71787 0 0 0 0 0 9.33936 0 0 0 0 0 0.412137 ...</td>\n",
       "      <td>[216, 195, 180, 201, 178, 160, 210, 184, 164, ...</td>\n",
       "    </tr>\n",
       "  </tbody>\n",
       "</table>\n",
       "</div>"
      ],
      "text/plain": [
       "   id                 image label  \\\n",
       "0  24  Height: 32 Width: 32  bird   \n",
       "1  33  Height: 32 Width: 32   cat   \n",
       "2  36  Height: 32 Width: 32   cat   \n",
       "3  70  Height: 32 Width: 32   dog   \n",
       "4  90  Height: 32 Width: 32  bird   \n",
       "\n",
       "                                       deep_features  \\\n",
       "0  [0.242872 1.09545 0 0.39363 0 0 11.8949 0 0 0 ...   \n",
       "1  [0.525088 0 0 0 0 0 9.94829 0 0 0 0 0 1.01264 ...   \n",
       "2  [0.566016 0 0 0 0 0 9.9972 0 0 0 1.38345 0 0.7...   \n",
       "3  [1.1298 0 0 0.778194 0 0.758051 9.83053 0 0 0....   \n",
       "4  [1.71787 0 0 0 0 0 9.33936 0 0 0 0 0 0.412137 ...   \n",
       "\n",
       "                                         image_array  \n",
       "0  [73, 77, 58, 71, 68, 50, 77, 69, 44, 120, 116,...  \n",
       "1  [7, 5, 8, 7, 5, 8, 5, 4, 6, 7, 4, 7, 11, 5, 9,...  \n",
       "2  [169, 122, 65, 131, 108, 75, 193, 196, 192, 21...  \n",
       "3  [154, 179, 152, 159, 183, 157, 165, 189, 162, ...  \n",
       "4  [216, 195, 180, 201, 178, 160, 210, 184, 164, ...  "
      ]
     },
     "execution_count": 39,
     "metadata": {},
     "output_type": "execute_result"
    }
   ],
   "source": [
    "image_train.head()"
   ]
  },
  {
   "cell_type": "markdown",
   "metadata": {},
   "source": [
    "# Given the deep features, let's train a classifier"
   ]
  },
  {
   "cell_type": "code",
   "execution_count": 40,
   "metadata": {
    "collapsed": true
   },
   "outputs": [],
   "source": [
    "image_train['deep_features'] = image_train['deep_features'].apply(lambda x: [float(i) for i in x[1:-1].split(' ')])\n",
    "image_test['deep_features'] = image_test['deep_features'].apply(lambda x: [float(i) for i in x[1:-1].split(' ')])"
   ]
  },
  {
   "cell_type": "code",
   "execution_count": 41,
   "metadata": {
    "collapsed": true
   },
   "outputs": [],
   "source": [
    "train_deep_features = [i for i in image_train['deep_features'].values]"
   ]
  },
  {
   "cell_type": "code",
   "execution_count": 42,
   "metadata": {},
   "outputs": [
    {
     "data": {
      "text/plain": [
       "LogisticRegression(C=1.0, class_weight=None, dual=False, fit_intercept=True,\n",
       "          intercept_scaling=1, max_iter=100, multi_class='ovr', n_jobs=1,\n",
       "          penalty='l2', random_state=None, solver='liblinear', tol=0.0001,\n",
       "          verbose=0, warm_start=False)"
      ]
     },
     "execution_count": 42,
     "metadata": {},
     "output_type": "execute_result"
    }
   ],
   "source": [
    "deep_features_model = LogisticRegression()\n",
    "deep_features_model.fit(train_deep_features, train_y)"
   ]
  },
  {
   "cell_type": "markdown",
   "metadata": {},
   "source": [
    "# Apply the deep features model to first few images of test set"
   ]
  },
  {
   "cell_type": "code",
   "execution_count": 43,
   "metadata": {
    "collapsed": true
   },
   "outputs": [],
   "source": [
    "#image_test[0:3]['image'].show()"
   ]
  },
  {
   "cell_type": "code",
   "execution_count": 44,
   "metadata": {
    "collapsed": true
   },
   "outputs": [],
   "source": [
    "test_deep_features = [i for i in image_test['deep_features'].values]"
   ]
  },
  {
   "cell_type": "code",
   "execution_count": 47,
   "metadata": {},
   "outputs": [
    {
     "data": {
      "text/plain": [
       "0           cat\n",
       "1    automobile\n",
       "2           cat\n",
       "Name: label, dtype: object"
      ]
     },
     "execution_count": 47,
     "metadata": {},
     "output_type": "execute_result"
    }
   ],
   "source": [
    "image_test[0:3]['label']"
   ]
  },
  {
   "cell_type": "code",
   "execution_count": 48,
   "metadata": {},
   "outputs": [
    {
     "data": {
      "text/plain": [
       "array(['cat', 'automobile', 'cat'], dtype=object)"
      ]
     },
     "execution_count": 48,
     "metadata": {},
     "output_type": "execute_result"
    }
   ],
   "source": [
    "le.inverse_transform(deep_features_model.predict(test_deep_features[0:3]))"
   ]
  },
  {
   "cell_type": "markdown",
   "metadata": {},
   "source": [
    "The classifier with deep features gets all of these images right!"
   ]
  },
  {
   "cell_type": "markdown",
   "metadata": {},
   "source": [
    "# Compute test_data accuracy of deep_features_model\n",
    "\n",
    "As we can see, deep features provide us with significantly better accuracy (about 78%)"
   ]
  },
  {
   "cell_type": "code",
   "execution_count": 49,
   "metadata": {},
   "outputs": [
    {
     "data": {
      "text/plain": [
       "0.79800000000000004"
      ]
     },
     "execution_count": 49,
     "metadata": {},
     "output_type": "execute_result"
    }
   ],
   "source": [
    "deep_pred = deep_features_model.predict(test_deep_features)\n",
    "true_label = le.transform(image_test['label'])\n",
    "accuracy_score(true_label, deep_pred)"
   ]
  },
  {
   "cell_type": "code",
   "execution_count": null,
   "metadata": {
    "collapsed": true
   },
   "outputs": [],
   "source": []
  }
 ],
 "metadata": {
  "kernelspec": {
   "display_name": "Python 2",
   "language": "python",
   "name": "python2"
  },
  "language_info": {
   "codemirror_mode": {
    "name": "ipython",
    "version": 2
   },
   "file_extension": ".py",
   "mimetype": "text/x-python",
   "name": "python",
   "nbconvert_exporter": "python",
   "pygments_lexer": "ipython2",
   "version": "2.7.14"
  }
 },
 "nbformat": 4,
 "nbformat_minor": 1
}
